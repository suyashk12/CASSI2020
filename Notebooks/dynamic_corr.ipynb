{
 "cells": [
  {
   "cell_type": "code",
   "execution_count": 187,
   "metadata": {},
   "outputs": [],
   "source": [
    "import numpy as np\n",
    "import matplotlib.pyplot as plt\n",
    "import pandas as pd\n",
    "import seaborn as sns\n",
    "import os"
   ]
  },
  {
   "cell_type": "markdown",
   "metadata": {},
   "source": [
    "Setting text properties for plots"
   ]
  },
  {
   "cell_type": "code",
   "execution_count": 188,
   "metadata": {},
   "outputs": [],
   "source": [
    "plt.rcParams.update({'font.size': 26})\n",
    "plt.ticklabel_format(axis='y', style='sci', scilimits=(0,0))\n",
    "plt.close()"
   ]
  },
  {
   "cell_type": "markdown",
   "metadata": {},
   "source": [
    "Importing dataset"
   ]
  },
  {
   "cell_type": "code",
   "execution_count": 189,
   "metadata": {},
   "outputs": [
    {
     "name": "stdout",
     "output_type": "stream",
     "text": [
      "Enter simulation directory path: /Users/thepoetoftwilight/Documents/CASSI2020/CASSI2020-Code+Results/Results/m11b_res2100_cr_heating_fix/\n"
     ]
    }
   ],
   "source": [
    "# Specifying simulation directory and the directory to save results in\n",
    "wdir = str(input('Enter simulation directory path: '))\n",
    "\n",
    "# Specifying a snapshot for temporal analysis\n",
    "sdir = wdir + 'temporal_analysis/'\n",
    "\n",
    "# Create a directory to store correlation plots\n",
    "if not os.path.exists(sdir + 'correlation_plots/'):\n",
    "    os.makedirs(sdir + 'correlation_plots/')"
   ]
  },
  {
   "cell_type": "code",
   "execution_count": 190,
   "metadata": {},
   "outputs": [],
   "source": [
    "# Read in all metals and find store directories to all metals\n",
    "metal_df = pd.read_csv((sdir + 'metal_list.csv'))\n",
    "metals = metal_df['metals'].to_list()\n",
    "\n",
    "spath_metals = {}\n",
    "\n",
    "for m in metals:\n",
    "    spath_metals[m] = sdir + m + '/'"
   ]
  },
  {
   "cell_type": "code",
   "execution_count": 191,
   "metadata": {},
   "outputs": [
    {
     "name": "stdout",
     "output_type": "stream",
     "text": [
      "     Unnamed: 0  snap     halo_mass      redshift       time  velocity_mass  \\\n",
      "0             0    80  5.736586e+09  4.338983e+00   1.439067      82.371468   \n",
      "1             1    85  5.620534e+09  4.121951e+00   1.530909      80.267014   \n",
      "2             2    90  6.047046e+09  3.923077e+00   1.623934      79.587395   \n",
      "3             3    95  6.995570e+09  3.740741e+00   1.717761      77.904190   \n",
      "4             4   100  8.517658e+09  3.571429e+00   1.813212      78.454208   \n",
      "..          ...   ...           ...           ...        ...            ...   \n",
      "100         100   580  4.568081e+10  1.782818e-02  13.553508     110.529854   \n",
      "101         101   585  4.578685e+10  9.646261e-03  13.665295     111.209183   \n",
      "102         102   590  4.588703e+10  1.594940e-03  13.776556     112.000145   \n",
      "103         103   595  4.589751e+10  7.968344e-04  13.787654     112.089027   \n",
      "104         104   600  4.590833e+10  4.440892e-16  13.798747     112.175308   \n",
      "\n",
      "     velocity_vol  velocity_spread  sound_mass  sound_vol  sound_spread  \\\n",
      "0      267.070435        39.128296   16.423941   5.092312      8.006872   \n",
      "1      264.888031        38.026661   16.721502   4.962770      7.017750   \n",
      "2      264.944885        37.083782   17.002121   4.816269      7.441302   \n",
      "3      262.885193        37.260902   17.386961   4.687529      8.220667   \n",
      "4      261.828064        37.334534   17.627327   4.598377      8.379253   \n",
      "..            ...              ...         ...        ...           ...   \n",
      "100    358.999207        82.701721   13.726567  14.968176      7.431759   \n",
      "101    361.441650        83.466270   13.697229  15.084653      7.400758   \n",
      "102    364.376434        84.350327   13.667845  15.220325      7.377919   \n",
      "103    364.696075        84.445732   13.664582  15.236164      7.375303   \n",
      "104    365.008148        84.538414   13.661895  15.252868      7.373178   \n",
      "\n",
      "     thermal_mass  thermal_vol  thermal_spread  mach_number_mass  \\\n",
      "0       22.035023     6.832050       10.742341          5.917894   \n",
      "1       22.434256     6.658252        9.415292          5.665373   \n",
      "2       22.810768     6.461695        9.983552          5.563579   \n",
      "3       23.327038     6.288981       11.029182          5.393513   \n",
      "4       23.649506     6.169374       11.241949          5.412826   \n",
      "..            ...          ...             ...               ...   \n",
      "100     18.416126    20.081932        9.970757         11.455653   \n",
      "101     18.376772    20.238176        9.929165         11.549847   \n",
      "102     18.337345    20.420218        9.898519         11.662672   \n",
      "103     18.332964    20.441441        9.895014         11.675543   \n",
      "104     18.329296    20.463850        9.892152         11.687638   \n",
      "\n",
      "     mach_number_vol  SFR@10Myr  SFR@100Myr  SFR@1000Myr  \n",
      "0         254.252060   0.020477    0.020473     0.013106  \n",
      "1         264.288055   0.011738    0.008686     0.013538  \n",
      "2         273.483643   0.054674    0.028664     0.015832  \n",
      "3         277.525574   0.002318    0.006352     0.015567  \n",
      "4         279.292114   0.003573    0.006884     0.015275  \n",
      "..               ...        ...         ...          ...  \n",
      "100       386.897064   0.000000    0.000438     0.000671  \n",
      "101       390.501007   0.000000    0.000000     0.000652  \n",
      "102       394.613190   0.000000    0.000000     0.000614  \n",
      "103       395.063812   0.000000    0.000000     0.000614  \n",
      "104       395.502655   0.000000    0.000000     0.000614  \n",
      "\n",
      "[105 rows x 19 columns]\n"
     ]
    }
   ],
   "source": [
    "# Obtained statistics for the rendered snapshots\n",
    "\n",
    "rendered_df = pd.read_csv(sdir + 'rendered_snap_stats.csv')\n",
    "\n",
    "print(rendered_df)\n",
    "\n",
    "params_df = {}\n",
    "\n",
    "for m in metals:\n",
    "    params_df[m] = pd.read_csv(spath_metals[m] + 'data/fit/fit_{}_params.csv'.format(m))"
   ]
  },
  {
   "cell_type": "code",
   "execution_count": 192,
   "metadata": {},
   "outputs": [
    {
     "name": "stdout",
     "output_type": "stream",
     "text": [
      "     spread_c  spread_n  spread_o  spread_ne  spread_mg  spread_si  spread_s  \\\n",
      "0    0.273186  0.277966  0.287693   0.287852   0.286844   0.283566  0.280925   \n",
      "1    0.329178  0.341778  0.329641   0.330077   0.328302   0.326794  0.325243   \n",
      "2    0.294792  0.314113  0.305549   0.305785   0.304577   0.299004  0.295357   \n",
      "3    0.432647  0.459161  0.374524   0.374270   0.370631   0.361504  0.354545   \n",
      "4    0.417466  0.452947  0.327801   0.327134   0.324317   0.326744  0.322831   \n",
      "..        ...       ...       ...        ...        ...        ...       ...   \n",
      "100  0.242832  0.249506  0.213795   0.212568   0.213421   0.234847  0.240933   \n",
      "101  0.262740  0.271493  0.225058   0.223508   0.224647   0.250936  0.258290   \n",
      "102  0.248643  0.258109  0.207948   0.206245   0.207560   0.236158  0.244118   \n",
      "103  0.243870  0.253172  0.203835   0.202164   0.203458   0.231617  0.239468   \n",
      "104  0.241523  0.250847  0.201461   0.199791   0.201091   0.229205  0.237038   \n",
      "\n",
      "     spread_ca  spread_fe  \n",
      "0     0.277661   0.274597  \n",
      "1     0.322976   0.346579  \n",
      "2     0.291054   0.279807  \n",
      "3     0.346093   0.360654  \n",
      "4     0.317281   0.342729  \n",
      "..         ...        ...  \n",
      "100   0.246136   0.284230  \n",
      "101   0.264558   0.308524  \n",
      "102   0.250893   0.295997  \n",
      "103   0.246153   0.290500  \n",
      "104   0.243707   0.287762  \n",
      "\n",
      "[105 rows x 9 columns]\n"
     ]
    }
   ],
   "source": [
    "# Correlating abundance spread of all elements with each other\n",
    "\n",
    "columns_spread = ['spread_' + m for m in metals]\n",
    "\n",
    "spread_df = pd.DataFrame(columns = columns_spread)\n",
    "\n",
    "for m in metals:\n",
    "    spread_df['spread_' + m] = params_df[m]['std']\n",
    "    \n",
    "print(spread_df)\n",
    "    \n",
    "spread_corr = spread_df.corr()\n",
    "\n",
    "plt.subplots(figsize = (13, 13))\n",
    "sns.heatmap(spread_corr, annot = True, square = True)\n",
    "plt.savefig(sdir + 'correlation_plots/spread_corr.png')\n",
    "plt.close()"
   ]
  },
  {
   "cell_type": "code",
   "execution_count": 193,
   "metadata": {},
   "outputs": [
    {
     "name": "stdout",
     "output_type": "stream",
     "text": [
      "     cent_mass_c  cent_mass_n  cent_mass_o  cent_mass_ne  cent_mass_mg  \\\n",
      "0      -1.839405    -2.214950    -1.564205     -1.497055     -1.739327   \n",
      "1      -1.966009    -2.332348    -1.739063     -1.673736     -1.914229   \n",
      "2      -1.729282    -2.093389    -1.475868     -1.408216     -1.650392   \n",
      "3      -2.270604    -2.486179    -2.457338     -2.388609     -2.624680   \n",
      "4      -2.011971    -2.280942    -2.094209     -2.027024     -2.265610   \n",
      "..           ...          ...          ...           ...           ...   \n",
      "100    -1.424815    -1.672413    -1.408894     -1.345314     -1.583906   \n",
      "101    -1.373744    -1.619641    -1.366954     -1.304099     -1.542237   \n",
      "102    -1.263021    -1.506062    -1.270782     -1.208727     -1.446109   \n",
      "103    -1.258691    -1.501461    -1.267928     -1.206247     -1.443540   \n",
      "104    -1.257325    -1.500257    -1.267199     -1.205632     -1.442790   \n",
      "\n",
      "     cent_mass_si  cent_mass_s  cent_mass_ca  cent_mass_fe  \n",
      "0       -1.725181    -1.779511     -2.057963     -2.077824  \n",
      "1       -1.877310    -1.924252     -2.196610     -2.171545  \n",
      "2       -1.641881    -1.698062     -1.978476     -2.015325  \n",
      "3       -2.582979    -2.613392     -2.867333     -2.811920  \n",
      "4       -2.228704    -2.273456     -2.539836     -2.498913  \n",
      "..            ...          ...           ...           ...  \n",
      "100     -1.492507    -1.520945     -1.775184     -1.589381  \n",
      "101     -1.444068    -1.470557     -1.722680     -1.526560  \n",
      "102     -1.334648    -1.357515     -1.607124     -1.391815  \n",
      "103     -1.331105    -1.353856     -1.603383     -1.386817  \n",
      "104     -1.330264    -1.352831     -1.602221     -1.385315  \n",
      "\n",
      "[105 rows x 9 columns]\n"
     ]
    }
   ],
   "source": [
    "columns_cent_mass = ['cent_mass_' + m for m in metals]\n",
    "\n",
    "cent_mass_df = pd.DataFrame(columns = columns_cent_mass)\n",
    "\n",
    "for m in metals:\n",
    "    cent_mass_df['cent_mass_' + m] = params_df[m]['median_mass']\n",
    "    \n",
    "print(cent_mass_df)\n",
    "    \n",
    "cent_mass_corr = cent_mass_df.corr()\n",
    "\n",
    "plt.subplots(figsize = (13, 13))\n",
    "sns.heatmap(cent_mass_corr, annot = True, square = True)\n",
    "plt.savefig(sdir + 'correlation_plots/cent_mass_corr.png')\n",
    "plt.close()"
   ]
  },
  {
   "cell_type": "code",
   "execution_count": 194,
   "metadata": {
    "scrolled": false
   },
   "outputs": [
    {
     "name": "stdout",
     "output_type": "stream",
     "text": [
      "     cent_vol_c  cent_vol_n  cent_vol_o  cent_vol_ne  cent_vol_mg  \\\n",
      "0     -1.859261   -2.215861   -1.602841    -1.535623    -1.777765   \n",
      "1     -1.964802   -2.312830   -1.803222    -1.737639    -1.978045   \n",
      "2     -1.931568   -2.253857   -1.763793    -1.696268    -1.937717   \n",
      "3     -2.205176   -2.473667   -2.458245    -2.388693    -2.624727   \n",
      "4     -2.254813   -2.596703   -2.143177    -2.076087    -2.314845   \n",
      "..          ...         ...         ...          ...          ...   \n",
      "100   -1.301703   -1.545349   -1.304868    -1.242274    -1.480239   \n",
      "101   -1.498332   -1.749532   -1.467097    -1.403029    -1.641912   \n",
      "102   -1.392871   -1.638856   -1.383503    -1.320710    -1.558681   \n",
      "103   -1.378187   -1.623371   -1.371075    -1.308080    -1.546246   \n",
      "104   -1.369584   -1.614709   -1.364522    -1.301812    -1.539715   \n",
      "\n",
      "     cent_vol_si  cent_vol_s  cent_vol_ca  cent_vol_fe  \n",
      "0      -1.761637   -1.813801    -2.091517    -2.103392  \n",
      "1      -1.931435   -1.965122    -2.230508    -2.194937  \n",
      "2      -1.917680   -1.967991    -2.242390    -2.237361  \n",
      "3      -2.582303   -2.612632    -2.867379    -2.799040  \n",
      "4      -2.282741   -2.328743    -2.597770    -2.582295  \n",
      "..           ...         ...          ...          ...  \n",
      "100    -1.374972   -1.398849    -1.648869    -1.440599  \n",
      "101    -1.561572   -1.592513    -1.849439    -1.681376  \n",
      "102    -1.462133   -1.488728    -1.741492    -1.548023  \n",
      "103    -1.448264   -1.474009    -1.726814    -1.530677  \n",
      "104    -1.440528   -1.466545    -1.718965    -1.522181  \n",
      "\n",
      "[105 rows x 9 columns]\n"
     ]
    }
   ],
   "source": [
    "columns_cent_vol = ['cent_vol_' + m for m in metals]\n",
    "\n",
    "cent_vol_df = pd.DataFrame(columns = columns_cent_vol)\n",
    "\n",
    "for m in metals:\n",
    "    cent_vol_df['cent_vol_' + m] = params_df[m]['median_vol']\n",
    "    \n",
    "print(cent_vol_df)\n",
    "    \n",
    "cent_vol_corr = cent_vol_df.corr()\n",
    "\n",
    "plt.subplots(figsize = (13, 13))\n",
    "sns.heatmap(cent_vol_corr, annot = True, square = True)\n",
    "plt.savefig(sdir + 'correlation_plots/cent_vol_corr.png')\n",
    "plt.close()"
   ]
  },
  {
   "cell_type": "code",
   "execution_count": 195,
   "metadata": {
    "scrolled": false
   },
   "outputs": [
    {
     "name": "stdout",
     "output_type": "stream",
     "text": [
      "             cent_mass_c  cent_mass_n  cent_mass_o  cent_mass_ne  \\\n",
      "cent_vol_c      0.911602     0.914912     0.825118      0.823178   \n",
      "cent_vol_n      0.920223     0.929146     0.812194      0.809911   \n",
      "cent_vol_o      0.858979     0.835051     0.884924      0.884755   \n",
      "cent_vol_ne     0.857248     0.833095     0.884528      0.884422   \n",
      "cent_vol_mg     0.859100     0.835352     0.884429      0.884269   \n",
      "cent_vol_si     0.884259     0.866571     0.879297      0.878106   \n",
      "cent_vol_s      0.889783     0.874081     0.875503      0.874004   \n",
      "cent_vol_ca     0.893882     0.880122     0.870613      0.868832   \n",
      "cent_vol_fe     0.909638     0.906467     0.839963      0.836791   \n",
      "\n",
      "             cent_mass_mg  cent_mass_si  cent_mass_s  cent_mass_ca  \\\n",
      "cent_vol_c       0.825730      0.858023     0.865253      0.870556   \n",
      "cent_vol_n       0.812861      0.851542     0.860805      0.867998   \n",
      "cent_vol_o       0.885154      0.883277     0.879609      0.874779   \n",
      "cent_vol_ne      0.884771      0.881964     0.878037      0.872969   \n",
      "cent_vol_mg      0.884671      0.882735     0.879068      0.874237   \n",
      "cent_vol_si      0.879396      0.893858     0.894867      0.894431   \n",
      "cent_vol_s       0.875568      0.894826     0.897258      0.898128   \n",
      "cent_vol_ca      0.870647      0.894466     0.898232      0.900362   \n",
      "cent_vol_fe      0.839885      0.885498     0.895895      0.904064   \n",
      "\n",
      "             cent_mass_fe  \n",
      "cent_vol_c       0.881062  \n",
      "cent_vol_n       0.887647  \n",
      "cent_vol_o       0.837837  \n",
      "cent_vol_ne      0.834976  \n",
      "cent_vol_mg      0.837340  \n",
      "cent_vol_si      0.876651  \n",
      "cent_vol_s       0.886339  \n",
      "cent_vol_ca      0.894147  \n",
      "cent_vol_fe      0.926675  \n"
     ]
    }
   ],
   "source": [
    "cent_mass_cent_vol_corr = pd.concat([cent_vol_df, cent_mass_df], axis=1, \n",
    "                                keys=['cent_vol_df', 'cent_mass_df']).corr().loc['cent_vol_df', 'cent_mass_df']\n",
    "print(cent_mass_cent_vol_corr)\n",
    "\n",
    "plt.subplots(figsize = (13, 13))\n",
    "sns.heatmap(cent_mass_cent_vol_corr, annot = True, square = True)\n",
    "plt.savefig(sdir + 'correlation_plots/cent_mass_cent_vol_corr.png')\n",
    "plt.close()"
   ]
  },
  {
   "cell_type": "code",
   "execution_count": 196,
   "metadata": {},
   "outputs": [
    {
     "name": "stdout",
     "output_type": "stream",
     "text": [
      "              spread_c  spread_n  spread_o  spread_ne  spread_mg  spread_si  \\\n",
      "cent_mass_c  -0.688352 -0.722107 -0.705659  -0.708627  -0.706182  -0.643572   \n",
      "cent_mass_n  -0.674698 -0.705816 -0.706360  -0.709543  -0.707105  -0.641784   \n",
      "cent_mass_o  -0.692363 -0.731397 -0.658790  -0.660771  -0.658319  -0.610502   \n",
      "cent_mass_ne -0.693524 -0.732276 -0.659660  -0.661596  -0.659200  -0.612189   \n",
      "cent_mass_mg -0.693187 -0.732088 -0.659983  -0.661961  -0.659527  -0.611814   \n",
      "cent_mass_si -0.681413 -0.723420 -0.654464  -0.656968  -0.653957  -0.596636   \n",
      "cent_mass_s  -0.675778 -0.718510 -0.651334  -0.654009  -0.650831  -0.590644   \n",
      "cent_mass_ca -0.670375 -0.713757 -0.647738  -0.650532  -0.647233  -0.584934   \n",
      "cent_mass_fe -0.629770 -0.674621 -0.622566  -0.626151  -0.622155  -0.547417   \n",
      "\n",
      "              spread_s  spread_ca  spread_fe  \n",
      "cent_mass_c  -0.623057  -0.602343  -0.509085  \n",
      "cent_mass_n  -0.620431  -0.598979  -0.498348  \n",
      "cent_mass_o  -0.594488  -0.577832  -0.518983  \n",
      "cent_mass_ne -0.596450  -0.580062  -0.522151  \n",
      "cent_mass_mg -0.595845  -0.579238  -0.520362  \n",
      "cent_mass_si -0.577270  -0.557341  -0.484818  \n",
      "cent_mass_s  -0.570301  -0.549435  -0.472896  \n",
      "cent_mass_ca -0.563847  -0.542261  -0.462636  \n",
      "cent_mass_fe -0.522210  -0.496741  -0.399396  \n"
     ]
    }
   ],
   "source": [
    "spread_cent_mass_corr = pd.concat([cent_mass_df, spread_df], axis=1, keys=['cent_mass_df', 'spread_df']).corr().loc['cent_mass_df', 'spread_df']\n",
    "print(spread_cent_mass_corr)\n",
    "\n",
    "plt.subplots(figsize = (13, 13))\n",
    "sns.heatmap(spread_cent_mass_corr, annot = True, square = True)\n",
    "plt.savefig(sdir + 'correlation_plots/spread_cent_mass_corr.png')\n",
    "plt.close()"
   ]
  },
  {
   "cell_type": "code",
   "execution_count": 197,
   "metadata": {},
   "outputs": [
    {
     "name": "stdout",
     "output_type": "stream",
     "text": [
      "             spread_c  spread_n  spread_o  spread_ne  spread_mg  spread_si  \\\n",
      "cent_vol_c  -0.801250 -0.818591 -0.805316  -0.807460  -0.804724  -0.756493   \n",
      "cent_vol_n  -0.780249 -0.799638 -0.791675  -0.794021  -0.791316  -0.739767   \n",
      "cent_vol_o  -0.837128 -0.849722 -0.814739  -0.816201  -0.813236  -0.775689   \n",
      "cent_vol_ne -0.838380 -0.850598 -0.816038  -0.817468  -0.814537  -0.777552   \n",
      "cent_vol_mg -0.837437 -0.849924 -0.815391  -0.816851  -0.813900  -0.776424   \n",
      "cent_vol_si -0.815841 -0.833500 -0.795362  -0.797204  -0.793898  -0.749097   \n",
      "cent_vol_s  -0.806977 -0.826160 -0.787557  -0.789541  -0.786116  -0.738821   \n",
      "cent_vol_ca -0.798756 -0.819336 -0.779927  -0.782011  -0.778504  -0.729353   \n",
      "cent_vol_fe -0.743024 -0.770420 -0.733292  -0.736154  -0.732105  -0.670300   \n",
      "\n",
      "             spread_s  spread_ca  spread_fe  \n",
      "cent_vol_c  -0.737281  -0.716698  -0.631913  \n",
      "cent_vol_n  -0.719867  -0.698782  -0.608839  \n",
      "cent_vol_o  -0.759157  -0.740724  -0.678334  \n",
      "cent_vol_ne -0.761198  -0.742934  -0.681142  \n",
      "cent_vol_mg -0.759925  -0.741528  -0.679099  \n",
      "cent_vol_si -0.730261  -0.709664  -0.638079  \n",
      "cent_vol_s  -0.719229  -0.697939  -0.623354  \n",
      "cent_vol_ca -0.709191  -0.687377  -0.610502  \n",
      "cent_vol_fe -0.646580  -0.621622  -0.530362  \n"
     ]
    }
   ],
   "source": [
    "spread_cent_vol_corr = pd.concat([cent_vol_df, spread_df], axis=1, keys=['cent_vol_df', 'spread_df']).corr().loc['cent_vol_df', 'spread_df']\n",
    "print(spread_cent_vol_corr)\n",
    "\n",
    "plt.subplots(figsize = (13, 13))\n",
    "sns.heatmap(spread_cent_vol_corr, annot = True, square = True)\n",
    "plt.savefig(sdir + 'correlation_plots/spread_cent_vol_corr.png')\n",
    "plt.close()"
   ]
  },
  {
   "cell_type": "code",
   "execution_count": 198,
   "metadata": {},
   "outputs": [
    {
     "name": "stdout",
     "output_type": "stream",
     "text": [
      "     spread_fe  cent_mass_fe  cent_vol_fe\n",
      "0     0.274597     -2.077824    -2.103392\n",
      "1     0.346579     -2.171545    -2.194937\n",
      "2     0.279807     -2.015325    -2.237361\n",
      "3     0.360654     -2.811920    -2.799040\n",
      "4     0.342729     -2.498913    -2.582295\n",
      "..         ...           ...          ...\n",
      "100   0.284230     -1.589381    -1.440599\n",
      "101   0.308524     -1.526560    -1.681376\n",
      "102   0.295997     -1.391815    -1.548023\n",
      "103   0.290500     -1.386817    -1.530677\n",
      "104   0.287762     -1.385315    -1.522181\n",
      "\n",
      "[105 rows x 3 columns]\n"
     ]
    }
   ],
   "source": [
    "fe_columns = ['spread_fe', 'cent_mass_fe', 'cent_vol_fe']\n",
    "fe_df = pd.DataFrame({'spread_fe': params_df['fe']['std'], 'cent_mass_fe': params_df['fe']['median_mass'],\n",
    "                     'cent_vol_fe': params_df['fe']['median_vol']})\n",
    "\n",
    "print(fe_df)"
   ]
  },
  {
   "cell_type": "code",
   "execution_count": 199,
   "metadata": {},
   "outputs": [
    {
     "name": "stdout",
     "output_type": "stream",
     "text": [
      "              SFR@10Myr  SFR@100Myr  SFR@1000Myr\n",
      "spread_fe      0.274170    0.140103     0.342408\n",
      "cent_mass_fe  -0.414053   -0.511329    -0.872767\n",
      "cent_vol_fe   -0.485037   -0.490782    -0.841936\n"
     ]
    }
   ],
   "source": [
    "SFR_df = rendered_df[['SFR@10Myr', 'SFR@100Myr', 'SFR@1000Myr']].copy()\n",
    "\n",
    "SFR_chem_corr = pd.concat([fe_df, SFR_df], axis=1, keys=['fe_df', 'SFR_df']).corr().loc['fe_df', 'SFR_df']\n",
    "print(SFR_chem_corr)\n",
    "\n",
    "plt.subplots(figsize = (13, 13))\n",
    "sns.heatmap(SFR_chem_corr, annot = True, square = True)\n",
    "plt.savefig(sdir + 'correlation_plots/SFR_fe_corr.png')\n",
    "plt.close()"
   ]
  },
  {
   "cell_type": "code",
   "execution_count": 200,
   "metadata": {},
   "outputs": [
    {
     "name": "stdout",
     "output_type": "stream",
     "text": [
      "              halo_mass\n",
      "spread_fe     -0.197443\n",
      "cent_mass_fe   0.886008\n",
      "cent_vol_fe    0.839713\n"
     ]
    }
   ],
   "source": [
    "halo_df = rendered_df[['halo_mass']].copy()\n",
    "\n",
    "halo_chem_corr = pd.concat([fe_df, halo_df], axis=1, keys=['fe_df', 'halo_df']).corr().loc['fe_df', 'halo_df']\n",
    "print(halo_chem_corr)\n",
    "\n",
    "plt.subplots(figsize = (13, 13))\n",
    "sns.heatmap(halo_chem_corr, annot = True, square = True)\n",
    "plt.savefig(sdir + 'correlation_plots/halo_fe_corr.png')\n",
    "plt.close()"
   ]
  },
  {
   "cell_type": "code",
   "execution_count": 201,
   "metadata": {},
   "outputs": [
    {
     "name": "stdout",
     "output_type": "stream",
     "text": [
      "              velocity_mass  sound_mass  thermal_mass  velocity_vol  \\\n",
      "spread_fe          0.351429   -0.042216     -0.042215      0.360447   \n",
      "cent_mass_fe       0.523551   -0.763940     -0.763939      0.547088   \n",
      "cent_vol_fe        0.448705   -0.703131     -0.703131      0.467963   \n",
      "\n",
      "              sound_vol  thermal_vol  \n",
      "spread_fe      0.110605     0.110605  \n",
      "cent_mass_fe   0.710598     0.710598  \n",
      "cent_vol_fe    0.649466     0.649466  \n"
     ]
    }
   ],
   "source": [
    "velo_df = rendered_df[['velocity_mass', 'sound_mass', 'thermal_mass',\n",
    "                      'velocity_vol', 'sound_vol', 'thermal_vol']].copy()\n",
    "\n",
    "velo_chem_corr = pd.concat([fe_df, velo_df], axis=1, keys=['fe_df', 'velo_df']).corr().loc['fe_df', 'velo_df']\n",
    "print(velo_chem_corr)\n",
    "\n",
    "plt.subplots(figsize = (13, 13))\n",
    "sns.heatmap(velo_chem_corr, annot = True, square = True)\n",
    "plt.savefig(sdir + 'correlation_plots/velo_fe_corr.png')\n",
    "plt.close()"
   ]
  },
  {
   "cell_type": "code",
   "execution_count": 202,
   "metadata": {},
   "outputs": [
    {
     "name": "stdout",
     "output_type": "stream",
     "text": [
      "              mach_number_mass\n",
      "spread_fe             0.208558\n",
      "cent_mass_fe          0.668811\n",
      "cent_vol_fe           0.598833\n"
     ]
    }
   ],
   "source": [
    "mach_df = rendered_df[['mach_number_mass']].copy()\n",
    "\n",
    "mach_chem_corr = pd.concat([fe_df, mach_df], axis=1, keys=['fe_df', 'mach_df']).corr().loc['fe_df', 'mach_df']\n",
    "print(mach_chem_corr)\n",
    "\n",
    "plt.subplots(figsize = (13, 13))\n",
    "sns.heatmap(mach_chem_corr, annot = True, square = True)\n",
    "plt.savefig(sdir + 'correlation_plots/mach_fe_corr.png')\n",
    "plt.close()"
   ]
  }
 ],
 "metadata": {
  "kernelspec": {
   "display_name": "Python 3",
   "language": "python",
   "name": "python3"
  },
  "language_info": {
   "codemirror_mode": {
    "name": "ipython",
    "version": 3
   },
   "file_extension": ".py",
   "mimetype": "text/x-python",
   "name": "python",
   "nbconvert_exporter": "python",
   "pygments_lexer": "ipython3",
   "version": "3.7.6"
  }
 },
 "nbformat": 4,
 "nbformat_minor": 4
}
