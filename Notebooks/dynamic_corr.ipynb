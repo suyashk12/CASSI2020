{
 "cells": [
  {
   "cell_type": "code",
   "execution_count": 68,
   "metadata": {},
   "outputs": [],
   "source": [
    "import numpy as np\n",
    "import matplotlib.pyplot as plt\n",
    "import pandas as pd\n",
    "import seaborn as sns\n",
    "import os"
   ]
  },
  {
   "cell_type": "markdown",
   "metadata": {},
   "source": [
    "Setting text properties for plots"
   ]
  },
  {
   "cell_type": "code",
   "execution_count": 69,
   "metadata": {},
   "outputs": [],
   "source": [
    "plt.rcParams.update({'font.size': 26})\n",
    "plt.ticklabel_format(axis='y', style='sci', scilimits=(0,0))\n",
    "plt.close()"
   ]
  },
  {
   "cell_type": "markdown",
   "metadata": {},
   "source": [
    "Importing dataset"
   ]
  },
  {
   "cell_type": "code",
   "execution_count": 70,
   "metadata": {},
   "outputs": [
    {
     "name": "stdout",
     "output_type": "stream",
     "text": [
      "Enter simulation directory path: /Users/thepoetoftwilight/Documents/CASSI2020/CASSI2020-Code+Results/Results/m11b_res2100_cr_heating_fix/\n"
     ]
    }
   ],
   "source": [
    "# Specifying simulation directory and the directory to save results in\n",
    "wdir = str(input('Enter simulation directory path: '))\n",
    "\n",
    "# Specifying a snapshot for temporal analysis\n",
    "sdir = wdir + 'temporal_analysis/'\n",
    "\n",
    "# Create a directory to store correlation plots\n",
    "if not os.path.exists(sdir + 'correlation_plots/'):\n",
    "    os.makedirs(sdir + 'correlation_plots/')"
   ]
  },
  {
   "cell_type": "code",
   "execution_count": 71,
   "metadata": {},
   "outputs": [],
   "source": [
    "# Read in all metals and find store directories to all metals\n",
    "metal_df = pd.read_csv((sdir + 'metal_list.csv'))\n",
    "metals = metal_df['metals'].to_list()\n",
    "\n",
    "spath_metals = {}\n",
    "\n",
    "for m in metals:\n",
    "    spath_metals[m] = sdir + m + '/'"
   ]
  },
  {
   "cell_type": "code",
   "execution_count": 72,
   "metadata": {},
   "outputs": [
    {
     "name": "stdout",
     "output_type": "stream",
     "text": [
      "     Unnamed: 0  snap     halo_mass      redshift       time  velocity_mass  \\\n",
      "0             0    80  5.736586e+09  4.338983e+00   1.439067      82.371468   \n",
      "1             1    85  5.620534e+09  4.121951e+00   1.530909      80.267014   \n",
      "2             2    90  6.047046e+09  3.923077e+00   1.623934      79.587395   \n",
      "3             3    95  6.995570e+09  3.740741e+00   1.717761      77.904190   \n",
      "4             4   100  8.517658e+09  3.571429e+00   1.813212      78.454208   \n",
      "..          ...   ...           ...           ...        ...            ...   \n",
      "100         100   580  4.568081e+10  1.782818e-02  13.553508     110.529854   \n",
      "101         101   585  4.578685e+10  9.646261e-03  13.665295     111.209183   \n",
      "102         102   590  4.588703e+10  1.594940e-03  13.776556     112.000145   \n",
      "103         103   595  4.589751e+10  7.968344e-04  13.787654     112.089027   \n",
      "104         104   600  4.590833e+10  4.440892e-16  13.798747     112.175308   \n",
      "\n",
      "     velocity_vol  velocity_spread  sound_mass  sound_vol  sound_spread  \\\n",
      "0      267.070435        39.128296   16.423941   5.092312      8.006872   \n",
      "1      264.888031        38.026661   16.721502   4.962770      7.017750   \n",
      "2      264.944885        37.083782   17.002121   4.816269      7.441302   \n",
      "3      262.885193        37.260902   17.386961   4.687529      8.220667   \n",
      "4      261.828064        37.334534   17.627327   4.598377      8.379253   \n",
      "..            ...              ...         ...        ...           ...   \n",
      "100    358.999207        82.701721   13.726567  14.968176      7.431759   \n",
      "101    361.441650        83.466270   13.697229  15.084653      7.400758   \n",
      "102    364.376434        84.350327   13.667845  15.220325      7.377919   \n",
      "103    364.696075        84.445732   13.664582  15.236164      7.375303   \n",
      "104    365.008148        84.538414   13.661895  15.252868      7.373178   \n",
      "\n",
      "     thermal_mass  thermal_vol  thermal_spread  mach_number_mass  \\\n",
      "0       22.035023     6.832050       10.742341          5.917894   \n",
      "1       22.434256     6.658252        9.415292          5.665373   \n",
      "2       22.810768     6.461695        9.983552          5.563579   \n",
      "3       23.327038     6.288981       11.029182          5.393513   \n",
      "4       23.649506     6.169374       11.241949          5.412826   \n",
      "..            ...          ...             ...               ...   \n",
      "100     18.416126    20.081932        9.970757         11.455653   \n",
      "101     18.376772    20.238176        9.929165         11.549847   \n",
      "102     18.337345    20.420218        9.898519         11.662672   \n",
      "103     18.332964    20.441441        9.895014         11.675543   \n",
      "104     18.329296    20.463850        9.892152         11.687638   \n",
      "\n",
      "     mach_number_vol  SFR@10Myr  SFR@100Myr  SFR@1000Myr  \n",
      "0         254.252060   0.020477    0.020473     0.013106  \n",
      "1         264.288055   0.011738    0.008686     0.013538  \n",
      "2         273.483643   0.054674    0.028664     0.015832  \n",
      "3         277.525574   0.002318    0.006352     0.015567  \n",
      "4         279.292114   0.003573    0.006884     0.015275  \n",
      "..               ...        ...         ...          ...  \n",
      "100       386.897064   0.000000    0.000438     0.000671  \n",
      "101       390.501007   0.000000    0.000000     0.000652  \n",
      "102       394.613190   0.000000    0.000000     0.000614  \n",
      "103       395.063812   0.000000    0.000000     0.000614  \n",
      "104       395.502655   0.000000    0.000000     0.000614  \n",
      "\n",
      "[105 rows x 19 columns]\n"
     ]
    }
   ],
   "source": [
    "# Obtained statistics for the rendered snapshots\n",
    "\n",
    "rendered_df = pd.read_csv(sdir + 'rendered_snap_stats.csv')\n",
    "\n",
    "print(rendered_df)\n",
    "\n",
    "params_df = {}\n",
    "\n",
    "for m in metals:\n",
    "    params_df[m] = pd.read_csv(spath_metals[m] + 'data/fit/fit_{}_params.csv'.format(m))"
   ]
  },
  {
   "cell_type": "code",
   "execution_count": 73,
   "metadata": {},
   "outputs": [],
   "source": [
    "# Correlating abundance spread of all elements with each other\n",
    "\n",
    "columns_spread = ['spread_' + m for m in metals]\n",
    "\n",
    "spread_df = pd.DataFrame(columns = columns_spread)\n",
    "\n",
    "for m in metals:\n",
    "    spread_df['spread_' + m] = params_df[m]['std']\n",
    "    \n",
    "spread_corr = spread_df.corr()\n",
    "\n",
    "plt.subplots(figsize = (13, 13))\n",
    "sns.heatmap(spread_corr, annot = True, square = True)\n",
    "plt.savefig(sdir + 'correlation_plots/spread_corr.png')\n",
    "plt.close()"
   ]
  },
  {
   "cell_type": "code",
   "execution_count": 74,
   "metadata": {},
   "outputs": [],
   "source": [
    "columns_cent = ['central_' + m for m in metals]\n",
    "\n",
    "cent_df = pd.DataFrame(columns = columns_cent)\n",
    "\n",
    "for m in metals:\n",
    "    cent_df['cent_' + m] = params_df[m]['median_mass']\n",
    "    \n",
    "cent_corr = cent_df.corr()\n",
    "\n",
    "plt.subplots(figsize = (13, 13))\n",
    "sns.heatmap(cent_corr, annot = True, square = True)\n",
    "plt.savefig(sdir + 'correlation_plots/cent_corr.png')\n",
    "plt.close()"
   ]
  },
  {
   "cell_type": "code",
   "execution_count": 75,
   "metadata": {},
   "outputs": [
    {
     "name": "stdout",
     "output_type": "stream",
     "text": [
      "         spread_c  spread_n  spread_o  spread_ne  spread_mg  spread_si  \\\n",
      "cent_c  -0.688352 -0.722107 -0.705659  -0.708627  -0.706182  -0.643572   \n",
      "cent_n  -0.674698 -0.705816 -0.706360  -0.709543  -0.707105  -0.641784   \n",
      "cent_o  -0.692363 -0.731397 -0.658790  -0.660771  -0.658319  -0.610502   \n",
      "cent_ne -0.693524 -0.732276 -0.659660  -0.661596  -0.659200  -0.612189   \n",
      "cent_mg -0.693187 -0.732088 -0.659983  -0.661961  -0.659527  -0.611814   \n",
      "cent_si -0.681413 -0.723420 -0.654464  -0.656968  -0.653957  -0.596636   \n",
      "cent_s  -0.675778 -0.718510 -0.651334  -0.654009  -0.650831  -0.590644   \n",
      "cent_ca -0.670375 -0.713757 -0.647738  -0.650532  -0.647233  -0.584934   \n",
      "cent_fe -0.629770 -0.674621 -0.622566  -0.626151  -0.622155  -0.547417   \n",
      "\n",
      "         spread_s  spread_ca  spread_fe  \n",
      "cent_c  -0.623057  -0.602343  -0.509085  \n",
      "cent_n  -0.620431  -0.598979  -0.498348  \n",
      "cent_o  -0.594488  -0.577832  -0.518983  \n",
      "cent_ne -0.596450  -0.580062  -0.522151  \n",
      "cent_mg -0.595845  -0.579238  -0.520362  \n",
      "cent_si -0.577270  -0.557341  -0.484818  \n",
      "cent_s  -0.570301  -0.549435  -0.472896  \n",
      "cent_ca -0.563847  -0.542261  -0.462636  \n",
      "cent_fe -0.522210  -0.496741  -0.399396  \n"
     ]
    }
   ],
   "source": [
    "spread_cent_corr = pd.concat([cent_df, spread_df], axis=1, keys=['cent_df', 'spread_df']).corr().loc['cent_df', 'spread_df']\n",
    "print(spread_cent_corr)\n",
    "\n",
    "plt.subplots(figsize = (13, 13))\n",
    "sns.heatmap(spread_cent_corr, annot = True, square = True)\n",
    "plt.savefig(sdir + 'correlation_plots/spread_cent_corr.png')\n",
    "plt.close()"
   ]
  },
  {
   "cell_type": "code",
   "execution_count": 76,
   "metadata": {},
   "outputs": [],
   "source": [
    "fe_columns = ['spread_fe', 'cent_fe']\n",
    "fe_df = pd.DataFrame({'spread_fe': params_df['fe']['std'], 'cent_fe': params_df['fe']['median_mass']})"
   ]
  },
  {
   "cell_type": "code",
   "execution_count": 77,
   "metadata": {},
   "outputs": [
    {
     "name": "stdout",
     "output_type": "stream",
     "text": [
      "           SFR@10Myr  SFR@100Myr  SFR@1000Myr\n",
      "spread_fe   0.274170    0.140103     0.342408\n",
      "cent_fe    -0.414053   -0.511329    -0.872767\n"
     ]
    }
   ],
   "source": [
    "SFR_df = rendered_df[['SFR@10Myr', 'SFR@100Myr', 'SFR@1000Myr']].copy()\n",
    "\n",
    "SFR_chem_corr = pd.concat([fe_df, SFR_df], axis=1, keys=['fe_df', 'SFR_df']).corr().loc['fe_df', 'SFR_df']\n",
    "print(SFR_chem_corr)\n",
    "\n",
    "plt.subplots(figsize = (13, 13))\n",
    "sns.heatmap(SFR_chem_corr, annot = True, square = True)\n",
    "plt.savefig(sdir + 'correlation_plots/SFR_fe_corr.png')\n",
    "plt.close()"
   ]
  },
  {
   "cell_type": "code",
   "execution_count": 78,
   "metadata": {},
   "outputs": [
    {
     "name": "stdout",
     "output_type": "stream",
     "text": [
      "           halo_mass\n",
      "spread_fe  -0.197443\n",
      "cent_fe     0.886008\n"
     ]
    }
   ],
   "source": [
    "halo_df = rendered_df[['halo_mass']].copy()\n",
    "\n",
    "halo_chem_corr = pd.concat([fe_df, halo_df], axis=1, keys=['fe_df', 'halo_df']).corr().loc['fe_df', 'halo_df']\n",
    "print(halo_chem_corr)\n",
    "\n",
    "plt.subplots(figsize = (13, 13))\n",
    "sns.heatmap(halo_chem_corr, annot = True, square = True)\n",
    "plt.savefig(sdir + 'correlation_plots/halo_fe_corr.png')\n",
    "plt.close()"
   ]
  },
  {
   "cell_type": "code",
   "execution_count": 79,
   "metadata": {},
   "outputs": [
    {
     "name": "stdout",
     "output_type": "stream",
     "text": [
      "           velocity_mass  sound_mass  thermal_mass\n",
      "spread_fe       0.351429   -0.042216     -0.042215\n",
      "cent_fe         0.523551   -0.763940     -0.763939\n"
     ]
    }
   ],
   "source": [
    "velo_df = rendered_df[['velocity_mass', 'sound_mass', 'thermal_mass']].copy()\n",
    "\n",
    "velo_chem_corr = pd.concat([fe_df, velo_df], axis=1, keys=['fe_df', 'velo_df']).corr().loc['fe_df', 'velo_df']\n",
    "print(velo_chem_corr)\n",
    "\n",
    "plt.subplots(figsize = (13, 13))\n",
    "sns.heatmap(velo_chem_corr, annot = True, square = True)\n",
    "plt.savefig(sdir + 'correlation_plots/velo_fe_corr.png')\n",
    "plt.close()"
   ]
  },
  {
   "cell_type": "code",
   "execution_count": 80,
   "metadata": {},
   "outputs": [
    {
     "name": "stdout",
     "output_type": "stream",
     "text": [
      "           mach_number_mass\n",
      "spread_fe          0.208558\n",
      "cent_fe            0.668811\n"
     ]
    }
   ],
   "source": [
    "mach_df = rendered_df[['mach_number_mass']].copy()\n",
    "\n",
    "mach_chem_corr = pd.concat([fe_df, mach_df], axis=1, keys=['fe_df', 'mach_df']).corr().loc['fe_df', 'mach_df']\n",
    "print(mach_chem_corr)\n",
    "\n",
    "plt.subplots(figsize = (13, 13))\n",
    "sns.heatmap(mach_chem_corr, annot = True, square = True)\n",
    "plt.savefig(sdir + 'correlation_plots/mach_fe_corr.png')\n",
    "plt.close()"
   ]
  },
  {
   "cell_type": "code",
   "execution_count": null,
   "metadata": {},
   "outputs": [],
   "source": []
  }
 ],
 "metadata": {
  "kernelspec": {
   "display_name": "Python 3",
   "language": "python",
   "name": "python3"
  },
  "language_info": {
   "codemirror_mode": {
    "name": "ipython",
    "version": 3
   },
   "file_extension": ".py",
   "mimetype": "text/x-python",
   "name": "python",
   "nbconvert_exporter": "python",
   "pygments_lexer": "ipython3",
   "version": "3.7.6"
  }
 },
 "nbformat": 4,
 "nbformat_minor": 4
}
