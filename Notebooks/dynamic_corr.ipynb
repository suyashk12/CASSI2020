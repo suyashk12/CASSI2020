{
 "cells": [
  {
   "cell_type": "markdown",
   "metadata": {},
   "source": [
    "Importing necessary libraries"
   ]
  },
  {
   "cell_type": "code",
   "execution_count": 34,
   "metadata": {},
   "outputs": [],
   "source": [
    "import numpy as np\n",
    "import matplotlib.pyplot as plt\n",
    "import pandas as pd\n",
    "import seaborn as sns\n",
    "import os"
   ]
  },
  {
   "cell_type": "markdown",
   "metadata": {},
   "source": [
    "Setting text properties for plots"
   ]
  },
  {
   "cell_type": "code",
   "execution_count": 35,
   "metadata": {},
   "outputs": [],
   "source": [
    "plt.rcParams.update({'font.size': 26})\n",
    "plt.ticklabel_format(axis='y', style='sci', scilimits=(0,0))\n",
    "plt.close()"
   ]
  },
  {
   "cell_type": "markdown",
   "metadata": {},
   "source": [
    "Importing dataset"
   ]
  },
  {
   "cell_type": "code",
   "execution_count": 36,
   "metadata": {},
   "outputs": [
    {
     "name": "stdout",
     "output_type": "stream",
     "text": [
      "Enter simulation directory path: /Users/thepoetoftwilight/Documents/CASSI2020/CASSI2020-Code+Results/Results/m10q_res250/\n"
     ]
    }
   ],
   "source": [
    "# Specifying simulation directory and the directory to save results in\n",
    "wdir = str(input('Enter simulation directory path: '))\n",
    "\n",
    "# Specifying a snapshot for temporal analysis\n",
    "sdir = wdir + 'temporal_analysis/'\n",
    "\n",
    "# Create a directory to store correlation plots\n",
    "if not os.path.exists(sdir + 'correlation_plots/'):\n",
    "    os.makedirs(sdir + 'correlation_plots/')"
   ]
  },
  {
   "cell_type": "code",
   "execution_count": 37,
   "metadata": {},
   "outputs": [],
   "source": [
    "# Read in all metals and find store directories to all metals\n",
    "metal_df = pd.read_csv((sdir + 'metal_list.csv'))\n",
    "metals = metal_df['metals'].to_list()\n",
    "\n",
    "spath_metals = {}\n",
    "\n",
    "for m in metals:\n",
    "    spath_metals[m] = sdir + m + '/'"
   ]
  },
  {
   "cell_type": "code",
   "execution_count": 38,
   "metadata": {},
   "outputs": [
    {
     "name": "stdout",
     "output_type": "stream",
     "text": [
      "    Unnamed: 0  snap     halo_mass  redshift       time  velocity_mass  \\\n",
      "0            0   110  2.786898e+09  3.266667   2.008803      35.478512   \n",
      "1            1   120  3.392446e+09  3.000000   2.210355      38.299061   \n",
      "2            2   125  3.374465e+09  2.875777   2.315916      36.469181   \n",
      "3            3   130  3.427205e+09  2.759037   2.422910      33.223690   \n",
      "4            4   135  3.398642e+09  2.649122   2.531293      33.342709   \n",
      "..         ...   ...           ...       ...        ...            ...   \n",
      "85          85   580  8.513387e+09  0.017828  13.553508      48.990963   \n",
      "86          86   585  8.519394e+09  0.009646  13.665295      49.352806   \n",
      "87          87   590  8.533147e+09  0.001595  13.776556      49.774750   \n",
      "88          88   595  8.534027e+09  0.000797  13.787654      49.825199   \n",
      "89          89   600  8.534961e+09  0.000000  13.798747      49.871212   \n",
      "\n",
      "    velocity_vol  velocity_spread  sound_mass  sound_vol  sound_spread  \\\n",
      "0      55.402683        19.801523   16.627602   9.875618      5.797637   \n",
      "1      57.071838        19.589331   17.036089   9.566759      7.095155   \n",
      "2      56.587490        19.196596   16.977188   9.401702      6.810717   \n",
      "3      55.072453        19.557955   16.900555   9.238804      6.616117   \n",
      "4      55.389492        19.354242   16.778687   9.076913      6.499205   \n",
      "..           ...              ...         ...        ...           ...   \n",
      "85     84.295677        30.558779    8.433422   3.968626      4.083494   \n",
      "86     84.902534        30.719250    8.390636   3.946402      4.073038   \n",
      "87     85.706078        30.970465    8.346909   3.924265      4.062794   \n",
      "88     85.817551        31.010777    8.340510   3.921162      4.059847   \n",
      "89     85.921944        31.050541    8.340522   3.921059      4.062926   \n",
      "\n",
      "    thermal_mass  thermal_vol  thermal_spread  mach_number_mass  \\\n",
      "0      22.308260    13.249514        7.778346          2.792903   \n",
      "1      22.856331    12.835164        9.519157          2.930162   \n",
      "2      22.777300    12.613695        9.137539          2.861363   \n",
      "3      22.674459    12.395147        8.876452          2.686089   \n",
      "4      22.510981    12.177958        8.719597          2.727470   \n",
      "..           ...          ...             ...               ...   \n",
      "85     11.314623     5.324471        5.478577          8.496132   \n",
      "86     11.257219     5.294652        5.464551          8.604073   \n",
      "87     11.198569     5.264953        5.450813          8.727962   \n",
      "88     11.189959     5.260790        5.446856          8.744741   \n",
      "89     11.189988     5.260654        5.450985          8.753934   \n",
      "\n",
      "    mach_number_vol  SFR@10Myr  SFR@100Myr  SFR@1000Myr  \n",
      "0          7.405939   0.001611    0.001169     0.001025  \n",
      "1          7.933884   0.000080    0.000263     0.001701  \n",
      "2          8.070164   0.000548    0.000110     0.001635  \n",
      "3          8.084039   0.000105    0.000138     0.001458  \n",
      "4          8.304585   0.000080    0.000314     0.001415  \n",
      "..              ...        ...         ...          ...  \n",
      "85        32.090000   0.000000    0.000000     0.000019  \n",
      "86        32.512497   0.000000    0.000000     0.000015  \n",
      "87        33.018242   0.000000    0.000000     0.000015  \n",
      "88        33.089745   0.000000    0.000000     0.000015  \n",
      "89        33.132896   0.000000    0.000000     0.000015  \n",
      "\n",
      "[90 rows x 19 columns]\n"
     ]
    }
   ],
   "source": [
    "# Obtained statistics for the rendered snapshots\n",
    "\n",
    "rendered_df = pd.read_csv(sdir + 'rendered_snap_stats.csv')\n",
    "\n",
    "print(rendered_df)\n",
    "\n",
    "params_df = {}\n",
    "\n",
    "for m in metals:\n",
    "    params_df[m] = pd.read_csv(spath_metals[m] + 'data/fit/fit_{}_params.csv'.format(m))"
   ]
  },
  {
   "cell_type": "code",
   "execution_count": 39,
   "metadata": {},
   "outputs": [
    {
     "name": "stdout",
     "output_type": "stream",
     "text": [
      "    spread_c  spread_n  spread_o  spread_ne  spread_mg  spread_si  spread_s  \\\n",
      "0   0.380999  0.364220  0.407493   0.407376   0.402856   0.399732  0.391235   \n",
      "1   0.384134  0.401553  0.445515   0.444768   0.440555   0.431708  0.423173   \n",
      "2   0.571148  0.561458  0.618466   0.615866   0.604746   0.597761  0.577299   \n",
      "3   0.420157  0.424828  0.445287   0.444328   0.439235   0.436699  0.426989   \n",
      "4   0.359166  0.367166  0.391457   0.390895   0.388027   0.386467  0.380834   \n",
      "..       ...       ...       ...        ...        ...        ...       ...   \n",
      "85  0.076756  0.074040  0.098113   0.098569   0.098193   0.096989  0.098198   \n",
      "86  0.073814  0.076390  0.079382   0.079556   0.079349   0.090216  0.096091   \n",
      "87  0.071100  0.073940  0.074457   0.074576   0.074404   0.083774  0.089175   \n",
      "88  0.071928  0.074611  0.076413   0.076482   0.076350   0.087636  0.093573   \n",
      "89  0.068585  0.070057  0.076898   0.077142   0.076870   0.086523  0.092058   \n",
      "\n",
      "    spread_ca  spread_fe  \n",
      "0    0.380726   0.390091  \n",
      "1    0.412831   0.422233  \n",
      "2    0.552993   0.568874  \n",
      "3    0.414898   0.426857  \n",
      "4    0.373292   0.383650  \n",
      "..        ...        ...  \n",
      "85   0.099694   0.116360  \n",
      "86   0.101674   0.140600  \n",
      "87   0.094368   0.131221  \n",
      "88   0.099176   0.137747  \n",
      "89   0.097319   0.133873  \n",
      "\n",
      "[90 rows x 9 columns]\n"
     ]
    }
   ],
   "source": [
    "# Correlating abundance spread of all elements with each other\n",
    "\n",
    "columns_spread = ['spread_' + m for m in metals]\n",
    "\n",
    "spread_df = pd.DataFrame(columns = columns_spread)\n",
    "\n",
    "for m in metals:\n",
    "    spread_df['spread_' + m] = params_df[m]['std']\n",
    "    \n",
    "print(spread_df)\n",
    "    \n",
    "spread_corr = spread_df.corr()\n",
    "\n",
    "plt.subplots(figsize = (24, 24))\n",
    "sns.heatmap(spread_corr, annot = True, square = True)\n",
    "plt.savefig(sdir + 'correlation_plots/spread_corr.png')\n",
    "plt.close()"
   ]
  },
  {
   "cell_type": "code",
   "execution_count": 40,
   "metadata": {},
   "outputs": [
    {
     "name": "stdout",
     "output_type": "stream",
     "text": [
      "    cent_mass_c  cent_mass_n  cent_mass_o  cent_mass_ne  cent_mass_mg  \\\n",
      "0     -2.199921    -2.607189    -1.916933     -1.850180     -2.091201   \n",
      "1     -2.087334    -2.428825    -1.959433     -1.892490     -2.133002   \n",
      "2     -2.061482    -2.321521    -2.259814     -2.192267     -2.431204   \n",
      "3     -1.927111    -2.172190    -2.026520     -1.958888     -2.199001   \n",
      "4     -1.966978    -2.245511    -1.947615     -1.880768     -2.121426   \n",
      "..          ...          ...          ...           ...           ...   \n",
      "85    -0.942109    -1.177905    -0.978538     -0.914002     -1.153609   \n",
      "86    -0.930587    -1.162872    -0.982138     -0.918111     -1.157277   \n",
      "87    -0.936027    -1.167132    -0.988010     -0.924005     -1.162907   \n",
      "88    -0.937042    -1.169177    -0.987837     -0.923967     -1.162898   \n",
      "89    -0.936275    -1.168483    -0.988095     -0.923825     -1.162870   \n",
      "\n",
      "    cent_mass_si  cent_mass_s  cent_mass_ca  cent_mass_fe  \n",
      "0      -2.077893    -2.131008     -2.407067     -2.449245  \n",
      "1      -2.116224    -2.166963     -2.442623     -2.472234  \n",
      "2      -2.409378    -2.456885     -2.725919     -2.751772  \n",
      "3      -2.180274    -2.229970     -2.503275     -2.526917  \n",
      "4      -2.103296    -2.155069     -2.429836     -2.456642  \n",
      "..           ...          ...           ...           ...  \n",
      "85     -1.084185    -1.120328     -1.381317     -1.246735  \n",
      "86     -1.079125    -1.114559     -1.375373     -1.232354  \n",
      "87     -1.086730    -1.121750     -1.382480     -1.239119  \n",
      "88     -1.087049    -1.122284     -1.382788     -1.239948  \n",
      "89     -1.087792    -1.122484     -1.383263     -1.238835  \n",
      "\n",
      "[90 rows x 9 columns]\n"
     ]
    }
   ],
   "source": [
    "columns_cent_mass = ['cent_mass_' + m for m in metals]\n",
    "\n",
    "cent_mass_df = pd.DataFrame(columns = columns_cent_mass)\n",
    "\n",
    "for m in metals:\n",
    "    cent_mass_df['cent_mass_' + m] = params_df[m]['median_mass']\n",
    "    \n",
    "print(cent_mass_df)\n",
    "    \n",
    "cent_mass_corr = cent_mass_df.corr()\n",
    "\n",
    "plt.subplots(figsize = (24, 24))\n",
    "sns.heatmap(cent_mass_corr, annot = True, square = True)\n",
    "plt.savefig(sdir + 'correlation_plots/cent_mass_corr.png')\n",
    "plt.close()"
   ]
  },
  {
   "cell_type": "code",
   "execution_count": 41,
   "metadata": {
    "scrolled": false
   },
   "outputs": [
    {
     "name": "stdout",
     "output_type": "stream",
     "text": [
      "    cent_vol_c  cent_vol_n  cent_vol_o  cent_vol_ne  cent_vol_mg  cent_vol_si  \\\n",
      "0    -2.223682   -2.642074   -1.930917    -1.863957    -2.104886    -2.093262   \n",
      "1    -2.072327   -2.419607   -1.931531    -1.864053    -2.105336    -2.091953   \n",
      "2    -2.194701   -2.477492   -2.338456    -2.270126    -2.506608    -2.487212   \n",
      "3    -1.978308   -2.240086   -2.054135    -1.985934    -2.226126    -2.206892   \n",
      "4    -1.966967   -2.246100   -1.946294    -1.879204    -2.119961    -2.101210   \n",
      "..         ...         ...         ...          ...          ...          ...   \n",
      "85   -0.946383   -1.184049   -0.981166    -0.916215    -1.155892    -1.088715   \n",
      "86   -0.913578   -1.141415   -0.986022    -0.923145    -1.160691    -1.074220   \n",
      "87   -0.975282   -1.208007   -1.002297    -0.945984    -1.180728    -1.109828   \n",
      "88   -0.971756   -1.206175   -1.002305    -0.940879    -1.180033    -1.106790   \n",
      "89   -0.952641   -1.191437   -0.994831    -0.930772    -1.169887    -1.097364   \n",
      "\n",
      "    cent_vol_s  cent_vol_ca  cent_vol_fe  \n",
      "0    -2.146563    -2.423126    -2.469246  \n",
      "1    -2.144809    -2.418334    -2.444582  \n",
      "2    -2.534463    -2.800521    -2.831228  \n",
      "3    -2.256660    -2.529785    -2.550677  \n",
      "4    -2.152422    -2.427032    -2.454860  \n",
      "..         ...          ...          ...  \n",
      "85   -1.125409    -1.387642    -1.256677  \n",
      "86   -1.111679    -1.371573    -1.218511  \n",
      "87   -1.147919    -1.409159    -1.287863  \n",
      "88   -1.141928    -1.405792    -1.265719  \n",
      "89   -1.131186    -1.392607    -1.251067  \n",
      "\n",
      "[90 rows x 9 columns]\n"
     ]
    }
   ],
   "source": [
    "columns_cent_vol = ['cent_vol_' + m for m in metals]\n",
    "\n",
    "cent_vol_df = pd.DataFrame(columns = columns_cent_vol)\n",
    "\n",
    "for m in metals:\n",
    "    cent_vol_df['cent_vol_' + m] = params_df[m]['median_vol']\n",
    "    \n",
    "print(cent_vol_df)\n",
    "    \n",
    "cent_vol_corr = cent_vol_df.corr()\n",
    "\n",
    "plt.subplots(figsize = (24, 24))\n",
    "sns.heatmap(cent_vol_corr, annot = True, square = True)\n",
    "plt.savefig(sdir + 'correlation_plots/cent_vol_corr.png')\n",
    "plt.close()"
   ]
  },
  {
   "cell_type": "code",
   "execution_count": 42,
   "metadata": {
    "scrolled": false
   },
   "outputs": [
    {
     "name": "stdout",
     "output_type": "stream",
     "text": [
      "             cent_mass_c  cent_mass_n  cent_mass_o  cent_mass_ne  \\\n",
      "cent_vol_c      0.998362     0.993603     0.956329      0.955927   \n",
      "cent_vol_n      0.996349     0.998076     0.931024      0.930524   \n",
      "cent_vol_o      0.950058     0.922785     0.999225      0.999216   \n",
      "cent_vol_ne     0.949602     0.922233     0.999194      0.999193   \n",
      "cent_vol_mg     0.950549     0.923347     0.999233      0.999227   \n",
      "cent_vol_si     0.958561     0.933278     0.998665      0.998584   \n",
      "cent_vol_s      0.960412     0.935601     0.998393      0.998293   \n",
      "cent_vol_ca     0.961858     0.937406     0.998122      0.998009   \n",
      "cent_vol_fe     0.970186     0.948770     0.994361      0.994122   \n",
      "\n",
      "             cent_mass_mg  cent_mass_si  cent_mass_s  cent_mass_ca  \\\n",
      "cent_vol_c       0.956746      0.964599     0.966190      0.967434   \n",
      "cent_vol_n       0.931512      0.941322     0.943356      0.944971   \n",
      "cent_vol_o       0.999217      0.998606     0.998237      0.997822   \n",
      "cent_vol_ne      0.999188      0.998480     0.998087      0.997652   \n",
      "cent_vol_mg      0.999235      0.998642     0.998277      0.997865   \n",
      "cent_vol_si      0.998696      0.999304     0.999228      0.999063   \n",
      "cent_vol_s       0.998430      0.999329     0.999327      0.999228   \n",
      "cent_vol_ca      0.998166      0.999306     0.999370      0.999331   \n",
      "cent_vol_fe      0.994392      0.997205     0.997707      0.998052   \n",
      "\n",
      "             cent_mass_fe  \n",
      "cent_vol_c       0.975213  \n",
      "cent_vol_n       0.955834  \n",
      "cent_vol_o       0.993589  \n",
      "cent_vol_ne      0.993269  \n",
      "cent_vol_mg      0.993604  \n",
      "cent_vol_si      0.996497  \n",
      "cent_vol_s       0.997106  \n",
      "cent_vol_ca      0.997583  \n",
      "cent_vol_fe      0.999316  \n"
     ]
    }
   ],
   "source": [
    "cent_mass_cent_vol_corr = pd.concat([cent_vol_df, cent_mass_df], axis=1, \n",
    "                                keys=['cent_vol_df', 'cent_mass_df']).corr().loc['cent_vol_df', 'cent_mass_df']\n",
    "print(cent_mass_cent_vol_corr)\n",
    "\n",
    "plt.subplots(figsize = (24, 24))\n",
    "sns.heatmap(cent_mass_cent_vol_corr, annot = True, square = True)\n",
    "plt.savefig(sdir + 'correlation_plots/cent_mass_cent_vol_corr.png')\n",
    "plt.close()"
   ]
  },
  {
   "cell_type": "code",
   "execution_count": 43,
   "metadata": {},
   "outputs": [
    {
     "name": "stdout",
     "output_type": "stream",
     "text": [
      "              spread_c  spread_n  spread_o  spread_ne  spread_mg  spread_si  \\\n",
      "cent_mass_c  -0.918213 -0.908508 -0.926693  -0.927610  -0.928752  -0.923397   \n",
      "cent_mass_n  -0.892102 -0.878899 -0.909656  -0.910641  -0.911680  -0.904466   \n",
      "cent_mass_o  -0.978158 -0.980438 -0.955305  -0.955780  -0.956959  -0.959595   \n",
      "cent_mass_ne -0.978085 -0.980438 -0.954982  -0.955458  -0.956641  -0.959356   \n",
      "cent_mass_mg -0.977770 -0.980032 -0.954870  -0.955352  -0.956535  -0.959150   \n",
      "cent_mass_si -0.975716 -0.976814 -0.956160  -0.956670  -0.957838  -0.959325   \n",
      "cent_mass_s  -0.974950 -0.975843 -0.956062  -0.956579  -0.957753  -0.958993   \n",
      "cent_mass_ca -0.974183 -0.974956 -0.955787  -0.956310  -0.957495  -0.958522   \n",
      "cent_mass_fe -0.971094 -0.970236 -0.958301  -0.958828  -0.960006  -0.959541   \n",
      "\n",
      "              spread_s  spread_ca  spread_fe  \n",
      "cent_mass_c  -0.920380  -0.916472  -0.882685  \n",
      "cent_mass_n  -0.900236  -0.894946  -0.855554  \n",
      "cent_mass_o  -0.961508  -0.963167  -0.955602  \n",
      "cent_mass_ne -0.961314  -0.963022  -0.955666  \n",
      "cent_mass_mg -0.961045  -0.962683  -0.955011  \n",
      "cent_mass_si -0.960539  -0.961429  -0.950302  \n",
      "cent_mass_s  -0.960075  -0.960823  -0.948921  \n",
      "cent_mass_ca -0.959506  -0.960151  -0.947597  \n",
      "cent_mass_fe -0.959739  -0.959522  -0.942493  \n"
     ]
    }
   ],
   "source": [
    "spread_cent_mass_corr = pd.concat([cent_mass_df, spread_df], axis=1, keys=['cent_mass_df', 'spread_df']).corr().loc['cent_mass_df', 'spread_df']\n",
    "print(spread_cent_mass_corr)\n",
    "\n",
    "plt.subplots(figsize = (24, 24))\n",
    "sns.heatmap(spread_cent_mass_corr, annot = True, square = True)\n",
    "plt.savefig(sdir + 'correlation_plots/spread_cent_mass_corr.png')\n",
    "plt.close()"
   ]
  },
  {
   "cell_type": "code",
   "execution_count": 44,
   "metadata": {},
   "outputs": [
    {
     "name": "stdout",
     "output_type": "stream",
     "text": [
      "             spread_c  spread_n  spread_o  spread_ne  spread_mg  spread_si  \\\n",
      "cent_vol_c  -0.929360 -0.918872 -0.937271  -0.938117  -0.939046  -0.934240   \n",
      "cent_vol_n  -0.905753 -0.891703 -0.922716  -0.923624  -0.924432  -0.917780   \n",
      "cent_vol_o  -0.979694 -0.980806 -0.957840  -0.958290  -0.959329  -0.961962   \n",
      "cent_vol_ne -0.979606 -0.980797 -0.957481  -0.957932  -0.958973  -0.961719   \n",
      "cent_vol_mg -0.979186 -0.980327 -0.957188  -0.957648  -0.958695  -0.961338   \n",
      "cent_vol_si -0.977521 -0.977603 -0.958611  -0.959098  -0.960131  -0.961683   \n",
      "cent_vol_s  -0.976893 -0.976796 -0.958623  -0.959118  -0.960157  -0.961461   \n",
      "cent_vol_ca -0.976104 -0.975933 -0.958136  -0.958640  -0.959697  -0.960836   \n",
      "cent_vol_fe -0.973460 -0.971822 -0.960622  -0.961130  -0.962190  -0.961925   \n",
      "\n",
      "             spread_s  spread_ca  spread_fe  \n",
      "cent_vol_c  -0.931140  -0.927073  -0.894756  \n",
      "cent_vol_n  -0.913443  -0.907962  -0.870100  \n",
      "cent_vol_o  -0.963558  -0.964817  -0.956861  \n",
      "cent_vol_ne -0.963375  -0.964697  -0.957016  \n",
      "cent_vol_mg -0.962939  -0.964203  -0.956201  \n",
      "cent_vol_si -0.962642  -0.963201  -0.951966  \n",
      "cent_vol_s  -0.962293  -0.962716  -0.950734  \n",
      "cent_vol_ca -0.961599  -0.961952  -0.949407  \n",
      "cent_vol_fe -0.961975  -0.961550  -0.944865  \n"
     ]
    }
   ],
   "source": [
    "spread_cent_vol_corr = pd.concat([cent_vol_df, spread_df], axis=1, keys=['cent_vol_df', 'spread_df']).corr().loc['cent_vol_df', 'spread_df']\n",
    "print(spread_cent_vol_corr)\n",
    "\n",
    "plt.subplots(figsize = (24, 24))\n",
    "sns.heatmap(spread_cent_vol_corr, annot = True, square = True)\n",
    "plt.savefig(sdir + 'correlation_plots/spread_cent_vol_corr.png')\n",
    "plt.close()"
   ]
  },
  {
   "cell_type": "code",
   "execution_count": 45,
   "metadata": {},
   "outputs": [
    {
     "name": "stdout",
     "output_type": "stream",
     "text": [
      "    spread_fe  cent_mass_fe  cent_vol_fe\n",
      "0    0.390091     -2.449245    -2.469246\n",
      "1    0.422233     -2.472234    -2.444582\n",
      "2    0.568874     -2.751772    -2.831228\n",
      "3    0.426857     -2.526917    -2.550677\n",
      "4    0.383650     -2.456642    -2.454860\n",
      "..        ...           ...          ...\n",
      "85   0.116360     -1.246735    -1.256677\n",
      "86   0.140600     -1.232354    -1.218511\n",
      "87   0.131221     -1.239119    -1.287863\n",
      "88   0.137747     -1.239948    -1.265719\n",
      "89   0.133873     -1.238835    -1.251067\n",
      "\n",
      "[90 rows x 3 columns]\n"
     ]
    }
   ],
   "source": [
    "fe_columns = ['spread_fe', 'cent_mass_fe', 'cent_vol_fe']\n",
    "fe_df = pd.DataFrame({'spread_fe': params_df['fe']['std'], 'cent_mass_fe': params_df['fe']['median_mass'],\n",
    "                     'cent_vol_fe': params_df['fe']['median_vol']})\n",
    "\n",
    "print(fe_df)"
   ]
  },
  {
   "cell_type": "code",
   "execution_count": 46,
   "metadata": {},
   "outputs": [
    {
     "name": "stdout",
     "output_type": "stream",
     "text": [
      "              SFR@10Myr  SFR@100Myr  SFR@1000Myr\n",
      "spread_fe      0.151482    0.211211     0.824429\n",
      "cent_mass_fe  -0.231160   -0.316835    -0.841425\n",
      "cent_vol_fe   -0.236835   -0.320792    -0.842845\n"
     ]
    }
   ],
   "source": [
    "SFR_df = rendered_df[['SFR@10Myr', 'SFR@100Myr', 'SFR@1000Myr']].copy()\n",
    "\n",
    "SFR_chem_corr = pd.concat([fe_df, SFR_df], axis=1, keys=['fe_df', 'SFR_df']).corr().loc['fe_df', 'SFR_df']\n",
    "print(SFR_chem_corr)\n",
    "\n",
    "plt.subplots(figsize = (24, 24))\n",
    "sns.heatmap(SFR_chem_corr, annot = True, square = True)\n",
    "plt.savefig(sdir + 'correlation_plots/SFR_fe_corr.png')\n",
    "plt.close()"
   ]
  },
  {
   "cell_type": "code",
   "execution_count": 47,
   "metadata": {},
   "outputs": [
    {
     "name": "stdout",
     "output_type": "stream",
     "text": [
      "              halo_mass\n",
      "spread_fe     -0.812459\n",
      "cent_mass_fe   0.903016\n",
      "cent_vol_fe    0.898336\n"
     ]
    }
   ],
   "source": [
    "halo_df = rendered_df[['halo_mass']].copy()\n",
    "\n",
    "halo_chem_corr = pd.concat([fe_df, halo_df], axis=1, keys=['fe_df', 'halo_df']).corr().loc['fe_df', 'halo_df']\n",
    "print(halo_chem_corr)\n",
    "\n",
    "plt.subplots(figsize = (24, 24))\n",
    "sns.heatmap(halo_chem_corr, annot = True, square = True)\n",
    "plt.savefig(sdir + 'correlation_plots/halo_fe_corr.png')\n",
    "plt.close()"
   ]
  },
  {
   "cell_type": "code",
   "execution_count": 48,
   "metadata": {},
   "outputs": [
    {
     "name": "stdout",
     "output_type": "stream",
     "text": [
      "              velocity_mass  sound_mass  thermal_mass  velocity_vol  \\\n",
      "spread_fe         -0.701029    0.903418      0.903418     -0.752767   \n",
      "cent_mass_fe       0.841223   -0.961967     -0.961967      0.872691   \n",
      "cent_vol_fe        0.834225   -0.958584     -0.958584      0.865900   \n",
      "\n",
      "              sound_vol  thermal_vol  \n",
      "spread_fe      0.923073     0.923073  \n",
      "cent_mass_fe  -0.984920    -0.984919  \n",
      "cent_vol_fe   -0.982202    -0.982202  \n"
     ]
    }
   ],
   "source": [
    "velo_df = rendered_df[['velocity_mass', 'sound_mass', 'thermal_mass',\n",
    "                      'velocity_vol', 'sound_vol', 'thermal_vol']].copy()\n",
    "\n",
    "velo_chem_corr = pd.concat([fe_df, velo_df], axis=1, keys=['fe_df', 'velo_df']).corr().loc['fe_df', 'velo_df']\n",
    "print(velo_chem_corr)\n",
    "\n",
    "plt.subplots(figsize = (24, 24))\n",
    "sns.heatmap(velo_chem_corr, annot = True, square = True)\n",
    "plt.savefig(sdir + 'correlation_plots/velo_fe_corr.png')\n",
    "plt.close()"
   ]
  },
  {
   "cell_type": "code",
   "execution_count": 49,
   "metadata": {},
   "outputs": [
    {
     "name": "stdout",
     "output_type": "stream",
     "text": [
      "              mach_number_mass  mach_number_vol\n",
      "spread_fe            -0.755995        -0.775204\n",
      "cent_mass_fe          0.876748         0.891779\n",
      "cent_vol_fe           0.869992         0.885299\n"
     ]
    }
   ],
   "source": [
    "mach_df = rendered_df[['mach_number_mass', 'mach_number_vol']].copy()\n",
    "\n",
    "mach_chem_corr = pd.concat([fe_df, mach_df], axis=1, keys=['fe_df', 'mach_df']).corr().loc['fe_df', 'mach_df']\n",
    "print(mach_chem_corr)\n",
    "\n",
    "plt.subplots(figsize = (24, 24))\n",
    "sns.heatmap(mach_chem_corr, annot = True, square = True)\n",
    "plt.savefig(sdir + 'correlation_plots/mach_fe_corr.png')\n",
    "plt.close()"
   ]
  },
  {
   "cell_type": "code",
   "execution_count": null,
   "metadata": {},
   "outputs": [],
   "source": []
  }
 ],
 "metadata": {
  "kernelspec": {
   "display_name": "Python 3",
   "language": "python",
   "name": "python3"
  },
  "language_info": {
   "codemirror_mode": {
    "name": "ipython",
    "version": 3
   },
   "file_extension": ".py",
   "mimetype": "text/x-python",
   "name": "python",
   "nbconvert_exporter": "python",
   "pygments_lexer": "ipython3",
   "version": "3.7.6"
  }
 },
 "nbformat": 4,
 "nbformat_minor": 4
}
