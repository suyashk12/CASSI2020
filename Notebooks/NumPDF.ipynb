{
 "cells": [
  {
   "cell_type": "markdown",
   "metadata": {},
   "source": [
    "Importing necessary libraries"
   ]
  },
  {
   "cell_type": "code",
   "execution_count": 1,
   "metadata": {},
   "outputs": [],
   "source": [
    "import gizmo_analysis as gizmo\n",
    "import utilities as ut\n",
    "import numpy as np\n",
    "import matplotlib.pyplot as plt\n",
    "from matplotlib import colors"
   ]
  },
  {
   "cell_type": "markdown",
   "metadata": {},
   "source": [
    "Constructing numerical PDF\n",
    "\n",
    "Let $V$ be the set of values and $W$ be the set of corresponding weights, each having a size $n$. Further, let a scalar $\\eta$ be called the norm. The normalization of the constructed PDF $g(z)$ is then -\n",
    "\n",
    "$$\\int_{-\\infty}^{\\infty} g(z) dz = \\frac{1}{\\eta} \\sum_{i = 1}^{n} w_i$$"
   ]
  },
  {
   "cell_type": "code",
   "execution_count": 2,
   "metadata": {},
   "outputs": [],
   "source": [
    "def num_PDF(values, weights, left, right, bin_size, norm):\n",
    "    \n",
    "    bins = np.arange(left, right, bin_size)\n",
    "    heights, edges = np.histogram(values, bins, weights = weights)\n",
    "    centers = 0.5*(edges[1:] + edges[:-1])\n",
    "    heights = heights/(bin_size*norm)\n",
    "\n",
    "    return centers, heights"
   ]
  },
  {
   "cell_type": "markdown",
   "metadata": {},
   "source": [
    "Importing dataset"
   ]
  },
  {
   "cell_type": "code",
   "execution_count": 3,
   "metadata": {},
   "outputs": [
    {
     "name": "stdout",
     "output_type": "stream",
     "text": [
      "Enter simulation directory path: /Users/thepoetoftwilight/Documents/CASSI2020/CASSI2020-Data/m10q_res16000_test/\n",
      "Enter path of storage directory relative to simulation directory: files/num_pdf/\n",
      "Enter snapshot index: 600\n",
      "\n",
      "# in utilities.simulation.Snapshot():\n",
      "* reading:  Users/thepoetoftwilight/Documents/CASSI2020/CASSI2020-Data/m10q_res16000_test/snapshot_times.txt\n",
      "\n",
      "  using snapshot index = 600, redshift = 0.000\n",
      "\n",
      "\n",
      "# in gizmo_analysis.gizmo_io.Read():\n",
      "* reading header from:  Users/thepoetoftwilight/Documents/CASSI2020/CASSI2020-Data/m10q_res16000_test/output/snapshot_600.hdf5\n",
      "  snapshot contains the following number of particles:\n",
      "    dark      (id = 1): 260408 particles\n",
      "    dark2     (id = 2): 2281573 particles\n",
      "    gas       (id = 0): 259203 particles\n",
      "    star      (id = 4): 1205 particles\n",
      "    blackhole (id = 5): 0 particles\n",
      "\n",
      "* reading species: ['star', 'gas', 'dark']\n",
      "* reading particles from:\n",
      "    Users/thepoetoftwilight/Documents/CASSI2020/CASSI2020-Data/m10q_res16000_test/output/snapshot_600.hdf5\n",
      "\n",
      "! cannot find MUSIC config file:  Users/thepoetoftwilight/Documents/CASSI2020/CASSI2020-Data/m10q_res16000_test/*/*.conf\n",
      "! missing cosmological parameters, assuming the following (from AGORA box):\n",
      "  assuming omega_baryon = 0.0455\n",
      "  assuming sigma_8 = 0.807\n",
      "  assuming n_s = 0.961\n",
      "\n",
      "* checking sanity of particle properties\n",
      "! warning: star massfraction [min, max] = [0.000, 1.148e10]\n",
      "! warning: gas massfraction [min, max] = [0.000, 1.915e11]\n",
      "\n",
      "\n",
      "# in gizmo_analysis.gizmo_track.ParticleCoordinate():\n",
      "* reading hosts position, velocity, rotation, axis ratios from:  Users/thepoetoftwilight/Documents/CASSI2020/CASSI2020-Data/m10q_res16000_test/track/star_form_coordinates_600.hdf5\n",
      "  cannot read file containing hosts coordinates\n",
      "  instead will assign hosts via iterative zoom on particle mass\n",
      "\n",
      "# in utilities.particle.get_center_positions():\n",
      "* assigning center position for 1 host[s], via iterative zoom-in on star particle mass\n",
      "  host1 position = (3317.007, 2971.114, 3350.615) [kpc comoving]\n",
      "\n",
      "# in utilities.particle.get_center_velocities():\n",
      "* assigning center velocity for 1 host[s], weighting by star particles by mass\n",
      "  host1 velocity = (-6.0, -10.4, -2.8) [km / s]\n",
      "\n",
      "\n",
      "# in utilities.particle.get_principal_axes():\n",
      "* assigning principal axes rotation tensor for 1 host[s]\n",
      "  using star particles at distance < 10.0 kpc\n",
      "  using youngest 25% of star particles\n",
      "  host1: using star particles with age = [0.000, 3.589] Gyr\n",
      "  host1: axis ratios: min/maj = 0.356, min/med = 0.533, med/maj = 0.669\n",
      "\n",
      "\n",
      "# in utilities.particle.get_halo_properties():\n",
      "* R_200m = 68 kpc\n",
      "* M_200m = 9.72e9 Msun, log = 9.99\n",
      "* V_max = 34 km/s\n"
     ]
    }
   ],
   "source": [
    "# Specifying simulation directory and the directory to save results in\n",
    "wdir = str(input('Enter simulation directory path: '))\n",
    "sdir = wdir + str(input('Enter path of storage directory relative to simulation directory: '))\n",
    "\n",
    "# Specifying snapshot index\n",
    "sim_index = int(input('Enter snapshot index: '))\n",
    "\n",
    "# Importing data from the snapshot\n",
    "part = gizmo.io.Read.read_snapshots(['star', 'gas', 'dark'], 'index', sim_index, assign_hosts_rotation = True, \n",
    "                                    simulation_directory = wdir)\n",
    "\n",
    "# Getting halo properties\n",
    "halo_properties = ut.particle.get_halo_properties(part, 'all')"
   ]
  },
  {
   "cell_type": "markdown",
   "metadata": {},
   "source": [
    "Obtaining key properties of the galaxy"
   ]
  },
  {
   "cell_type": "code",
   "execution_count": 4,
   "metadata": {},
   "outputs": [],
   "source": [
    "# Virial radius\n",
    "\n",
    "r_vir = halo_properties['radius']\n",
    "\n",
    "# Finding radial distance, temperature, number density, and mass of grid cells\n",
    "\n",
    "radii = part['gas'].prop('host.distance.principal.spherical')[:,0]\n",
    "temperatures = part['gas'].prop('temperature')\n",
    "number_densities = part['gas'].prop('number.density')\n",
    "masses = part['gas'].prop('mass')"
   ]
  },
  {
   "cell_type": "markdown",
   "metadata": {},
   "source": [
    "Defining the ISM and its phases"
   ]
  },
  {
   "cell_type": "code",
   "execution_count": 5,
   "metadata": {},
   "outputs": [],
   "source": [
    "# Create a dictionary linking phases to numbers\n",
    "\n",
    "phases = {0: 'ISM', 1: 'HIM', 2: 'WIM', 3: 'WNM', 4: 'CNM'}\n",
    "num_phases = len(phases)"
   ]
  },
  {
   "cell_type": "code",
   "execution_count": 6,
   "metadata": {},
   "outputs": [],
   "source": [
    "# Defining the ISM and its phases\n",
    "\n",
    "select_phases = []\n",
    "\n",
    "# ISM\n",
    "select_phases.append(radii < 0.1*r_vir)\n",
    "\n",
    "# HIM\n",
    "select_phases.append(np.all([(radii < 0.1*r_vir), (temperatures >= 10**5.5)], axis = 0))\n",
    "\n",
    "# WIM\n",
    "select_phases.append(np.all([(radii < 0.1*r_vir), (temperatures >= 10**4), (temperatures < 10**5.5)], axis = 0))\n",
    "\n",
    "# WNM\n",
    "select_phases.append(np.all([(radii < 0.1*r_vir), (temperatures >= 10**3), (temperatures < 10**4)], axis = 0))\n",
    "\n",
    "# CNM\n",
    "select_phases.append(np.all([(radii < 0.1*r_vir), (temperatures < 10**3)], axis = 0))"
   ]
  },
  {
   "cell_type": "markdown",
   "metadata": {},
   "source": [
    "Choosing metals and pre-processing abundances"
   ]
  },
  {
   "cell_type": "code",
   "execution_count": 7,
   "metadata": {},
   "outputs": [],
   "source": [
    "# Defining metals of interest\n",
    "\n",
    "metals = ['c','n','o','ne','mg','si','s','ca','fe']"
   ]
  },
  {
   "cell_type": "code",
   "execution_count": 8,
   "metadata": {},
   "outputs": [],
   "source": [
    "# Finding the mass and abundance of metals in the ISM as well as its various phases by grid cells\n",
    "\n",
    "# Grid distribution of masses by phase\n",
    "\n",
    "mass_phases = []\n",
    "\n",
    "for i in range(0, num_phases):\n",
    "    mass_phases.append(masses[select_phases[i]])\n",
    "\n",
    "# Grid distribution of abundances by phase\n",
    "\n",
    "abundance_metals_phases = {}\n",
    "\n",
    "for m in metals:\n",
    "    abundance_metals_phases[m] = []\n",
    "    for i in range(0, num_phases):\n",
    "        abundance_metals_phases[m].append(part['gas'].prop('metallicity.' + m)[select_phases[i]])"
   ]
  },
  {
   "cell_type": "markdown",
   "metadata": {},
   "source": [
    "Generating numerical PDF"
   ]
  },
  {
   "cell_type": "code",
   "execution_count": 9,
   "metadata": {},
   "outputs": [],
   "source": [
    "# Label and color arrays for later plots\n",
    "\n",
    "labels_raw = ['ISM raw', 'HIM raw', 'WIM raw', 'WNM raw', 'CNM raw']\n",
    "colors = ['blue', 'orange', 'brown', 'green', 'black']\n",
    "\n",
    "# Common bin-size for all numerical PDFs\n",
    "\n",
    "bin_size = 0.05"
   ]
  },
  {
   "cell_type": "code",
   "execution_count": 11,
   "metadata": {},
   "outputs": [
    {
     "name": "stdout",
     "output_type": "stream",
     "text": [
      "Completed rendering numerical PDFs of C\n",
      "Completed rendering numerical PDFs of N\n",
      "Completed rendering numerical PDFs of O\n",
      "Completed rendering numerical PDFs of Ne\n",
      "Completed rendering numerical PDFs of Mg\n",
      "Completed rendering numerical PDFs of Si\n",
      "Completed rendering numerical PDFs of S\n",
      "Completed rendering numerical PDFs of Ca\n",
      "Completed rendering numerical PDFs of Fe\n"
     ]
    }
   ],
   "source": [
    "# Generating numerical PDFs\n",
    "\n",
    "fig, axes = plt.subplots(nrows = len(metals), ncols = 1, figsize = (10, 64))\n",
    "\n",
    "for k in range(0, len(metals)):\n",
    "    \n",
    "    ax = axes[k]\n",
    "    m = metals[k]\n",
    "    \n",
    "    mass_norm = np.sum(mass_phases[0])\n",
    "    \n",
    "    left = np.floor(np.min(abundance_metals_phases[m][0]))\n",
    "    right = np.ceil(np.max(abundance_metals_phases[m][0]))\n",
    "\n",
    "    for i in range(0, len(phases)):\n",
    "    \n",
    "        # Numerical PDF\n",
    "\n",
    "        centers, heights = num_PDF(abundance_metals_phases[m][i], mass_phases[i], \n",
    "                                   left, right, bin_size, mass_norm)\n",
    "        heights *= mass_norm\n",
    "        ax.plot(centers, heights, color = colors[i], label = labels_raw[i])\n",
    "\n",
    "    ax.set_xlabel(r'$\\left[ \\frac{{{}}}{{H}} \\right]$'.format(m.title()), fontsize = 22)\n",
    "    ax.set_ylabel(r'$p_{{{0}, X}} \\left( \\left[ \\frac{{{0}}}{{H}} \\right] \\right)$'.format(m.title()),\n",
    "                 fontsize = 22)\n",
    "    ax.set_title('Abundance PDF for {} in various ISM phases'.format(m.title()))\n",
    "    ax.ticklabel_format(axis='both', style='sci', scilimits=(0,0))\n",
    "    ax.legend()\n",
    "    \n",
    "    fig.tight_layout(pad = 5.0)\n",
    "    extent = ax.get_window_extent().transformed(fig.dpi_scale_trans.inverted())\n",
    "    fig.savefig(sdir + 'abundance_{}.png'.format(m.title()), bbox_inches=extent.expanded(1.35, 1.35))\n",
    "    \n",
    "    plt.close()\n",
    "    \n",
    "    print('Completed rendering numerical PDFs of {}'.format(m.title()))"
   ]
  },
  {
   "cell_type": "code",
   "execution_count": null,
   "metadata": {},
   "outputs": [],
   "source": []
  }
 ],
 "metadata": {
  "kernelspec": {
   "display_name": "Python 3",
   "language": "python",
   "name": "python3"
  },
  "language_info": {
   "codemirror_mode": {
    "name": "ipython",
    "version": 3
   },
   "file_extension": ".py",
   "mimetype": "text/x-python",
   "name": "python",
   "nbconvert_exporter": "python",
   "pygments_lexer": "ipython3",
   "version": "3.7.6"
  }
 },
 "nbformat": 4,
 "nbformat_minor": 2
}
