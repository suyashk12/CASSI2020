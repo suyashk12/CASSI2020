{
 "cells": [
  {
   "cell_type": "markdown",
   "metadata": {},
   "source": [
    "Importing necessary libraries"
   ]
  },
  {
   "cell_type": "code",
   "execution_count": 1,
   "metadata": {},
   "outputs": [],
   "source": [
    "import numpy as np\n",
    "import matplotlib.pyplot as plt\n",
    "from matplotlib import colors\n",
    "from scipy import optimize\n",
    "import pandas as pd\n",
    "import glob\n",
    "import math\n",
    "import os"
   ]
  },
  {
   "cell_type": "markdown",
   "metadata": {},
   "source": [
    "Setting text properties for plots"
   ]
  },
  {
   "cell_type": "code",
   "execution_count": 2,
   "metadata": {},
   "outputs": [],
   "source": [
    "plt.rcParams.update({'font.size': 26})\n",
    "plt.ticklabel_format(axis='y', style='sci', scilimits=(0,0))\n",
    "plt.close()"
   ]
  },
  {
   "cell_type": "markdown",
   "metadata": {},
   "source": [
    "Importing dataset"
   ]
  },
  {
   "cell_type": "code",
   "execution_count": 3,
   "metadata": {},
   "outputs": [
    {
     "name": "stdout",
     "output_type": "stream",
     "text": [
      "Enter simulation directory path: /Users/thepoetoftwilight/Documents/CASSI2020/CASSI2020-Data/m10q_res16000_test/\n"
     ]
    }
   ],
   "source": [
    "# Specifying simulation directory and the directory to save results in\n",
    "wdir = str(input('Enter simulation directory path: '))\n",
    "\n",
    "# Specifying a snapshot for temporal analysis\n",
    "sdir = wdir + 'temporal_analysis/'\n",
    "\n",
    "# Create a directory to store time evolution analysis plots\n",
    "if not os.path.exists(sdir + 'analysis_plots/'):\n",
    "    os.makedirs(sdir + 'analysis_plots/')"
   ]
  },
  {
   "cell_type": "code",
   "execution_count": 4,
   "metadata": {},
   "outputs": [],
   "source": [
    "# Get all rendered indices\n",
    "\n",
    "rendered_df = pd.read_csv(sdir + 'rendered_snap_stats.csv')\n",
    "\n",
    "rendered_indices = rendered_df['snap'].to_list()\n",
    "num_snaps = len(rendered_indices)\n",
    "\n",
    "# Get various properties of the galaxies\n",
    "\n",
    "halo_masses = rendered_df['halo_mass'].to_list()\n",
    "\n",
    "redshifts = rendered_df['redshift'].to_list()\n",
    "times = rendered_df['time'].to_list()\n",
    "\n",
    "# Getting sound related properties\n",
    "\n",
    "velocities_mass = rendered_df['velocity_mass'].to_list()\n",
    "velocities_vol = rendered_df['velocity_vol'].to_list()\n",
    "velocities_spread = rendered_df['velocity_spread'].to_list()\n",
    "\n",
    "sounds_mass = rendered_df['sound_mass'].to_list()\n",
    "sounds_vol = rendered_df['sound_vol'].to_list()\n",
    "sounds_spread = rendered_df['sound_spread'].to_list()\n",
    "\n",
    "thermals_mass = rendered_df['thermal_mass'].to_list()\n",
    "thermals_vol = rendered_df['thermal_vol'].to_list()\n",
    "thermals_spread = rendered_df['thermal_spread'].to_list()\n",
    "\n",
    "mach_numbers_mass = rendered_df['mach_number_mass'].to_list()\n",
    "mach_numbers_vol = rendered_df['mach_number_vol'].to_list()\n",
    "\n",
    "# Getting star-formation properties\n",
    "\n",
    "SFRs_10 = rendered_df['SFR@10Myr'].to_list()\n",
    "SFRs_100 = rendered_df['SFR@100Myr'].to_list()\n",
    "SFRs_1000 = rendered_df['SFR@1000Myr'].to_list()"
   ]
  },
  {
   "cell_type": "code",
   "execution_count": 5,
   "metadata": {},
   "outputs": [],
   "source": [
    "# Get rendered metals\n",
    "\n",
    "metal_df = pd.read_csv((sdir + 'metal_list.csv'))\n",
    "metals = metal_df['metals'].to_list()\n",
    "\n",
    "# Create a list of paths for all metals\n",
    "spath_metals = {}\n",
    "\n",
    "for m in metals:\n",
    "    spath_metals[m] = sdir + m + '/'\n",
    "\n",
    "mus = {}\n",
    "means_mass = {}\n",
    "medians_mass = {}\n",
    "means_vol = {}\n",
    "medians_vol = {}\n",
    "stds = {}\n",
    "sigmas = {}\n",
    "\n",
    "for m in metals:\n",
    "    # Load all fit parameters\n",
    "    filename = 'fit_' + m + '_params.csv'\n",
    "    param_df = pd.read_csv(spath_metals[m] + '/data/fit/' + filename)\n",
    "\n",
    "    mus[m] = param_df['mu'].to_list()\n",
    "    means_mass[m] = param_df['mean_mass'].to_list()\n",
    "    medians_mass[m] = param_df['median_mass'].to_list()\n",
    "    means_vol[m] = param_df['mean_vol'].to_list()\n",
    "    medians_vol[m] = param_df['median_vol'].to_list()\n",
    "    stds[m] = param_df['std'].to_list()\n",
    "    sigmas[m] = param_df['sigma'].to_list()"
   ]
  },
  {
   "cell_type": "code",
   "execution_count": 6,
   "metadata": {},
   "outputs": [
    {
     "name": "stdout",
     "output_type": "stream",
     "text": [
      "Creating halo mass vs. time plot ...\n",
      "Created halo mass vs. time plot \n",
      "\n"
     ]
    }
   ],
   "source": [
    "# Plot halo mass vs. time\n",
    "\n",
    "print('Creating halo mass vs. time plot ...')\n",
    "\n",
    "fig, ax = plt.subplots(figsize = (15, 13))\n",
    "ax.plot(times, halo_masses, color = 'red')\n",
    "ax.set_xlabel('Time (Gyr)', labelpad = 10, fontsize = 38)\n",
    "ax.set_ylabel(r'Halo Mass ($M_{\\odot}$)', labelpad = 10, fontsize = 38)\n",
    "ax.ticklabel_format(axis='y', style='sci', scilimits=(0,0))\n",
    "plt.savefig(sdir + 'analysis_plots/halo_mass_vs_time.png')\n",
    "plt.close()\n",
    "\n",
    "print('Created halo mass vs. time plot \\n')"
   ]
  },
  {
   "cell_type": "code",
   "execution_count": 11,
   "metadata": {},
   "outputs": [
    {
     "name": "stdout",
     "output_type": "stream",
     "text": [
      "Creating SFR vs. time plot ...\n",
      "Created SFR vs. time plot \n",
      "\n"
     ]
    }
   ],
   "source": [
    "# Plot SFR's as a function of time\n",
    "\n",
    "print('Creating SFR vs. time plot ...')\n",
    "\n",
    "fig, ax = plt.subplots(figsize = (15, 13))\n",
    "ax.plot(times, SFRs_10, color = 'red', label = '10 Myr')\n",
    "ax.plot(times, SFRs_100, color = 'green', label = '100 Myr')\n",
    "ax.plot(times, SFRs_1000, color = 'blue', label = '1000 Myr')\n",
    "ax.legend()\n",
    "ax.set_xlabel('Time (Gyr)', labelpad = 10, fontsize = 38)\n",
    "ax.set_ylabel(r'SFR ($M_{\\odot}/yr$)', labelpad = 10, fontsize = 38)\n",
    "ax.ticklabel_format(axis='y', style='sci', scilimits=(0,0))\n",
    "plt.savefig(sdir + 'analysis_plots/SFR_vs_time.png')\n",
    "plt.close()\n",
    "\n",
    "print('Created SFR vs. time plot \\n')"
   ]
  },
  {
   "cell_type": "code",
   "execution_count": 7,
   "metadata": {},
   "outputs": [
    {
     "name": "stdout",
     "output_type": "stream",
     "text": [
      "Creating mass weighted velocities plot ...\n",
      "Created mass weighted velocities \n",
      "\n"
     ]
    }
   ],
   "source": [
    "# Mass weighted velocities\n",
    "\n",
    "print('Creating mass weighted velocities plot ...')\n",
    "\n",
    "fig, ax = plt.subplots(figsize = (15, 13))\n",
    "ax.plot(times, velocities_mass, color = 'red', label = 'Velocity')\n",
    "ax.plot(times, sounds_mass, color = 'green', label = 'Sound Speed')\n",
    "ax.plot(times, thermals_mass, color = 'blue', label = 'Thermal Speed')\n",
    "ax.legend()\n",
    "ax.set_xlabel('Time (Gyr)', labelpad = 10, fontsize = 38)\n",
    "ax.set_ylabel('Mass average (km/s)', labelpad = 10, fontsize = 38)\n",
    "ax.ticklabel_format(axis='y', style='sci', scilimits=(0,0))\n",
    "plt.savefig(sdir + 'analysis_plots/velocities_mass.png')\n",
    "plt.close()\n",
    "\n",
    "print('Created mass weighted velocities \\n')"
   ]
  },
  {
   "cell_type": "code",
   "execution_count": 8,
   "metadata": {},
   "outputs": [
    {
     "name": "stdout",
     "output_type": "stream",
     "text": [
      "Creating volume weighted velocities plot ...\n",
      "Created volume weighted velocities \n",
      "\n"
     ]
    }
   ],
   "source": [
    "# Volume weighted velocities\n",
    "\n",
    "print('Creating volume weighted velocities plot ...')\n",
    "\n",
    "fig, ax = plt.subplots(figsize = (15, 13))\n",
    "ax.plot(times, velocities_vol, color = 'red', label = 'Velocity')\n",
    "ax.plot(times, sounds_vol, color = 'green', label = 'Sound Speed')\n",
    "ax.plot(times, thermals_vol, color = 'blue', label = 'Thermal Speed')\n",
    "ax.legend()\n",
    "ax.set_xlabel('Time (Gyr)', labelpad = 10, fontsize = 38)\n",
    "ax.set_ylabel('Volume average (km/s)', labelpad = 10, fontsize = 38)\n",
    "ax.ticklabel_format(axis='y', style='sci', scilimits=(0,0))\n",
    "plt.savefig(sdir + 'analysis_plots/velocities_vol.png')\n",
    "plt.close()\n",
    "\n",
    "print('Created volume weighted velocities \\n')"
   ]
  },
  {
   "cell_type": "code",
   "execution_count": 9,
   "metadata": {},
   "outputs": [
    {
     "name": "stdout",
     "output_type": "stream",
     "text": [
      "Creating velocity dispersion plots ...\n",
      "Velocity dispersion \n",
      "\n"
     ]
    }
   ],
   "source": [
    "# Velocity dispersion\n",
    "\n",
    "print('Creating velocity dispersion plots ...')\n",
    "\n",
    "fig, ax = plt.subplots(figsize = (15, 13))\n",
    "ax.plot(times, velocities_spread, color = 'red', label = 'Velocity')\n",
    "ax.plot(times, sounds_spread, color = 'green', label = 'Sound Speed')\n",
    "ax.plot(times, thermals_spread, color = 'blue', label = 'Thermal Speed')\n",
    "ax.legend()\n",
    "ax.set_xlabel('Time (Gyr)', labelpad = 10, fontsize = 38)\n",
    "ax.set_ylabel('Spread (km/s)', labelpad = 10, fontsize = 38)\n",
    "ax.ticklabel_format(axis='y', style='sci', scilimits=(0,0))\n",
    "plt.savefig(sdir + 'analysis_plots/velocities_spread.png')\n",
    "plt.close()\n",
    "\n",
    "print('Velocity dispersion \\n')"
   ]
  },
  {
   "cell_type": "code",
   "execution_count": 10,
   "metadata": {},
   "outputs": [
    {
     "name": "stdout",
     "output_type": "stream",
     "text": [
      "Creating mach number vs. time plot ...\n",
      "Created mach number vs. time plot \n",
      "\n"
     ]
    }
   ],
   "source": [
    "# Plot mach number vs. time\n",
    "\n",
    "print('Creating mach number vs. time plot ...')\n",
    "\n",
    "fig, ax = plt.subplots(figsize = (15, 13))\n",
    "ax.plot(times, mach_numbers_mass, color = 'red', label = 'Mass')\n",
    "ax.plot(times, mach_numbers_vol, color = 'green', label = 'Volume')\n",
    "ax.legend()\n",
    "ax.set_xlabel('Time (Gyr)', labelpad = 10, fontsize = 38)\n",
    "ax.set_ylabel('Average Mach Number', labelpad = 10, fontsize = 38)\n",
    "ax.ticklabel_format(axis='y', style='sci', scilimits=(0,0))\n",
    "plt.savefig(sdir + 'analysis_plots/mach_number_vs_time.png')\n",
    "plt.close()\n",
    "\n",
    "print('Created mach number vs. time plot \\n')"
   ]
  },
  {
   "cell_type": "code",
   "execution_count": 12,
   "metadata": {},
   "outputs": [
    {
     "name": "stdout",
     "output_type": "stream",
     "text": [
      "Processing all metals ... \n",
      "\n",
      "Creating mass-weighted central tendency of abundance vs. time plot for C ...\n",
      "Created mass-weighted central tendency of abundance vs. time plot for C \n",
      "\n",
      "Creating volume-weighted central tendency of abundance vs. time plot for C ...\n",
      "Created volume-weighted central tendency of abundance vs. time plot for C \n",
      "\n",
      "Creating spread of abundance vs. time plot for C ...\n",
      "Created spread of abundance vs. time plot for C \n",
      "\n",
      "Creating mass-weighted central tendency of abundance vs. time plot for N ...\n",
      "Created mass-weighted central tendency of abundance vs. time plot for N \n",
      "\n",
      "Creating volume-weighted central tendency of abundance vs. time plot for N ...\n",
      "Created volume-weighted central tendency of abundance vs. time plot for N \n",
      "\n",
      "Creating spread of abundance vs. time plot for N ...\n",
      "Created spread of abundance vs. time plot for N \n",
      "\n",
      "Creating mass-weighted central tendency of abundance vs. time plot for O ...\n",
      "Created mass-weighted central tendency of abundance vs. time plot for O \n",
      "\n",
      "Creating volume-weighted central tendency of abundance vs. time plot for O ...\n",
      "Created volume-weighted central tendency of abundance vs. time plot for O \n",
      "\n",
      "Creating spread of abundance vs. time plot for O ...\n",
      "Created spread of abundance vs. time plot for O \n",
      "\n",
      "Creating mass-weighted central tendency of abundance vs. time plot for Ne ...\n",
      "Created mass-weighted central tendency of abundance vs. time plot for Ne \n",
      "\n",
      "Creating volume-weighted central tendency of abundance vs. time plot for Ne ...\n",
      "Created volume-weighted central tendency of abundance vs. time plot for Ne \n",
      "\n",
      "Creating spread of abundance vs. time plot for Ne ...\n",
      "Created spread of abundance vs. time plot for Ne \n",
      "\n",
      "Creating mass-weighted central tendency of abundance vs. time plot for Mg ...\n",
      "Created mass-weighted central tendency of abundance vs. time plot for Mg \n",
      "\n",
      "Creating volume-weighted central tendency of abundance vs. time plot for Mg ...\n",
      "Created volume-weighted central tendency of abundance vs. time plot for Mg \n",
      "\n",
      "Creating spread of abundance vs. time plot for Mg ...\n",
      "Created spread of abundance vs. time plot for Mg \n",
      "\n",
      "Creating mass-weighted central tendency of abundance vs. time plot for Si ...\n",
      "Created mass-weighted central tendency of abundance vs. time plot for Si \n",
      "\n",
      "Creating volume-weighted central tendency of abundance vs. time plot for Si ...\n",
      "Created volume-weighted central tendency of abundance vs. time plot for Si \n",
      "\n",
      "Creating spread of abundance vs. time plot for Si ...\n",
      "Created spread of abundance vs. time plot for Si \n",
      "\n",
      "Creating mass-weighted central tendency of abundance vs. time plot for S ...\n",
      "Created mass-weighted central tendency of abundance vs. time plot for S \n",
      "\n",
      "Creating volume-weighted central tendency of abundance vs. time plot for S ...\n",
      "Created volume-weighted central tendency of abundance vs. time plot for S \n",
      "\n",
      "Creating spread of abundance vs. time plot for S ...\n",
      "Created spread of abundance vs. time plot for S \n",
      "\n",
      "Creating mass-weighted central tendency of abundance vs. time plot for Ca ...\n",
      "Created mass-weighted central tendency of abundance vs. time plot for Ca \n",
      "\n",
      "Creating volume-weighted central tendency of abundance vs. time plot for Ca ...\n",
      "Created volume-weighted central tendency of abundance vs. time plot for Ca \n",
      "\n",
      "Creating spread of abundance vs. time plot for Ca ...\n",
      "Created spread of abundance vs. time plot for Ca \n",
      "\n",
      "Creating mass-weighted central tendency of abundance vs. time plot for Fe ...\n",
      "Created mass-weighted central tendency of abundance vs. time plot for Fe \n",
      "\n",
      "Creating volume-weighted central tendency of abundance vs. time plot for Fe ...\n",
      "Created volume-weighted central tendency of abundance vs. time plot for Fe \n",
      "\n",
      "Creating spread of abundance vs. time plot for Fe ...\n",
      "Created spread of abundance vs. time plot for Fe \n",
      "\n",
      "Processed all metals\n"
     ]
    }
   ],
   "source": [
    "# Plotting abundance statistics for all metals\n",
    "\n",
    "print('Processing all metals ... \\n')\n",
    "\n",
    "for m in metals:\n",
    "    \n",
    "    # Mass-weighted central tendency\n",
    "    \n",
    "    print('Creating mass-weighted central tendency of abundance vs. time plot for {} ...'.format(m.title()))\n",
    "\n",
    "    fig, ax = plt.subplots(figsize = (15, 13))\n",
    "    ax.plot(times, mus[m], color = 'red', label = r'$\\mu$')\n",
    "    ax.plot(times, means_mass[m], color = 'green', label = 'Mass Weighted Mean')\n",
    "    ax.plot(times, medians_mass[m], color = 'blue', label = 'Mass Weighted Median')\n",
    "    ax.legend()\n",
    "    ax.set_xlabel('Time (Gyr)', labelpad = 10, fontsize = 38)\n",
    "    ax.set_ylabel('Central Tendency', labelpad = 10, fontsize = 38)\n",
    "    ax.set_title(m.title(), y = 1.04)\n",
    "    ax.ticklabel_format(axis='y', style='sci', scilimits=(0,0))\n",
    "    plt.savefig(sdir + 'analysis_plots/central_tendency_mass_{}_vs_time.png'.format(m))\n",
    "    plt.close()\n",
    "\n",
    "    print('Created mass-weighted central tendency of abundance vs. time plot for {} \\n'.format(m.title()))\n",
    "    \n",
    "    # Volume-weighted central tendency\n",
    "    \n",
    "    print('Creating volume-weighted central tendency of abundance vs. time plot for {} ...'.format(m.title()))\n",
    "\n",
    "    fig, ax = plt.subplots(figsize = (15, 13))\n",
    "    ax.plot(times, mus[m], color = 'red', label = r'$\\mu$')\n",
    "    ax.plot(times, means_vol[m], color = 'green', label = 'Volume Weighted Mean')\n",
    "    ax.plot(times, medians_vol[m], color = 'blue', label = 'Volume Weighted Median')\n",
    "    ax.legend()\n",
    "    ax.set_xlabel('Time (Gyr)', labelpad = 10, fontsize = 38)\n",
    "    ax.set_ylabel('Central Tendency', labelpad = 10, fontsize = 38)\n",
    "    ax.set_title(m.title(), y = 1.04)\n",
    "    ax.ticklabel_format(axis='y', style='sci', scilimits=(0,0))\n",
    "    plt.savefig(sdir + 'analysis_plots/central_tendency_vol_{}_vs_time.png'.format(m))\n",
    "    plt.close()\n",
    "\n",
    "    print('Created volume-weighted central tendency of abundance vs. time plot for {} \\n'.format(m.title()))\n",
    "\n",
    "    # Spread\n",
    "    \n",
    "    print('Creating spread of abundance vs. time plot for {} ...'.format(m.title()))\n",
    "\n",
    "    fig, ax = plt.subplots(figsize = (15, 13))\n",
    "    ax.plot(times, sigmas[m], color = 'red', label = r'$\\sigma$')\n",
    "    ax.plot(times, stds[m], color = 'green', label = 'Standard Deviation')\n",
    "    ax.legend()\n",
    "    ax.set_xlabel('Time (Gyr)', labelpad = 10, fontsize = 38)\n",
    "    ax.set_ylabel('Spread', labelpad = 10, fontsize = 38)\n",
    "    ax.set_title(m.title(), y = 1.04)\n",
    "    ax.ticklabel_format(axis='y', style='sci', scilimits=(0,0))\n",
    "    plt.savefig(sdir + 'analysis_plots/spread_{}_vs_time.png'.format(m))\n",
    "    plt.close()\n",
    "\n",
    "    print('Created spread of abundance vs. time plot for {} \\n'.format(m.title()))\n",
    "    \n",
    "print('Processed all metals')"
   ]
  }
 ],
 "metadata": {
  "kernelspec": {
   "display_name": "Python 3",
   "language": "python",
   "name": "python3"
  },
  "language_info": {
   "codemirror_mode": {
    "name": "ipython",
    "version": 3
   },
   "file_extension": ".py",
   "mimetype": "text/x-python",
   "name": "python",
   "nbconvert_exporter": "python",
   "pygments_lexer": "ipython3",
   "version": "3.7.6"
  }
 },
 "nbformat": 4,
 "nbformat_minor": 4
}
