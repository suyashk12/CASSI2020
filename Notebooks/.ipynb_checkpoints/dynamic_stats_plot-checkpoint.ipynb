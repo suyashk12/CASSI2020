{
 "cells": [
  {
   "cell_type": "markdown",
   "metadata": {},
   "source": [
    "Importing necessary libraries"
   ]
  },
  {
   "cell_type": "code",
   "execution_count": 21,
   "metadata": {},
   "outputs": [],
   "source": [
    "import numpy as np\n",
    "import matplotlib.pyplot as plt\n",
    "from matplotlib import colors\n",
    "from scipy import optimize\n",
    "import pandas as pd\n",
    "import glob\n",
    "import math\n",
    "import os"
   ]
  },
  {
   "cell_type": "markdown",
   "metadata": {},
   "source": [
    "Setting text properties for plots"
   ]
  },
  {
   "cell_type": "code",
   "execution_count": 22,
   "metadata": {},
   "outputs": [],
   "source": [
    "plt.rcParams.update({'font.size': 26})\n",
    "plt.ticklabel_format(axis='both', style='sci', scilimits=(0,0))\n",
    "plt.close()"
   ]
  },
  {
   "cell_type": "markdown",
   "metadata": {},
   "source": [
    "Importing dataset"
   ]
  },
  {
   "cell_type": "code",
   "execution_count": 23,
   "metadata": {},
   "outputs": [
    {
     "name": "stdout",
     "output_type": "stream",
     "text": [
      "Enter simulation directory path: /Users/thepoetoftwilight/Documents/CASSI2020/CASSI2020-Data/m10q_res16000_test/\n"
     ]
    }
   ],
   "source": [
    "# Specifying simulation directory and the directory to save results in\n",
    "wdir = str(input('Enter simulation directory path: '))\n",
    "\n",
    "# Specifying a snapshot for temporal analysis\n",
    "sdir = wdir + 'temporal_analysis/'\n",
    "\n",
    "# Create a directory to store time evolution analysis plots\n",
    "if not os.path.exists(sdir + 'analysis_plots/'):\n",
    "    os.makedirs(sdir + 'analysis_plots/')"
   ]
  },
  {
   "cell_type": "code",
   "execution_count": 24,
   "metadata": {},
   "outputs": [],
   "source": [
    "# Get all rendered indices\n",
    "\n",
    "rendered_df = pd.read_csv(sdir + 'rendered_snap_stats.csv')\n",
    "\n",
    "rendered_indices = rendered_df['snap'].to_list()\n",
    "num_snaps = len(rendered_indices)\n",
    "\n",
    "# Get various properties of the galaxies\n",
    "\n",
    "halo_masses = rendered_df['halo_mass'].to_list()\n",
    "\n",
    "redshifts = rendered_df['redshift'].to_list()\n",
    "times = rendered_df['time'].to_list()\n",
    "\n",
    "SFRs_10 = rendered_df['SFR@10Myr'].to_list()\n",
    "SFRs_100 = rendered_df['SFR@100Myr'].to_list()\n",
    "SFRs_1000 = rendered_df['SFR@1000Myr'].to_list()\n",
    "\n",
    "mach_numbers_mass = rendered_df['mach_number_mass'].to_list()\n",
    "mach_numbers_vol = rendered_df['mach_number_vol'].to_list()"
   ]
  },
  {
   "cell_type": "code",
   "execution_count": 25,
   "metadata": {},
   "outputs": [],
   "source": [
    "# Get rendered metals\n",
    "\n",
    "metal_df = pd.read_csv((sdir + 'metal_list.csv'))\n",
    "metals = metal_df['metals'].to_list()\n",
    "\n",
    "# Create a list of paths for all metals\n",
    "spath_metals = {}\n",
    "\n",
    "for m in metals:\n",
    "    spath_metals[m] = sdir + m + '/'\n",
    "\n",
    "mus = {}\n",
    "medians = {}\n",
    "sigmas = {}\n",
    "\n",
    "for m in metals:\n",
    "    # Load all fit parameters\n",
    "    filename = 'fit_' + m + '_params.csv'\n",
    "    param_df = pd.read_csv(spath_metals[m] + '/data/fit/' + filename)\n",
    "    \n",
    "    mu = param_df['mu'].to_list()\n",
    "    median = param_df['median'].to_list()\n",
    "    sigma = param_df['sigma'].to_list()\n",
    "    \n",
    "    mus[m] = mu\n",
    "    medians[m] = median\n",
    "    sigmas[m] = sigma"
   ]
  },
  {
   "cell_type": "code",
   "execution_count": 26,
   "metadata": {},
   "outputs": [
    {
     "name": "stdout",
     "output_type": "stream",
     "text": [
      "Creating halo mass vs. time plot ...\n",
      "Created halo mass vs. time plot \n",
      "\n"
     ]
    }
   ],
   "source": [
    "# Plot halo mass vs. time\n",
    "\n",
    "print('Creating halo mass vs. time plot ...')\n",
    "\n",
    "fig, ax = plt.subplots(figsize = (15, 13))\n",
    "ax.plot(times, halo_masses, color = 'red')\n",
    "ax.set_xlabel('Time (Gyr)', labelpad = 10, fontsize = 38)\n",
    "ax.set_ylabel(r'Halo Mass ($M_{\\odot}$)', labelpad = 10, fontsize = 38)\n",
    "ax.set_title('Halo Mass vs. Time', y = 1.04)\n",
    "ax.ticklabel_format(axis='both', style='sci', scilimits=(0,0))\n",
    "plt.savefig(sdir + 'analysis_plots/halo_mass_vs_time.png')\n",
    "plt.close()\n",
    "\n",
    "print('Created halo mass vs. time plot \\n')"
   ]
  },
  {
   "cell_type": "code",
   "execution_count": 27,
   "metadata": {},
   "outputs": [
    {
     "name": "stdout",
     "output_type": "stream",
     "text": [
      "Creating SFR vs. time plot ...\n",
      "Created SFR vs. time plot \n",
      "\n"
     ]
    }
   ],
   "source": [
    "# Plot SFR's as a function of time\n",
    "\n",
    "print('Creating SFR vs. time plot ...')\n",
    "\n",
    "fig, ax = plt.subplots(figsize = (15, 13))\n",
    "ax.plot(times, SFRs_10, color = 'red', label = '10 Myr')\n",
    "ax.plot(times, SFRs_100, color = 'green', label = '100 Myr')\n",
    "ax.plot(times, SFRs_1000, color = 'blue', label = '1000 Myr')\n",
    "ax.legend()\n",
    "ax.set_xlabel('Time (Gyr)', labelpad = 10, fontsize = 38)\n",
    "ax.set_ylabel(r'SFR ($M_{\\odot}/yr$)', labelpad = 10, fontsize = 38)\n",
    "ax.set_title('SFR vs. Time', y = 1.04)\n",
    "ax.ticklabel_format(axis='both', style='sci', scilimits=(0,0))\n",
    "plt.savefig(sdir + 'analysis_plots/SFR_vs_time.png')\n",
    "plt.close()\n",
    "\n",
    "print('Created SFR vs. time plot \\n')"
   ]
  },
  {
   "cell_type": "code",
   "execution_count": 28,
   "metadata": {},
   "outputs": [
    {
     "name": "stdout",
     "output_type": "stream",
     "text": [
      "Creating mach number vs. time plot ...\n",
      "Created mach number vs. time plot \n",
      "\n"
     ]
    }
   ],
   "source": [
    "# Plot mach number vs. time\n",
    "\n",
    "print('Creating mach number vs. time plot ...')\n",
    "\n",
    "fig, ax = plt.subplots(figsize = (15, 13))\n",
    "ax.plot(times, mach_numbers_mass, color = 'red', label = 'Mass')\n",
    "ax.plot(times, mach_numbers_vol, color = 'green', label = 'Volume')\n",
    "ax.legend()\n",
    "ax.set_xlabel('Time (Gyr)', labelpad = 10, fontsize = 38)\n",
    "ax.set_ylabel('Average Mach Number', labelpad = 10, fontsize = 38)\n",
    "ax.set_title('Average Mach Number vs. Time', y = 1.04)\n",
    "ax.ticklabel_format(axis='both', style='sci', scilimits=(0,0))\n",
    "plt.savefig(sdir + 'analysis_plots/mach_number_vs_time.png')\n",
    "plt.close()\n",
    "\n",
    "print('Created mach number vs. time plot \\n')"
   ]
  },
  {
   "cell_type": "code",
   "execution_count": 29,
   "metadata": {},
   "outputs": [
    {
     "name": "stdout",
     "output_type": "stream",
     "text": [
      "Processing all metals ... \n",
      "\n",
      "Creating central tendency of abundance vs. time plot for C ...\n",
      "Created central tendency of abundance vs. time plot for C \n",
      "\n",
      "Creating spread of abundance vs. time plot for C ...\n",
      "Created spread of abundance vs. time plot for C \n",
      "\n",
      "Creating central tendency of abundance vs. time plot for N ...\n",
      "Created central tendency of abundance vs. time plot for N \n",
      "\n",
      "Creating spread of abundance vs. time plot for N ...\n",
      "Created spread of abundance vs. time plot for N \n",
      "\n",
      "Creating central tendency of abundance vs. time plot for O ...\n",
      "Created central tendency of abundance vs. time plot for O \n",
      "\n",
      "Creating spread of abundance vs. time plot for O ...\n",
      "Created spread of abundance vs. time plot for O \n",
      "\n",
      "Creating central tendency of abundance vs. time plot for Ne ...\n",
      "Created central tendency of abundance vs. time plot for Ne \n",
      "\n",
      "Creating spread of abundance vs. time plot for Ne ...\n",
      "Created spread of abundance vs. time plot for Ne \n",
      "\n",
      "Creating central tendency of abundance vs. time plot for Mg ...\n",
      "Created central tendency of abundance vs. time plot for Mg \n",
      "\n",
      "Creating spread of abundance vs. time plot for Mg ...\n",
      "Created spread of abundance vs. time plot for Mg \n",
      "\n",
      "Creating central tendency of abundance vs. time plot for Si ...\n",
      "Created central tendency of abundance vs. time plot for Si \n",
      "\n",
      "Creating spread of abundance vs. time plot for Si ...\n",
      "Created spread of abundance vs. time plot for Si \n",
      "\n",
      "Creating central tendency of abundance vs. time plot for S ...\n",
      "Created central tendency of abundance vs. time plot for S \n",
      "\n",
      "Creating spread of abundance vs. time plot for S ...\n",
      "Created spread of abundance vs. time plot for S \n",
      "\n",
      "Creating central tendency of abundance vs. time plot for Ca ...\n",
      "Created central tendency of abundance vs. time plot for Ca \n",
      "\n",
      "Creating spread of abundance vs. time plot for Ca ...\n",
      "Created spread of abundance vs. time plot for Ca \n",
      "\n",
      "Creating central tendency of abundance vs. time plot for Fe ...\n",
      "Created central tendency of abundance vs. time plot for Fe \n",
      "\n",
      "Creating spread of abundance vs. time plot for Fe ...\n",
      "Created spread of abundance vs. time plot for Fe \n",
      "\n",
      "Processed all metals\n"
     ]
    }
   ],
   "source": [
    "# Plotting abundance statistics for all metals\n",
    "\n",
    "print('Processing all metals ... \\n')\n",
    "\n",
    "for m in metals:\n",
    "\n",
    "    print('Creating central tendency of abundance vs. time plot for {} ...'.format(m.title()))\n",
    "\n",
    "    fig, ax = plt.subplots(figsize = (15, 13))\n",
    "    ax.plot(times, mus[m], color = 'red', label = r'$\\mu$')\n",
    "    ax.plot(times, medians[m], color = 'green', label = 'Median')\n",
    "    ax.legend()\n",
    "    ax.set_xlabel('Time (Gyr)', labelpad = 10, fontsize = 38)\n",
    "    ax.set_ylabel('Central Tendency', labelpad = 10, fontsize = 38)\n",
    "    ax.set_title('Central Tendency of {} Abundance vs. Time'.format(m.title()), y = 1.04)\n",
    "    ax.ticklabel_format(axis='both', style='sci', scilimits=(0,0))\n",
    "    plt.savefig(sdir + 'analysis_plots/central_tendency_{}_vs_time.png'.format(m))\n",
    "    plt.close()\n",
    "\n",
    "    print('Created central tendency of abundance vs. time plot for {} \\n'.format(m.title()))\n",
    "\n",
    "    print('Creating spread of abundance vs. time plot for {} ...'.format(m.title()))\n",
    "\n",
    "    fig, ax = plt.subplots(figsize = (15, 13))\n",
    "    ax.plot(times, sigmas[m], color = 'red', label = r'$\\sigma$')\n",
    "    ax.set_xlabel('Time (Gyr)', labelpad = 10, fontsize = 38)\n",
    "    ax.set_ylabel(r'$\\sigma$', labelpad = 10, fontsize = 38)\n",
    "    ax.set_title('Spread of {} Abundance vs. Time'.format(m.title()), y = 1.04)\n",
    "    ax.ticklabel_format(axis='both', style='sci', scilimits=(0,0))\n",
    "    plt.savefig(sdir + 'analysis_plots/spread_{}_vs_time.png'.format(m))\n",
    "    plt.close()\n",
    "\n",
    "    print('Created spread of abundance vs. time plot for {} \\n'.format(m.title()))\n",
    "    \n",
    "print('Processed all metals')"
   ]
  },
  {
   "cell_type": "code",
   "execution_count": null,
   "metadata": {},
   "outputs": [],
   "source": []
  }
 ],
 "metadata": {
  "kernelspec": {
   "display_name": "Python 3",
   "language": "python",
   "name": "python3"
  },
  "language_info": {
   "codemirror_mode": {
    "name": "ipython",
    "version": 3
   },
   "file_extension": ".py",
   "mimetype": "text/x-python",
   "name": "python",
   "nbconvert_exporter": "python",
   "pygments_lexer": "ipython3",
   "version": "3.7.6"
  }
 },
 "nbformat": 4,
 "nbformat_minor": 4
}
