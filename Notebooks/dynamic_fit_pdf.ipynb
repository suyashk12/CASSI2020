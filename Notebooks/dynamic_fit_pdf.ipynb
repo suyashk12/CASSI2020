{
 "cells": [
  {
   "cell_type": "markdown",
   "metadata": {},
   "source": [
    "Importing necessary libraries"
   ]
  },
  {
   "cell_type": "code",
   "execution_count": 1,
   "metadata": {},
   "outputs": [],
   "source": [
    "import numpy as np\n",
    "import matplotlib.pyplot as plt\n",
    "from matplotlib import colors\n",
    "from scipy import optimize\n",
    "import pandas as pd\n",
    "import glob\n",
    "import math\n",
    "import os"
   ]
  },
  {
   "cell_type": "markdown",
   "metadata": {},
   "source": [
    "Setting text properties for plots"
   ]
  },
  {
   "cell_type": "code",
   "execution_count": 2,
   "metadata": {},
   "outputs": [],
   "source": [
    "plt.rcParams.update({'font.size': 26})\n",
    "plt.ticklabel_format(axis='both', style='sci', scilimits=(0,0))\n",
    "plt.close()"
   ]
  },
  {
   "cell_type": "markdown",
   "metadata": {},
   "source": [
    "Given a dataset $X, Y$ each having size $n$ and a fitting function $f$, we define our fit error measure as -\n",
    "\n",
    "$$J = \\sum_{i=1}^{n} (y_i - f(x_i))^2$$"
   ]
  },
  {
   "cell_type": "code",
   "execution_count": 3,
   "metadata": {},
   "outputs": [],
   "source": [
    "def fit_error(y, f):\n",
    "    return np.sum((y-f)**2)"
   ]
  },
  {
   "cell_type": "markdown",
   "metadata": {},
   "source": [
    "Fitting function 1, Gaussian - \n",
    "\n",
    "$$ p(z)= \\frac{A}{\\sqrt{2 \\pi \\sigma^2}} e^{-\\frac{(z-\\mu)^2}{2 \\sigma^2}}$$\n",
    "\n",
    "Which we want to obey the same normalization as the numerical PDF -\n",
    "\n",
    "$$ \\int_{-\\infty}^{\\infty} p(z) dz = \\sum_{i = 1}^{n} w_i$$"
   ]
  },
  {
   "cell_type": "code",
   "execution_count": 4,
   "metadata": {},
   "outputs": [],
   "source": [
    "def fit_func_1(Z, A, mu, sigma):\n",
    "    \n",
    "    P = (A/np.sqrt(2*np.pi*sigma**2))*np.exp(-((Z-mu)**2/(2*sigma**2)))\n",
    "    \n",
    "    return P"
   ]
  },
  {
   "cell_type": "markdown",
   "metadata": {},
   "source": [
    "Fitting function 2, normalized, piece-wise gaussian + power-law given by - \n",
    "\n",
    "$$ p(z)=  \\left\\{\n",
    "\\begin{array}{ll}\n",
    "      \\frac{A}{\\sqrt{2 \\pi \\sigma^2}} e^{-\\frac{(z-\\mu)^2}{2 \\sigma^2}} : z < z_T \\\\\n",
    "      B e^{- \\alpha z} : z \\ge z_T \\\\\n",
    "\\end{array} \n",
    "\\right. $$\n",
    "\n",
    "Enforcing continuity at $z = z_T$ yields -\n",
    "\n",
    "$$ B = \\frac{Ae^{\\alpha z_T}}{\\sqrt{2 \\pi \\sigma^2}} e^{- \\frac{(z_T - \\mu)^2}{2 \\sigma^2}} $$\n",
    "\n",
    "Further, enforcing normalization identical to the numerical PDF, we get -\n",
    "\n",
    "$$A = \\frac{\\sum_{i = 1}^{n} w_i}{\\frac{1}{2}\\left( erf \\left( \\frac{z_T - \\mu}{\\sqrt{2} \\sigma} \\right) \\right) + \\frac{1}{\\alpha \\sqrt{2 \\pi \\sigma^2}} e^{- \\frac{(z_T - \\mu)^2}{2 \\sigma^2}}} $$\n",
    "\n",
    "Thus, the normalized PDF is -\n",
    "\n",
    "$$ p(z)=  \\frac{A}{\\sqrt{2 \\pi \\sigma^2}} \\left\\{\n",
    "\\begin{array}{ll}\n",
    "      e^{-\\frac{(z-\\mu)^2}{2 \\sigma^2}} : z < z_T \\\\\n",
    "      e^{-\\frac{(z_T-\\mu)^2}{2 \\sigma^2}} \\cdot e^{- \\alpha(z-z_T)} : z \\ge z_T \\\\\n",
    "\\end{array} \n",
    "\\right. $$\n",
    "\n",
    "Which obeys the same normalization as the numerical PDF -\n",
    "\n",
    "$$ \\int_{-\\infty}^{\\infty} p(z) dz = \\sum_{i = 1}^{n} w_i $$"
   ]
  },
  {
   "cell_type": "code",
   "execution_count": 5,
   "metadata": {},
   "outputs": [],
   "source": [
    "def fit_func_2(Z, A, mu, sigma, alpha, z_T):\n",
    "    \n",
    "    B = (A*np.exp(alpha*z_T))/np.sqrt(2*np.pi*sigma**2)*np.exp(-(z_T-mu)**2/(2*sigma**2))\n",
    "    \n",
    "    Z_1 = Z[np.where(Z <= z_T)]\n",
    "    Z_2 = Z[np.where(Z > z_T)]\n",
    "    \n",
    "    P_1 = (A/np.sqrt(2*np.pi*sigma**2))*np.exp(-((Z_1 - mu)**2/(2*sigma**2)))\n",
    "    P_2 = B*np.exp(-alpha*Z_2)\n",
    "\n",
    "    P = np.concatenate([P_1, P_2])\n",
    "    \n",
    "    return P"
   ]
  },
  {
   "cell_type": "markdown",
   "metadata": {},
   "source": [
    "Constructing fitted PDF"
   ]
  },
  {
   "cell_type": "code",
   "execution_count": 6,
   "metadata": {},
   "outputs": [],
   "source": [
    "def fit_PDF(centers, heights):\n",
    "            \n",
    "    fit = np.zeros(len(centers))\n",
    "    fit_err = 0\n",
    "    fit_params = np.zeros(5)\n",
    "\n",
    "    # If all bins are empty\n",
    "    if (np.all(heights == 0)):\n",
    "        fit_params = np.array([0, float('nan'), float('nan'), float('nan'), float('nan')])\n",
    "    \n",
    "    # Otherwise\n",
    "    else:\n",
    "        \n",
    "        # Information about the peak in the numerical PDF\n",
    "        peak_ind = np.where(heights == np.max(heights))[0][0]\n",
    "        peak_height = np.max(heights)\n",
    "        \n",
    "        # mu is where the numerical PDF peaks\n",
    "        mu = centers[peak_ind]\n",
    "        \n",
    "        # Estimating sigma using FWHM\n",
    "        sigma = 0\n",
    "        \n",
    "        for i in range(0, peak_ind):\n",
    "            if(heights[i] >= peak_height/2):\n",
    "                sigma = (mu - centers[i])/np.sqrt(2*np.log(2))\n",
    "                break\n",
    "          \n",
    "        # Estimating A accordingly, by using the peak value at mu\n",
    "        A = np.sqrt(2*np.pi*sigma**2)*peak_height\n",
    "        \n",
    "        # First fit a Gaussian\n",
    "            \n",
    "        guess_params = np.array([A, mu, sigma])\n",
    "        fit_params, fit_covar = optimize.curve_fit(fit_func_1, centers, heights, p0=guess_params)\n",
    "        fit = fit_func_1(centers, *fit_params)\n",
    "        fit_err = fit_error(heights, fit)\n",
    "        fit_params = np.concatenate([fit_params, np.array([float('nan'), float('nan')])])\n",
    "                \n",
    "        prev_err = fit_err\n",
    "        \n",
    "        # See if an exponential decay tail exists and is a better fit\n",
    "        \n",
    "        try:\n",
    "        \n",
    "            for i in range(peak_ind, len(centers)):\n",
    "            \n",
    "                v_T = centers[i] \n",
    "                init_height = heights[i]\n",
    "            \n",
    "                # Estimating alpha using half-life decay\n",
    "                alpha = 0\n",
    "        \n",
    "                for j in range(i+1, len(centers)):\n",
    "                    if(heights[j] <= init_height/2):\n",
    "                        alpha = np.log(2)/(centers[j]-v_T)\n",
    "                        break\n",
    "            \n",
    "                curr_guess_params = np.array([A, mu, sigma, alpha])\n",
    "            \n",
    "                curr_fit_params, curr_fit_covar = optimize.curve_fit(\n",
    "                            lambda centers, A, mu, sigma, alpha: fit_func_2(centers, A, mu, sigma, alpha, v_T)\n",
    "                                , centers, heights, p0=curr_guess_params, method = 'dogbox', maxfev = 5000)\n",
    "            \n",
    "                curr_fit = fit_func_2(centers, *curr_fit_params, v_T)\n",
    "                curr_err = fit_error(heights, curr_fit)\n",
    "\n",
    "                if(curr_err < prev_err):\n",
    "                    fit = curr_fit\n",
    "                    fit_err = curr_err\n",
    "                    fit_params = np.concatenate([curr_fit_params, np.array([v_T])])\n",
    "                \n",
    "                prev_err = curr_err\n",
    "\n",
    "        except:        \n",
    "            pass\n",
    "    \n",
    "    return fit, fit_params"
   ]
  },
  {
   "cell_type": "markdown",
   "metadata": {},
   "source": [
    "Importing dataset"
   ]
  },
  {
   "cell_type": "code",
   "execution_count": 7,
   "metadata": {},
   "outputs": [
    {
     "name": "stdout",
     "output_type": "stream",
     "text": [
      "Enter simulation directory path: /Users/thepoetoftwilight/Documents/CASSI2020/CASSI2020-Data/m10q_res16000_test/\n"
     ]
    }
   ],
   "source": [
    "# Specifying simulation directory and the directory to save results in\n",
    "wdir = str(input('Enter simulation directory path: '))\n",
    "\n",
    "# Specifying a snapshot for temporal analysis\n",
    "sdir = wdir + 'temporal_analysis/'"
   ]
  },
  {
   "cell_type": "code",
   "execution_count": 8,
   "metadata": {},
   "outputs": [],
   "source": [
    "# Get all rendered indices\n",
    "\n",
    "rendered_df = pd.read_csv(sdir + 'rendered_snap_stats.csv')\n",
    "rendered_indices = rendered_df['snap'].to_list()\n",
    "redshifts = rendered_df['redshift'].to_list()\n",
    "num_snaps = len(rendered_indices)\n",
    "\n",
    "# Get rendered metals\n",
    "\n",
    "metal_df = pd.read_csv((sdir + 'metal_list.csv'))\n",
    "metals = metal_df['metals'].to_list()\n",
    "\n",
    "# Create a list of paths for all metals\n",
    "spath_metals = {}\n",
    "\n",
    "for m in metals:\n",
    "    spath_metals[m] = sdir + m + '/'"
   ]
  },
  {
   "cell_type": "code",
   "execution_count": 9,
   "metadata": {},
   "outputs": [
    {
     "name": "stdout",
     "output_type": "stream",
     "text": [
      "Processing snapshot 600 ... \n",
      "\n",
      "Processing C ...\n",
      "Completed rendering for C\n",
      "\n",
      "Processing N ...\n",
      "Completed rendering for N\n",
      "\n",
      "Processing O ...\n",
      "Completed rendering for O\n",
      "\n",
      "Processing Ne ...\n",
      "Completed rendering for Ne\n",
      "\n",
      "Processing Mg ...\n",
      "Completed rendering for Mg\n",
      "\n",
      "Processing Si ...\n",
      "Completed rendering for Si\n",
      "\n",
      "Processing S ...\n",
      "Completed rendering for S\n",
      "\n",
      "Processing Ca ...\n",
      "Completed rendering for Ca\n",
      "\n",
      "Processing Fe ...\n",
      "Completed rendering for Fe\n",
      "\n",
      "Completed fitting for snapshot 600\n",
      "\n"
     ]
    }
   ],
   "source": [
    "# Get statistics for all snapshots\n",
    "As = {}\n",
    "mus = {}\n",
    "medians = {}\n",
    "sigmas = {}\n",
    "alphas = {}\n",
    "z_Ts = {}\n",
    "\n",
    "for m in metals:\n",
    "    As[m] = []\n",
    "    mus[m] = []\n",
    "    sigmas[m] = []\n",
    "    alphas[m] = []\n",
    "    z_Ts[m] = []\n",
    "    medians[m] = []\n",
    "    \n",
    "for i in range(0, num_snaps):\n",
    "    \n",
    "    snap_index = rendered_indices[i]\n",
    "    redshift = redshifts[i]\n",
    "\n",
    "    print('Processing snapshot {} ... \\n'.format(str(snap_index)))\n",
    "    \n",
    "    # Get numerical data for all metals\n",
    "    for m in metals:\n",
    "        \n",
    "        print('Processing {} ...'.format(m.title()))\n",
    "        \n",
    "        # Load the numerical PDF and normalize\n",
    "        \n",
    "        num_df = pd.read_csv(spath_metals[m] +'data/num/' + str(snap_index) + '-num_' + m + '_data.csv')\n",
    "        centers = np.array(num_df['abundance'].to_list())\n",
    "        heights = np.array(num_df['num_val'].to_list())\n",
    "        \n",
    "        mass_norm = np.max(heights)\n",
    "        if mass_norm != 0:\n",
    "            heights /= mass_norm\n",
    "        \n",
    "        # Compute the fitted PDF\n",
    "        \n",
    "        fit, fit_params = fit_PDF(centers, heights)\n",
    "        \n",
    "        # Rescaling range to achieve desired normalization\n",
    "        \n",
    "        heights *= mass_norm\n",
    "        fit *= mass_norm\n",
    "        fit_params[0] *= mass_norm\n",
    "\n",
    "        # Saving the fitted data\n",
    "        \n",
    "        datafile =  str(snap_index) + '-fit_' + m + '_data' + '.csv'\n",
    "        \n",
    "        fit_dict = {'abundance': centers, 'fit_val': fit}\n",
    "        fit_df = pd.DataFrame(fit_dict)\n",
    "        fit_df.to_csv(spath_metals[m] + 'data/fit/' + datafile)\n",
    "        \n",
    "        # Append fit parameters to their respective series\n",
    "        \n",
    "        As[m].append(fit_params[0])\n",
    "        mus[m].append(fit_params[1])\n",
    "        medians[m].append(np.median(centers))\n",
    "        sigmas[m].append(fit_params[2])\n",
    "        alphas[m].append(fit_params[3])\n",
    "        z_Ts[m].append(fit_params[4])\n",
    "\n",
    "        # Create plots and store them\n",
    "        fig, ax = plt.subplots(figsize = (15, 13))\n",
    "        delta_centers = centers - np.median(centers)\n",
    "        ax.plot(delta_centers, heights, label = 'Raw', color = 'green')\n",
    "        ax.plot(delta_centers, fit, label = 'Fit', linestyle = ':', color = 'green')\n",
    "\n",
    "        ax.set_xlabel(\n",
    "            r'$\\left[\\frac{{{0}}}{{H}} \\right] - med\\left(\\left[\\frac{{{0}}}{{H}} \\right]\\right)$'.format(m.title()), \n",
    "            fontsize = 38, labelpad = 5)\n",
    "        ax.set_ylabel(r'$p_{{{0}, X}} \\left( \\left[ \\frac{{{0}}}{{H}} \\right] \\right)$'.format(m.title()),\n",
    "             fontsize = 38, labelpad = 10)\n",
    "\n",
    "        ax.set_title(\n",
    "            'Abundance of {0} in neutral medium, z = {1}'.format(m.title(), str(round(redshift, 2))), y = 1.06)\n",
    "        ax.ticklabel_format(axis='both', style='sci', scilimits=(0,0))\n",
    "        ax.legend()\n",
    "        fig.savefig(spath_metals[m] + 'images/fit/' + \n",
    "                    '{0}-fit_{1}.png'.format(str(snap_index), m.title()))\n",
    "        plt.close()\n",
    "        \n",
    "        print('Completed rendering for ' + m.title() + '\\n') \n",
    "\n",
    "    print('Completed fitting for snapshot ' + str(snap_index) + '\\n')        "
   ]
  },
  {
   "cell_type": "code",
   "execution_count": 10,
   "metadata": {},
   "outputs": [],
   "source": [
    "for m in metals:\n",
    "    param_dict = {'snap': rendered_indices, \n",
    "                  'A': As[m], 'mu': mus[m], 'median': medians[m], 'sigma': sigmas[m], \n",
    "                  'alpha': alphas[m], 'z_T': z_Ts[m]}\n",
    "    param_df = pd.DataFrame(param_dict)\n",
    "    param_df.to_csv(spath_metals[m] + 'data/fit/fit_{}_params.csv'.format(m))"
   ]
  },
  {
   "cell_type": "code",
   "execution_count": null,
   "metadata": {},
   "outputs": [],
   "source": []
  }
 ],
 "metadata": {
  "kernelspec": {
   "display_name": "Python 3",
   "language": "python",
   "name": "python3"
  },
  "language_info": {
   "codemirror_mode": {
    "name": "ipython",
    "version": 3
   },
   "file_extension": ".py",
   "mimetype": "text/x-python",
   "name": "python",
   "nbconvert_exporter": "python",
   "pygments_lexer": "ipython3",
   "version": "3.7.6"
  }
 },
 "nbformat": 4,
 "nbformat_minor": 4
}
