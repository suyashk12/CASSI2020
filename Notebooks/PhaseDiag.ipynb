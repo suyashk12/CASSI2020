{
 "cells": [
  {
   "cell_type": "markdown",
   "metadata": {},
   "source": [
    "Importing necessary libraries"
   ]
  },
  {
   "cell_type": "code",
   "execution_count": 1,
   "metadata": {},
   "outputs": [],
   "source": [
    "import gizmo_analysis as gizmo\n",
    "import utilities as ut\n",
    "import numpy as np\n",
    "import matplotlib.pyplot as plt\n",
    "from matplotlib import colors"
   ]
  },
  {
   "cell_type": "markdown",
   "metadata": {},
   "source": [
    "Importing dataset"
   ]
  },
  {
   "cell_type": "code",
   "execution_count": 2,
   "metadata": {},
   "outputs": [
    {
     "name": "stdout",
     "output_type": "stream",
     "text": [
      "Enter simulation directory path: /Users/thepoetoftwilight/Documents/CASSI2020/CASSI2020-Data/m10q_res16000_test/\n",
      "Enter path of storage directory relative to simulation directory: files/phase_diag/\n",
      "Enter snapshot index: 600\n",
      "\n",
      "# in utilities.simulation.Snapshot():\n",
      "* reading:  Users/thepoetoftwilight/Documents/CASSI2020/CASSI2020-Data/m10q_res16000_test/snapshot_times.txt\n",
      "\n",
      "  using snapshot index = 600, redshift = 0.000\n",
      "\n",
      "\n",
      "# in gizmo_analysis.gizmo_io.Read():\n",
      "* reading header from:  Users/thepoetoftwilight/Documents/CASSI2020/CASSI2020-Data/m10q_res16000_test/output/snapshot_600.hdf5\n",
      "  snapshot contains the following number of particles:\n",
      "    dark      (id = 1): 260408 particles\n",
      "    dark2     (id = 2): 2281573 particles\n",
      "    gas       (id = 0): 259203 particles\n",
      "    star      (id = 4): 1205 particles\n",
      "    blackhole (id = 5): 0 particles\n",
      "\n",
      "* reading species: ['star', 'gas', 'dark']\n",
      "* reading particles from:\n",
      "    Users/thepoetoftwilight/Documents/CASSI2020/CASSI2020-Data/m10q_res16000_test/output/snapshot_600.hdf5\n",
      "\n",
      "! cannot find MUSIC config file:  Users/thepoetoftwilight/Documents/CASSI2020/CASSI2020-Data/m10q_res16000_test/*/*.conf\n",
      "! missing cosmological parameters, assuming the following (from AGORA box):\n",
      "  assuming omega_baryon = 0.0455\n",
      "  assuming sigma_8 = 0.807\n",
      "  assuming n_s = 0.961\n",
      "\n",
      "* checking sanity of particle properties\n",
      "! warning: star massfraction [min, max] = [0.000, 1.148e10]\n",
      "! warning: gas massfraction [min, max] = [0.000, 1.915e11]\n",
      "\n",
      "\n",
      "# in gizmo_analysis.gizmo_track.ParticleCoordinate():\n",
      "* reading hosts position, velocity, rotation, axis ratios from:  Users/thepoetoftwilight/Documents/CASSI2020/CASSI2020-Data/m10q_res16000_test/track/star_form_coordinates_600.hdf5\n",
      "  cannot read file containing hosts coordinates\n",
      "  instead will assign hosts via iterative zoom on particle mass\n",
      "\n",
      "# in utilities.particle.get_center_positions():\n",
      "* assigning center position for 1 host[s], via iterative zoom-in on star particle mass\n",
      "  host1 position = (3317.007, 2971.114, 3350.615) [kpc comoving]\n",
      "\n",
      "# in utilities.particle.get_center_velocities():\n",
      "* assigning center velocity for 1 host[s], weighting by star particles by mass\n",
      "  host1 velocity = (-6.0, -10.4, -2.8) [km / s]\n",
      "\n",
      "\n",
      "# in utilities.particle.get_principal_axes():\n",
      "* assigning principal axes rotation tensor for 1 host[s]\n",
      "  using star particles at distance < 10.0 kpc\n",
      "  using youngest 25% of star particles\n",
      "  host1: using star particles with age = [0.000, 3.589] Gyr\n",
      "  host1: axis ratios: min/maj = 0.356, min/med = 0.533, med/maj = 0.669\n",
      "\n",
      "\n",
      "# in utilities.particle.get_halo_properties():\n",
      "* R_200m = 68 kpc\n",
      "* M_200m = 9.72e9 Msun, log = 9.99\n",
      "* V_max = 34 km/s\n"
     ]
    }
   ],
   "source": [
    "# Specifying simulation directory and the directory to save results in\n",
    "wdir = str(input('Enter simulation directory path: '))\n",
    "sdir = wdir + str(input('Enter path of storage directory relative to simulation directory: '))\n",
    "\n",
    "# Specifying snapshot index\n",
    "sim_index = int(input('Enter snapshot index: '))\n",
    "\n",
    "# Importing data from the snapshot\n",
    "part = gizmo.io.Read.read_snapshots(['star', 'gas', 'dark'], 'index', sim_index, assign_hosts_rotation = True, \n",
    "                                    simulation_directory = wdir)\n",
    "\n",
    "# Getting halo properties\n",
    "halo_properties = ut.particle.get_halo_properties(part, 'all')"
   ]
  },
  {
   "cell_type": "markdown",
   "metadata": {},
   "source": [
    "Determining some key properties of the galaxy"
   ]
  },
  {
   "cell_type": "code",
   "execution_count": 3,
   "metadata": {},
   "outputs": [],
   "source": [
    "# Finding radial distance, temperature, number density, and mass of grid cells\n",
    "\n",
    "r = part['gas'].prop('host.distance.principal.spherical')[:,0]\n",
    "T = part['gas'].prop('temperature')\n",
    "n = part['gas'].prop('number.density')\n",
    "m = part['gas'].prop('mass')"
   ]
  },
  {
   "cell_type": "code",
   "execution_count": 4,
   "metadata": {},
   "outputs": [
    {
     "name": "stdout",
     "output_type": "stream",
     "text": [
      "Completed rendering phase diagram\n"
     ]
    }
   ],
   "source": [
    "# Phase diagram of the galaxy\n",
    "\n",
    "select_halo = (r < halo_properties['radius'])\n",
    "\n",
    "fig, ax = plt.subplots()\n",
    "plt.rcParams.update({'font.size': 15})\n",
    "\n",
    "fig.set_size_inches(8,6)\n",
    "\n",
    "im = ax.hexbin(np.log10(n[select_halo]), np.log10(T[select_halo]), C = m[select_halo], reduce_C_function = np.sum, \n",
    "              vmin = 1.0E4, vmax = 2.0E7, norm = colors.LogNorm(), gridsize=40, cmap='viridis')\n",
    "\n",
    "cb = fig.colorbar(im)\n",
    "cb.set_label(r'Mass in Bin (M$_{\\odot}$)')\n",
    "\n",
    "ax.set_xlabel(r'log(n)')\n",
    "ax.set_ylabel(r'log(T)')\n",
    "ax.ticklabel_format(axis='both', style='sci', scilimits=(0,0))\n",
    "\n",
    "plt.title('Phase diagram for the galaxy')\n",
    "\n",
    "plt.savefig(sdir + 'phase_diag.png')\n",
    "\n",
    "plt.close()\n",
    "\n",
    "print('Completed rendering phase diagram')"
   ]
  },
  {
   "cell_type": "code",
   "execution_count": null,
   "metadata": {},
   "outputs": [],
   "source": []
  }
 ],
 "metadata": {
  "kernelspec": {
   "display_name": "Python 3",
   "language": "python",
   "name": "python3"
  },
  "language_info": {
   "codemirror_mode": {
    "name": "ipython",
    "version": 3
   },
   "file_extension": ".py",
   "mimetype": "text/x-python",
   "name": "python",
   "nbconvert_exporter": "python",
   "pygments_lexer": "ipython3",
   "version": "3.7.6"
  }
 },
 "nbformat": 4,
 "nbformat_minor": 2
}
