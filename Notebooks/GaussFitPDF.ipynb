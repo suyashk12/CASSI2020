{
 "cells": [
  {
   "cell_type": "markdown",
   "metadata": {},
   "source": [
    "Importing necessary libraries"
   ]
  },
  {
   "cell_type": "code",
   "execution_count": 1,
   "metadata": {},
   "outputs": [],
   "source": [
    "import gizmo_analysis as gizmo\n",
    "import utilities as ut\n",
    "import numpy as np\n",
    "import matplotlib.pyplot as plt\n",
    "from matplotlib import colors\n",
    "from scipy import optimize"
   ]
  },
  {
   "cell_type": "markdown",
   "metadata": {},
   "source": [
    "Constructing numerical PDF\n",
    "\n",
    "Let $V$ be the set of values and $W$ be the set of corresponding weights, each having a size $n$. Further, let a scalar $\\eta$ be called the norm. The normalization of the constructed PDF $g(z)$ is then -\n",
    "\n",
    "$$\\int_{-\\infty}^{\\infty} g(z) dz = \\frac{1}{\\eta} \\sum_{i = 1}^{n} w_i$$"
   ]
  },
  {
   "cell_type": "code",
   "execution_count": 2,
   "metadata": {},
   "outputs": [],
   "source": [
    "def num_PDF(values, weights, left, right, bin_size, norm):\n",
    "    \n",
    "    bins = np.arange(left, right, bin_size)\n",
    "    heights, edges = np.histogram(values, bins, weights = weights)\n",
    "    centers = 0.5*(edges[1:] + edges[:-1])\n",
    "    heights = heights/(bin_size*norm)\n",
    "\n",
    "    return centers, heights"
   ]
  },
  {
   "cell_type": "markdown",
   "metadata": {},
   "source": [
    "Fitting function, Gaussian - \n",
    "\n",
    "$$ p(z)= \\frac{A}{\\sqrt{2 \\pi \\sigma^2}} e^{-\\frac{(z-\\mu)^2}{2 \\sigma^2}}$$\n",
    "\n",
    "Which we want to obey the same normalization as the numerical PDF -\n",
    "\n",
    "$$ \\int_{-\\infty}^{\\infty} p(z) dz = \\frac{1}{\\eta} \\sum_{i = 1}^{n} w_i$$"
   ]
  },
  {
   "cell_type": "code",
   "execution_count": 3,
   "metadata": {},
   "outputs": [],
   "source": [
    "def fit_func(Z, A, mu, sigma):\n",
    "    \n",
    "    P = (A/np.sqrt(2*np.pi*sigma**2))*np.exp(-((Z-mu)**2/(2*sigma**2)))\n",
    "    \n",
    "    return P "
   ]
  },
  {
   "cell_type": "markdown",
   "metadata": {},
   "source": [
    "Constructing fitted PDF"
   ]
  },
  {
   "cell_type": "code",
   "execution_count": 4,
   "metadata": {},
   "outputs": [],
   "source": [
    "def fit_PDF(centers, heights):\n",
    "\n",
    "    fit = np.zeros(len(centers))\n",
    "    fit_params = np.zeros(3)\n",
    "\n",
    "    # If all bins are empty\n",
    "    if (np.all(heights == 0)):\n",
    "        fit_params = np.array([0, float('nan'), float('inf')])\n",
    "    \n",
    "    # Otherwise\n",
    "    else:\n",
    "\n",
    "        # Wisely guessing fit parameters to ease the fitting routine's job\n",
    "        \n",
    "        # Information about the peak in the numerical PDF\n",
    "        peak_ind = np.where(heights == np.max(heights))[0][0]\n",
    "        peak_height = np.max(heights)\n",
    "        \n",
    "        # mu is where the numerical PDF peaks\n",
    "        mu = centers[peak_ind]\n",
    "        \n",
    "        # Estimating sigma using FWHM\n",
    "        sigma = 0\n",
    "        \n",
    "        for i in range(0, peak_ind):\n",
    "            if(heights[i] >= peak_height/2):\n",
    "                sigma = (mu - centers[i])/np.sqrt(2*np.log(2))\n",
    "                break\n",
    "          \n",
    "        # Estimating A accordingly, by using the peak value at mu\n",
    "        A = np.sqrt(2*np.pi*sigma**2)*peak_height\n",
    "        \n",
    "        # Fitting the data using scipy.optimize.curve_fit()\n",
    "            \n",
    "        guess_params = np.array([A, mu, sigma])\n",
    "        fit_params, fit_covar = optimize.curve_fit(fit_func, centers, heights, p0=guess_params)\n",
    "        fit = fit_func(centers, *fit_params)\n",
    "    \n",
    "    return fit, fit_params"
   ]
  },
  {
   "cell_type": "markdown",
   "metadata": {},
   "source": [
    "Importing dataset"
   ]
  },
  {
   "cell_type": "code",
   "execution_count": 5,
   "metadata": {},
   "outputs": [
    {
     "name": "stdout",
     "output_type": "stream",
     "text": [
      "Enter simulation directory path: /Users/thepoetoftwilight/Documents/CASSI2020/CASSI2020-Data/m10q_res16000_test/\n",
      "Enter path of storage directory relative to simulation directory: files/gauss/\n",
      "Enter snapshot index: 600\n",
      "\n",
      "# in utilities.simulation.Snapshot():\n",
      "* reading:  Users/thepoetoftwilight/Documents/CASSI2020/CASSI2020-Data/m10q_res16000_test/snapshot_times.txt\n",
      "\n",
      "  using snapshot index = 600, redshift = 0.000\n",
      "\n",
      "\n",
      "# in gizmo_analysis.gizmo_io.Read():\n",
      "* reading header from:  Users/thepoetoftwilight/Documents/CASSI2020/CASSI2020-Data/m10q_res16000_test/output/snapshot_600.hdf5\n",
      "  snapshot contains the following number of particles:\n",
      "    dark      (id = 1): 260408 particles\n",
      "    dark2     (id = 2): 2281573 particles\n",
      "    gas       (id = 0): 259203 particles\n",
      "    star      (id = 4): 1205 particles\n",
      "    blackhole (id = 5): 0 particles\n",
      "\n",
      "* reading species: ['star', 'gas', 'dark']\n",
      "* reading particles from:\n",
      "    Users/thepoetoftwilight/Documents/CASSI2020/CASSI2020-Data/m10q_res16000_test/output/snapshot_600.hdf5\n",
      "\n",
      "! cannot find MUSIC config file:  Users/thepoetoftwilight/Documents/CASSI2020/CASSI2020-Data/m10q_res16000_test/*/*.conf\n",
      "! missing cosmological parameters, assuming the following (from AGORA box):\n",
      "  assuming omega_baryon = 0.0455\n",
      "  assuming sigma_8 = 0.807\n",
      "  assuming n_s = 0.961\n",
      "\n",
      "* checking sanity of particle properties\n",
      "! warning: star massfraction [min, max] = [0.000, 1.148e10]\n",
      "! warning: gas massfraction [min, max] = [0.000, 1.915e11]\n",
      "\n",
      "\n",
      "# in gizmo_analysis.gizmo_track.ParticleCoordinate():\n",
      "* reading hosts position, velocity, rotation, axis ratios from:  Users/thepoetoftwilight/Documents/CASSI2020/CASSI2020-Data/m10q_res16000_test/track/star_form_coordinates_600.hdf5\n",
      "  cannot read file containing hosts coordinates\n",
      "  instead will assign hosts via iterative zoom on particle mass\n",
      "\n",
      "# in utilities.particle.get_center_positions():\n",
      "* assigning center position for 1 host[s], via iterative zoom-in on star particle mass\n",
      "  host1 position = (3317.007, 2971.114, 3350.615) [kpc comoving]\n",
      "\n",
      "# in utilities.particle.get_center_velocities():\n",
      "* assigning center velocity for 1 host[s], weighting by star particles by mass\n",
      "  host1 velocity = (-6.0, -10.4, -2.8) [km / s]\n",
      "\n",
      "\n",
      "# in utilities.particle.get_principal_axes():\n",
      "* assigning principal axes rotation tensor for 1 host[s]\n",
      "  using star particles at distance < 10.0 kpc\n",
      "  using youngest 25% of star particles\n",
      "  host1: using star particles with age = [0.000, 3.589] Gyr\n",
      "  host1: axis ratios: min/maj = 0.356, min/med = 0.533, med/maj = 0.669\n",
      "\n",
      "\n",
      "# in utilities.particle.get_halo_properties():\n",
      "* R_200m = 68 kpc\n",
      "* M_200m = 9.72e9 Msun, log = 9.99\n",
      "* V_max = 34 km/s\n"
     ]
    }
   ],
   "source": [
    "# Specifying simulation directory and the directory to save results in\n",
    "wdir = str(input('Enter simulation directory path: '))\n",
    "sdir = wdir + str(input('Enter path of storage directory relative to simulation directory: '))\n",
    "\n",
    "# Specifying snapshot index\n",
    "sim_index = int(input('Enter snapshot index: '))\n",
    "\n",
    "# Importing data from the snapshot\n",
    "part = gizmo.io.Read.read_snapshots(['star', 'gas', 'dark'], 'index', sim_index, assign_hosts_rotation = True, \n",
    "                                    simulation_directory = wdir)\n",
    "\n",
    "# Getting halo properties\n",
    "halo_properties = ut.particle.get_halo_properties(part, 'all')"
   ]
  },
  {
   "cell_type": "code",
   "execution_count": 6,
   "metadata": {},
   "outputs": [],
   "source": [
    "# Creating the fit_info file\n",
    "\n",
    "info = open(sdir + 'fit_info.txt', 'w')\n",
    "info.write('Fit Information \\n \\n')\n",
    "info.close()"
   ]
  },
  {
   "cell_type": "markdown",
   "metadata": {},
   "source": [
    "Obtaining key properties of the galaxy"
   ]
  },
  {
   "cell_type": "code",
   "execution_count": 7,
   "metadata": {},
   "outputs": [],
   "source": [
    "# Virial radius\n",
    "\n",
    "r_vir = halo_properties['radius']\n",
    "\n",
    "# Finding radial distance, temperature, number density, and mass of grid cells\n",
    "\n",
    "radii = part['gas'].prop('host.distance.principal.spherical')[:,0]\n",
    "temperatures = part['gas'].prop('temperature')\n",
    "number_densities = part['gas'].prop('number.density')\n",
    "masses = part['gas'].prop('mass')"
   ]
  },
  {
   "cell_type": "markdown",
   "metadata": {},
   "source": [
    "Defining the ISM and its phases"
   ]
  },
  {
   "cell_type": "code",
   "execution_count": 8,
   "metadata": {},
   "outputs": [],
   "source": [
    "# Create a dictionary linking phases to numbers\n",
    "\n",
    "phases = {0: 'ISM', 1: 'HIM', 2: 'WIM', 3: 'WNM', 4: 'CNM'}\n",
    "num_phases = len(phases)"
   ]
  },
  {
   "cell_type": "code",
   "execution_count": 9,
   "metadata": {},
   "outputs": [],
   "source": [
    "# Defining the ISM and its phases\n",
    "\n",
    "select_phases = []\n",
    "\n",
    "# ISM\n",
    "select_phases.append(radii < 0.1*r_vir)\n",
    "\n",
    "# HIM\n",
    "select_phases.append(np.all([(radii < 0.1*r_vir), (temperatures >= 10**5.5)], axis = 0))\n",
    "\n",
    "# WIM\n",
    "select_phases.append(np.all([(radii < 0.1*r_vir), (temperatures >= 10**4), (temperatures < 10**5.5)], axis = 0))\n",
    "\n",
    "# WNM\n",
    "select_phases.append(np.all([(radii < 0.1*r_vir), (temperatures >= 10**3), (temperatures < 10**4)], axis = 0))\n",
    "\n",
    "# CNM\n",
    "select_phases.append(np.all([(radii < 0.1*r_vir), (temperatures < 10**3)], axis = 0))"
   ]
  },
  {
   "cell_type": "markdown",
   "metadata": {},
   "source": [
    "Choosing metals and pre-processing abundances"
   ]
  },
  {
   "cell_type": "code",
   "execution_count": 10,
   "metadata": {},
   "outputs": [],
   "source": [
    "# Defining metals of interest\n",
    "\n",
    "metals = ['c','n','o','ne','mg','si','s','ca','fe']\n",
    "\n",
    "# Writing this list to fit_info.txt\n",
    "\n",
    "info = open(sdir + 'fit_info.txt', 'a')\n",
    "\n",
    "info.write('Elements \\n \\n')\n",
    "\n",
    "info.write('[')\n",
    "for i in range(0, len(metals)):\n",
    "    if(i < len(metals)-1):\n",
    "        info.write(metals[i] + ',')\n",
    "    else:\n",
    "        info.write(metals[i] + ']')\n",
    "        \n",
    "info.write('\\n \\n')\n",
    "\n",
    "info.close()"
   ]
  },
  {
   "cell_type": "code",
   "execution_count": 11,
   "metadata": {},
   "outputs": [],
   "source": [
    "# Finding the mass and abundance of metals in the ISM as well as its various phases by grid cells\n",
    "\n",
    "# Grid distribution of masses by phase\n",
    "\n",
    "mass_phases = []\n",
    "\n",
    "for i in range(0, num_phases):\n",
    "    mass_phases.append(masses[select_phases[i]])\n",
    "\n",
    "# Grid distribution of abundances by phase\n",
    "\n",
    "abundance_metals_phases = {}\n",
    "\n",
    "for m in metals:\n",
    "    abundance_metals_phases[m] = []\n",
    "    for i in range(0, num_phases):\n",
    "        abundance_metals_phases[m].append(part['gas'].prop('metallicity.' + m)[select_phases[i]])"
   ]
  },
  {
   "cell_type": "markdown",
   "metadata": {},
   "source": [
    "Generating numerical PDF and its Gaussian fit"
   ]
  },
  {
   "cell_type": "code",
   "execution_count": 12,
   "metadata": {},
   "outputs": [],
   "source": [
    "# Label and color arrays for later plots\n",
    "\n",
    "labels_raw = ['ISM raw', 'HIM raw', 'WIM raw', 'WNM raw', 'CNM raw']\n",
    "labels_fit = ['ISM fit', 'HIM fit', 'WIM fit', 'WNM fit', 'CNM fit']\n",
    "colors = ['blue', 'orange', 'brown', 'green', 'black']\n",
    "\n",
    "# Common bin-size for all numerical PDFs\n",
    "\n",
    "bin_size = 0.05"
   ]
  },
  {
   "cell_type": "code",
   "execution_count": 14,
   "metadata": {},
   "outputs": [
    {
     "name": "stdout",
     "output_type": "stream",
     "text": [
      "Completed rendering numerical and fitted PDFs, writing fit parameters to fit_info.txt for C\n",
      "Completed rendering numerical and fitted PDFs, writing fit parameters to fit_info.txt for N\n",
      "Completed rendering numerical and fitted PDFs, writing fit parameters to fit_info.txt for O\n",
      "Completed rendering numerical and fitted PDFs, writing fit parameters to fit_info.txt for Ne\n",
      "Completed rendering numerical and fitted PDFs, writing fit parameters to fit_info.txt for Mg\n",
      "Completed rendering numerical and fitted PDFs, writing fit parameters to fit_info.txt for Si\n",
      "Completed rendering numerical and fitted PDFs, writing fit parameters to fit_info.txt for S\n",
      "Completed rendering numerical and fitted PDFs, writing fit parameters to fit_info.txt for Ca\n",
      "Completed rendering numerical and fitted PDFs, writing fit parameters to fit_info.txt for Fe\n"
     ]
    }
   ],
   "source": [
    "# Generating numerical PDFs and Gaussian fits, also writing fit parameters to fit_info.txt\n",
    "\n",
    "info = open(sdir + 'fit_info.txt','a')\n",
    "\n",
    "info.write('Info array is of the form [A, mu, sigma] \\n \\n')\n",
    "\n",
    "mass_norm = np.sum(mass_phases[0])\n",
    "\n",
    "fig, axes = plt.subplots(nrows = len(metals), ncols = 1, figsize = (10, 64))\n",
    "\n",
    "for k in range(0, len(metals)):\n",
    "    \n",
    "    ax = axes[k]\n",
    "    m = metals[k]\n",
    "    \n",
    "    info.write(m + '\\n \\n')\n",
    "\n",
    "    # Creating bins\n",
    "\n",
    "    left = np.floor(np.min(abundance_metals_phases[m][0]))\n",
    "    right = np.ceil(np.max(abundance_metals_phases[m][0]))\n",
    "\n",
    "    for i in range(0, len(phases)):\n",
    "    \n",
    "        # Compute the numerical PDF\n",
    "        \n",
    "        centers, heights = num_PDF(abundance_metals_phases[m][i], mass_phases[i], \n",
    "                                   left, right, bin_size, mass_norm)\n",
    "        \n",
    "        # Compute the fitted PDF\n",
    "        \n",
    "        fit, fit_params = fit_PDF(centers, heights)\n",
    "        \n",
    "        # Rescaling heights to achieve desired normalization\n",
    "        \n",
    "        heights *= mass_norm\n",
    "        fit *= mass_norm\n",
    "        fit_params[0] *= mass_norm\n",
    "        \n",
    "        # Plotting the raw data and the fit\n",
    "       \n",
    "        ax.plot(centers, heights, color = colors[i], label = labels_raw[i])\n",
    "        ax.plot(centers, fit, color = colors[i], label = labels_fit[i], linestyle = ':')\n",
    "        \n",
    "        \n",
    "        # Writing fit parameters into fit_info.txt\n",
    "        \n",
    "        info.write(phases[i] + ': [')\n",
    "        \n",
    "        for j in range(0, len(fit_params)):\n",
    "            if(j < len(fit_params)-1):\n",
    "                info.write(str(fit_params[j]) + ',')\n",
    "            else:\n",
    "                info.write(str(fit_params[j]) + ']')\n",
    "        \n",
    "        info.write('\\n')\n",
    "\n",
    "    # Labelling the plots\n",
    "    \n",
    "    ax.set_xlabel(r'$\\left[ \\frac{{{}}}{{H}} \\right]$'.format(m.title()), fontsize = 22)\n",
    "    ax.set_ylabel(r'$p_{{{0}, X}} \\left( \\left[ \\frac{{{0}}}{{H}} \\right] \\right)$'.format(m.title()),\n",
    "                 fontsize = 22)\n",
    "    ax.set_title('Abundance PDF for {} in various ISM phases'.format(m.title()))\n",
    "    ax.ticklabel_format(axis='both', style='sci', scilimits=(0,0))\n",
    "    ax.legend()\n",
    "    \n",
    "    # Saving the plots\n",
    "    fig.tight_layout(pad = 5.0)\n",
    "    extent = ax.get_window_extent().transformed(fig.dpi_scale_trans.inverted())\n",
    "    fig.savefig(sdir + 'abundance_{}.png'.format(m.title()), bbox_inches=extent.expanded(1.35, 1.35))\n",
    "    \n",
    "    info.write('\\n \\n')\n",
    "    \n",
    "    plt.close()\n",
    "    \n",
    "    print('Completed rendering numerical and fitted PDFs, writing fit parameters to fit_info.txt for {}'.format(m.title()))\n",
    "    \n",
    "info.close()"
   ]
  },
  {
   "cell_type": "code",
   "execution_count": null,
   "metadata": {},
   "outputs": [],
   "source": []
  }
 ],
 "metadata": {
  "kernelspec": {
   "display_name": "Python 3",
   "language": "python",
   "name": "python3"
  },
  "language_info": {
   "codemirror_mode": {
    "name": "ipython",
    "version": 3
   },
   "file_extension": ".py",
   "mimetype": "text/x-python",
   "name": "python",
   "nbconvert_exporter": "python",
   "pygments_lexer": "ipython3",
   "version": "3.7.6"
  }
 },
 "nbformat": 4,
 "nbformat_minor": 2
}
