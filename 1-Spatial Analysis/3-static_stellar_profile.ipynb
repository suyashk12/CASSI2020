{
 "cells": [
  {
   "cell_type": "markdown",
   "metadata": {},
   "source": [
    "Importing necessary libraries"
   ]
  },
  {
   "cell_type": "code",
   "execution_count": 44,
   "metadata": {},
   "outputs": [],
   "source": [
    "import gizmo_analysis as gizmo\n",
    "import utilities as ut\n",
    "import numpy as np\n",
    "import matplotlib.pyplot as plt\n",
    "from matplotlib import colors\n",
    "import pandas as pd\n",
    "import os"
   ]
  },
  {
   "cell_type": "markdown",
   "metadata": {},
   "source": [
    "Obtaining snapshot details"
   ]
  },
  {
   "cell_type": "code",
   "execution_count": 45,
   "metadata": {},
   "outputs": [
    {
     "name": "stdout",
     "output_type": "stream",
     "text": [
      "Enter simulation directory path: /Users/thepoetoftwilight/Documents/CASSI2020/CASSI2020-Data/m10q_res16000_test/\n",
      "Enter snapshot index: 600\n",
      "\n",
      "# in utilities.simulation.Snapshot():\n",
      "* reading:  Users/thepoetoftwilight/Documents/CASSI2020/CASSI2020-Data/m10q_res16000_test/snapshot_times.txt\n",
      "\n",
      "  using snapshot index = 600, redshift = 0.000\n",
      "\n",
      "\n",
      "# in gizmo_analysis.gizmo_io.Read():\n",
      "* reading header from:  Users/thepoetoftwilight/Documents/CASSI2020/CASSI2020-Data/m10q_res16000_test/output/snapshot_600.hdf5\n",
      "  snapshot contains the following number of particles:\n",
      "    dark      (id = 1): 260408 particles\n",
      "    dark2     (id = 2): 2281573 particles\n",
      "    gas       (id = 0): 259203 particles\n",
      "    star      (id = 4): 1205 particles\n",
      "    blackhole (id = 5): 0 particles\n",
      "\n",
      "* reading species: ['star', 'gas', 'dark']\n",
      "* reading particles from:\n",
      "    Users/thepoetoftwilight/Documents/CASSI2020/CASSI2020-Data/m10q_res16000_test/output/snapshot_600.hdf5\n",
      "\n",
      "! cannot find MUSIC config file:  Users/thepoetoftwilight/Documents/CASSI2020/CASSI2020-Data/m10q_res16000_test/*/*.conf\n",
      "! missing cosmological parameters, assuming the following (from AGORA box):\n",
      "  assuming omega_baryon = 0.0455\n",
      "  assuming sigma_8 = 0.807\n",
      "  assuming n_s = 0.961\n",
      "\n",
      "* checking sanity of particle properties\n",
      "! warning: star massfraction [min, max] = [0.000, 1.148e10]\n",
      "! warning: gas massfraction [min, max] = [0.000, 1.915e11]\n",
      "\n",
      "* reading hosts position, velocity, rotation, axis ratios from:  Users/thepoetoftwilight/Documents/CASSI2020/CASSI2020-Data/m10q_res16000_test/track/star_form_coordinates_600.hdf5\n",
      "  cannot read file containing hosts coordinates\n",
      "  instead will assign hosts via iterative zoom on particle mass\n",
      "\n",
      "# in utilities.particle.get_center_positions():\n",
      "* assigning center position for 1 host[s], via iterative zoom-in on star particle mass\n",
      "  host1 position = (3317.007, 2971.114, 3350.615) [kpc comoving]\n",
      "\n",
      "# in utilities.particle.get_center_velocities():\n",
      "* assigning center velocity for 1 host[s], weighting by star particles by mass\n",
      "  host1 velocity = (-6.0, -10.4, -2.8) [km / s]\n",
      "\n",
      "\n",
      "# in utilities.particle.get_principal_axes():\n",
      "* assigning principal axes rotation tensor for 1 host[s]\n",
      "  using star particles at distance < 10.0 kpc\n",
      "  using youngest 25% of star particles\n",
      "  host1: using star particles with age = [0.000, 3.589] Gyr\n",
      "  host1: axis ratios: min/maj = 0.356, min/med = 0.533, med/maj = 0.669\n",
      "\n",
      "\n",
      "# in utilities.particle.get_halo_properties():\n",
      "* R_200m = 68 kpc\n",
      "* M_200m = 9.72e9 Msun, log = 9.99\n",
      "* V_max = 34 km/s\n"
     ]
    }
   ],
   "source": [
    "# Specifying simulation directory and the directory to save results in\n",
    "wdir = str(input('Enter simulation directory path: '))\n",
    "\n",
    "# Specifying snapshot index\n",
    "snap_index = int(input('Enter snapshot index: '))\n",
    "\n",
    "# Creating a directory for spatial analysis\n",
    "\n",
    "sdir = wdir + 'spatial_analysis/'\n",
    "\n",
    "if not os.path.exists(sdir):\n",
    "    os.makedirs(sdir)\n",
    "\n",
    "# Creating a snapshot for the directory\n",
    "sdir_snap = wdir + 'spatial_analysis/' + str(snap_index) + '/'\n",
    "\n",
    "if not os.path.exists(sdir_snap):\n",
    "    os.makedirs(sdir_snap)\n",
    "\n",
    "# Importing data from the snapshot\n",
    "part = gizmo.io.Read.read_snapshots(['star', 'gas', 'dark'], 'index', snap_index, assign_hosts_rotation = True, \n",
    "                                    simulation_directory = wdir)\n",
    "\n",
    "# Getting halo properties\n",
    "halo_properties = ut.particle.get_halo_properties(part, 'all')"
   ]
  },
  {
   "cell_type": "code",
   "execution_count": 46,
   "metadata": {},
   "outputs": [],
   "source": [
    "r_vir = 0.1*halo_properties['radius']"
   ]
  },
  {
   "cell_type": "markdown",
   "metadata": {},
   "source": [
    "Specifying list of metals"
   ]
  },
  {
   "cell_type": "code",
   "execution_count": 47,
   "metadata": {},
   "outputs": [],
   "source": [
    "metals = ['c','n','o','ne','mg','si','s','ca','fe']"
   ]
  },
  {
   "cell_type": "markdown",
   "metadata": {},
   "source": [
    "Finding stellar profile properties"
   ]
  },
  {
   "cell_type": "code",
   "execution_count": 48,
   "metadata": {},
   "outputs": [
    {
     "name": "stdout",
     "output_type": "stream",
     "text": [
      "1205\n",
      "[ 1.36661734  1.49642784  1.11235743 ...  1.47368261  1.39549293\n",
      " 10.79931902]\n",
      "[1.97235653 3.3535738  7.0060697  ... 8.66450675 4.11862962 1.76017632]\n",
      "[11.82639036 10.44517309  6.79267719 ...  5.13424013  9.68011727\n",
      " 12.03857056]\n",
      "\n",
      "# in gizmo_analysis.gizmo_star.MassLoss():\n",
      "* generating 2-D spline to compute stellar mass loss from age + metallicity\n",
      "  number of age bins = 22\n",
      "  number of metallicity bins = 26\n",
      "[17640.92333396 19051.5768098  15919.18292288 ... 16401.85571468\n",
      " 17330.88211748 15620.19793123]\n",
      "[12005.636 13038.455 11113.028 ... 11597.009 11901.963 10621.891]\n",
      "[-2.460777  -2.1569438 -1.5293121 ... -1.4703783 -1.8204105 -1.834552 ]\n",
      "[-2.2822006 -2.3026814 -1.3943698 ... -1.4124699 -1.3504798 -2.0164683]\n",
      "[-2.452191  -2.6329303 -1.6023697 ... -1.6473573 -1.4944829 -2.3911932]\n",
      "[-2.6622427 -2.0491965 -1.5259714 ... -1.427635  -2.1352344 -1.7105858]\n",
      "[-2.6437945 -1.9822705 -1.4626676 ... -1.3625807 -2.0746264 -1.6424248]\n",
      "[-2.8441253 -2.2227387 -1.7015226 ... -1.6029406 -2.3077617 -1.8851149]\n",
      "[-2.413157  -2.204764  -1.6204449 ... -1.5486094 -2.1617265 -1.8912846]\n",
      "[-2.371416  -2.2541556 -1.6519266 ... -1.5895435 -2.171868  -1.951753 ]\n",
      "[-2.569868  -2.525594  -1.9081073 ... -1.8541248 -2.4095538 -2.2356963]\n",
      "[-2.1677947 -2.5229006 -1.7387841 ... -1.7379348 -2.1560926 -2.3328383]\n"
     ]
    }
   ],
   "source": [
    "distances = part['star'].prop('host.distance.total')\n",
    "\n",
    "num_stars = len(distances)\n",
    "print(num_stars)\n",
    "\n",
    "print(distances)\n",
    "\n",
    "form_times = part['star'].prop('form.time')\n",
    "print(form_times)\n",
    "\n",
    "ages = part['star'].prop('age')\n",
    "print(ages)\n",
    "\n",
    "form_masses = part['star'].prop('form.mass')\n",
    "print(form_masses)\n",
    "\n",
    "curr_masses = part['star'].prop('mass')\n",
    "print(curr_masses)\n",
    "\n",
    "total_abundances = part['star'].prop('metallicity.total')\n",
    "print(total_abundances)\n",
    "\n",
    "metal_abundances = {}\n",
    "\n",
    "for m in metals:\n",
    "    metal_abundances[m] = part['star'].prop('metallicity.{}'.format(m))\n",
    "    print(metal_abundances[m])"
   ]
  },
  {
   "cell_type": "markdown",
   "metadata": {},
   "source": [
    "Writing stellar profiles to a .csv file"
   ]
  },
  {
   "cell_type": "code",
   "execution_count": 52,
   "metadata": {},
   "outputs": [],
   "source": [
    "stellar_dict = {'distance': [], 'form_time': [], 'age': [], \n",
    "                'form_mass': [], 'curr_mass': [], \n",
    "                'total_abundance': []}\n",
    "\n",
    "for m in metals:\n",
    "    stellar_dict['[{}/H]'.format(m.title())] = []\n",
    "\n",
    "for i in range(0, num_stars):\n",
    "    \n",
    "    if(distances[i] < 0.1*r_vir):\n",
    "        \n",
    "        stellar_dict['distance'].append(distances[i])\n",
    "        stellar_dict['form_time'].append(form_times[i])\n",
    "        stellar_dict['age'].append(ages[i])\n",
    "        stellar_dict['form_mass'].append(form_masses[i])\n",
    "        stellar_dict['curr_mass'].append(curr_masses[i])\n",
    "        stellar_dict['total_abundance'].append(total_abundances[i])\n",
    "        \n",
    "        for m in metals:\n",
    "            stellar_dict['[{}/H]'.format(m.title())].append(metal_abundances[m][i])\n",
    "\n",
    "\n",
    "stellar_df = pd.DataFrame(stellar_dict)\n",
    "stellar_df.to_csv(sdir_snap + 'ISM_stellar_profile.csv')"
   ]
  },
  {
   "cell_type": "code",
   "execution_count": null,
   "metadata": {},
   "outputs": [],
   "source": []
  }
 ],
 "metadata": {
  "kernelspec": {
   "display_name": "Python 3",
   "language": "python",
   "name": "python3"
  },
  "language_info": {
   "codemirror_mode": {
    "name": "ipython",
    "version": 3
   },
   "file_extension": ".py",
   "mimetype": "text/x-python",
   "name": "python",
   "nbconvert_exporter": "python",
   "pygments_lexer": "ipython3",
   "version": "3.7.6"
  }
 },
 "nbformat": 4,
 "nbformat_minor": 4
}
