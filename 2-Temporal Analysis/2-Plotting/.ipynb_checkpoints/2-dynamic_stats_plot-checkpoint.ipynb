{
 "cells": [
  {
   "cell_type": "markdown",
   "metadata": {},
   "source": [
    "Importing necessary libraries"
   ]
  },
  {
   "cell_type": "code",
   "execution_count": 76,
   "metadata": {},
   "outputs": [],
   "source": [
    "import numpy as np\n",
    "import matplotlib.pyplot as plt\n",
    "from matplotlib import colors\n",
    "from matplotlib.ticker import FormatStrFormatter\n",
    "from scipy import optimize\n",
    "import pandas as pd\n",
    "import glob\n",
    "import math\n",
    "import os"
   ]
  },
  {
   "cell_type": "markdown",
   "metadata": {},
   "source": [
    "Importing dataset"
   ]
  },
  {
   "cell_type": "code",
   "execution_count": 77,
   "metadata": {},
   "outputs": [
    {
     "name": "stdout",
     "output_type": "stream",
     "text": [
      "Enter simulation directory path: /Users/thepoetoftwilight/Documents/CASSI2020/CASSI2020-Results/m10q_res250/\n"
     ]
    }
   ],
   "source": [
    "# Specifying simulation directory and the directory to save results in\n",
    "wdir = str(input('Enter simulation directory path: '))\n",
    "\n",
    "# Specifying a snapshot for temporal analysis\n",
    "sdir = wdir + 'temporal_analysis/'\n",
    "\n",
    "# Create a directory to store time evolution analysis plots\n",
    "if not os.path.exists(sdir + 'analysis_plots/'):\n",
    "    os.makedirs(sdir + 'analysis_plots/')"
   ]
  },
  {
   "cell_type": "code",
   "execution_count": 78,
   "metadata": {},
   "outputs": [],
   "source": [
    "# Get all rendered indices\n",
    "\n",
    "rendered_df = pd.read_csv(sdir + 'rendered_snap_stats.csv')\n",
    "\n",
    "rendered_indices = rendered_df['snap'].to_list()\n",
    "\n",
    "rendered_df = pd.read_csv(sdir + 'rendered_snap_stats.csv')\n",
    "\n",
    "rendered_indices = rendered_df['snap'].to_list()\n",
    "num_snaps = len(rendered_indices)\n",
    "\n",
    "# Get various properties of the galaxies\n",
    "\n",
    "halo_masses = rendered_df['halo_mass'].to_list()\n",
    "\n",
    "redshifts = rendered_df['redshift'].to_list()\n",
    "times = rendered_df['time'].to_list()\n",
    "\n",
    "# Getting sound related properties\n",
    "\n",
    "velocities_mass = rendered_df['velocity_mass'].to_list()\n",
    "velocities_vol = rendered_df['velocity_vol'].to_list()\n",
    "velocities_rms_mass = rendered_df['velocity_rms_mass'].to_list()\n",
    "velocities_rms_vol = rendered_df['velocity_rms_vol'].to_list()\n",
    "velocities_spread = rendered_df['velocity_spread'].to_list()\n",
    "\n",
    "sounds_mass = rendered_df['sound_mass'].to_list()\n",
    "sounds_vol = rendered_df['sound_vol'].to_list()\n",
    "sounds_rms_mass = rendered_df['sound_rms_mass'].to_list()\n",
    "sounds_rms_vol = rendered_df['sound_rms_vol'].to_list()\n",
    "sounds_spread = rendered_df['sound_spread'].to_list()\n",
    "\n",
    "thermals_mass = rendered_df['thermal_mass'].to_list()\n",
    "thermals_vol = rendered_df['thermal_vol'].to_list()\n",
    "thermals_rms_mass = rendered_df['thermal_rms_mass'].to_list()\n",
    "thermals_rms_vol = rendered_df['thermal_rms_vol'].to_list()\n",
    "thermals_spread = rendered_df['thermal_spread'].to_list()\n",
    "\n",
    "mach_numbers_mass = rendered_df['mach_number_mass'].to_list()\n",
    "mach_numbers_vol = rendered_df['mach_number_vol'].to_list()\n",
    "mach_numbers_rms_mass = rendered_df['mach_number_rms_mass'].to_list()\n",
    "mach_numbers_rms_vol = rendered_df['mach_number_rms_vol'].to_list()\n",
    "mach_numbers_spread = rendered_df['mach_number_spread'].to_list()\n",
    "\n",
    "# Getting star-formation properties\n",
    "\n",
    "SFRs_10 = rendered_df['SFR@10Myr'].to_list()\n",
    "SFRs_100 = rendered_df['SFR@100Myr'].to_list()\n",
    "SFRs_1000 = rendered_df['SFR@1000Myr'].to_list()"
   ]
  },
  {
   "cell_type": "code",
   "execution_count": 79,
   "metadata": {},
   "outputs": [],
   "source": [
    "# Get rendered metals\n",
    "\n",
    "metal_df = pd.read_csv((sdir + 'metal_list.csv'))\n",
    "metals = metal_df['metals'].to_list()\n",
    "\n",
    "# Create a list of paths for all metals\n",
    "spath_metals = {}\n",
    "\n",
    "for m in metals:\n",
    "    spath_metals[m] = sdir + m + '/'\n",
    "\n",
    "mus = {}\n",
    "means_mass = {}\n",
    "medians_mass = {}\n",
    "means_vol = {}\n",
    "medians_vol = {}\n",
    "stds = {}\n",
    "sigmas = {}\n",
    "\n",
    "for m in metals:\n",
    "    \n",
    "    # Load all fit parameters\n",
    "    filename = 'fit_' + m + '_params.csv'\n",
    "    param_df = pd.read_csv(spath_metals[m] + '/data/fit/' + filename)\n",
    "\n",
    "    mus[m] = param_df['mu'].to_list()\n",
    "    means_mass[m] = param_df['mean_mass'].to_list()\n",
    "    medians_mass[m] = param_df['median_mass'].to_list()\n",
    "    means_vol[m] = param_df['mean_vol'].to_list()\n",
    "    medians_vol[m] = param_df['median_vol'].to_list()\n",
    "    stds[m] = param_df['std'].to_list()\n",
    "    sigmas[m] = param_df['sigma'].to_list()"
   ]
  },
  {
   "cell_type": "code",
   "execution_count": 80,
   "metadata": {},
   "outputs": [
    {
     "name": "stdout",
     "output_type": "stream",
     "text": [
      "Creating halo mass vs. time plot ...\n",
      "Created halo mass vs. time plot \n",
      "\n"
     ]
    }
   ],
   "source": [
    "# Plot halo mass vs. time\n",
    "\n",
    "print('Creating halo mass vs. time plot ...')\n",
    "\n",
    "fig, ax = plt.subplots(figsize = (15, 13))\n",
    "ax.plot(times, halo_masses, color = 'red', lw = 5)\n",
    "ax.set_xlabel('Time (Gyr)', labelpad = 10, fontsize = 38)\n",
    "ax.set_ylabel(r'Halo Mass ($M_{\\odot}$)', labelpad = 10, fontsize = 38)\n",
    "ax.tick_params(labelsize = 38, pad = 10)\n",
    "ax.yaxis.offsetText.set_fontsize(36)\n",
    "ax.ticklabel_format(axis='y', style='sci')\n",
    "plt.savefig(sdir + 'analysis_plots/halo_mass_vs_time.png')\n",
    "plt.close()\n",
    "\n",
    "print('Created halo mass vs. time plot \\n')"
   ]
  },
  {
   "cell_type": "code",
   "execution_count": 81,
   "metadata": {},
   "outputs": [
    {
     "name": "stdout",
     "output_type": "stream",
     "text": [
      "Creating SFR vs. time plot ...\n"
     ]
    },
    {
     "name": "stderr",
     "output_type": "stream",
     "text": [
      "/Users/thepoetoftwilight/opt/anaconda3/lib/python3.7/site-packages/ipykernel_launcher.py:6: RuntimeWarning: divide by zero encountered in log10\n",
      "  \n",
      "/Users/thepoetoftwilight/opt/anaconda3/lib/python3.7/site-packages/ipykernel_launcher.py:7: RuntimeWarning: divide by zero encountered in log10\n",
      "  import sys\n"
     ]
    },
    {
     "name": "stdout",
     "output_type": "stream",
     "text": [
      "Created SFR vs. time plot \n",
      "\n"
     ]
    }
   ],
   "source": [
    "# Plot SFR's as a function of time\n",
    "\n",
    "print('Creating SFR vs. time plot ...')\n",
    "\n",
    "fig, ax = plt.subplots(figsize = (15, 13))\n",
    "ax.plot(times, np.log10(SFRs_10), color = 'red', label = '10 Myr', lw = 5, alpha = 0.5)\n",
    "ax.plot(times, np.log10(SFRs_100), color = 'green', label = '100 Myr', lw = 5, alpha = 0.5)\n",
    "ax.plot(times, np.log10(SFRs_1000), color = 'blue', label = '1000 Myr', lw = 5)\n",
    "ax.legend(prop={'size': 38}, loc = 'upper right')\n",
    "ax.yaxis.set_major_formatter(FormatStrFormatter('%.0f'))\n",
    "ax.tick_params(labelsize = 38, pad = 10)\n",
    "ax.yaxis.offsetText.set_fontsize(36)\n",
    "ax.set_xlabel('Time (Gyr)', labelpad = 10, fontsize = 38)\n",
    "ax.set_ylabel(r'log(SFR ($M_{\\odot}/yr)$)', labelpad = 10, fontsize = 38)\n",
    "#ax.ticklabel_format(axis='y', style='sci')\n",
    "ax.yaxis.offsetText.set_fontsize(36)\n",
    "plt.savefig(sdir + 'analysis_plots/SFR_vs_time.png')\n",
    "plt.close()\n",
    "\n",
    "print('Created SFR vs. time plot \\n')"
   ]
  },
  {
   "cell_type": "code",
   "execution_count": 82,
   "metadata": {},
   "outputs": [
    {
     "name": "stdout",
     "output_type": "stream",
     "text": [
      "Creating mass weighted velocities plot ...\n",
      "Created mass weighted velocities \n",
      "\n"
     ]
    }
   ],
   "source": [
    "# Mass weighted mean velocities\n",
    "\n",
    "print('Creating mass weighted velocities plot ...')\n",
    "\n",
    "fig, ax = plt.subplots(figsize = (15, 13))\n",
    "ax.plot(times, velocities_mass, color = 'red', label = 'Velocity', lw = 5)\n",
    "ax.plot(times, sounds_mass, color = 'green', label = 'Sound Speed', lw = 5)\n",
    "ax.plot(times, thermals_mass, color = 'blue', label = 'Thermal Speed', lw = 5)\n",
    "ax.legend(prop={'size': 38}, loc = 'upper right')\n",
    "ax.tick_params(labelsize = 38, pad = 10)\n",
    "ax.yaxis.offsetText.set_fontsize(36)\n",
    "ax.set_xlabel('Time (Gyr)', labelpad = 10, fontsize = 38)\n",
    "ax.set_ylabel('Mass Weighted Mean (km/s)', labelpad = 10, fontsize = 38)\n",
    "ax.ticklabel_format(axis='y', style='sci', scilimits=(0,0))\n",
    "plt.savefig(sdir + 'analysis_plots/velocities_mean_mass_vs_time.png')\n",
    "plt.close()\n",
    "\n",
    "print('Created mass weighted velocities \\n')"
   ]
  },
  {
   "cell_type": "code",
   "execution_count": 83,
   "metadata": {},
   "outputs": [
    {
     "name": "stdout",
     "output_type": "stream",
     "text": [
      "Creating volume weighted velocities plot ...\n",
      "Created volume weighted velocities \n",
      "\n"
     ]
    }
   ],
   "source": [
    "# Volume weighted mean velocities\n",
    "\n",
    "print('Creating volume weighted velocities plot ...')\n",
    "\n",
    "fig, ax = plt.subplots(figsize = (15, 13))\n",
    "ax.plot(times, velocities_vol, color = 'red', label = 'Velocity', lw = 5)\n",
    "ax.plot(times, sounds_vol, color = 'green', label = 'Sound Speed', lw = 5)\n",
    "ax.plot(times, thermals_vol, color = 'blue', label = 'Thermal Speed', lw = 5)\n",
    "ax.legend(prop={'size': 38}, loc = 'upper right')\n",
    "ax.tick_params(labelsize = 38, pad = 10)\n",
    "ax.yaxis.offsetText.set_fontsize(36)\n",
    "ax.set_xlabel('Time (Gyr)', labelpad = 10, fontsize = 38)\n",
    "ax.set_ylabel('Volume Weighted Mean (km/s)', labelpad = 10, fontsize = 38)\n",
    "ax.ticklabel_format(axis='y', style='sci', scilimits=(0,0))\n",
    "plt.savefig(sdir + 'analysis_plots/velocities_mean_vol_vs_time.png')\n",
    "plt.close()\n",
    "\n",
    "print('Created volume weighted velocities \\n')"
   ]
  },
  {
   "cell_type": "code",
   "execution_count": 84,
   "metadata": {},
   "outputs": [
    {
     "name": "stdout",
     "output_type": "stream",
     "text": [
      "Creating mass weighted rms velocities plot ...\n",
      "Created mass weighted velocities \n",
      "\n"
     ]
    }
   ],
   "source": [
    "# Mass weighted RMS velocities\n",
    "\n",
    "print('Creating mass weighted rms velocities plot ...')\n",
    "\n",
    "fig, ax = plt.subplots(figsize = (15, 13))\n",
    "ax.plot(times, velocities_rms_mass, color = 'red', label = 'Velocity', lw = 5)\n",
    "ax.plot(times, sounds_rms_mass, color = 'green', label = 'Sound Speed', lw = 5)\n",
    "ax.plot(times, thermals_rms_mass, color = 'blue', label = 'Thermal Speed', lw = 5)\n",
    "ax.legend(prop={'size': 38}, loc = 'upper right')\n",
    "ax.tick_params(labelsize = 38, pad = 10)\n",
    "ax.yaxis.offsetText.set_fontsize(36)\n",
    "ax.set_xlabel('Time (Gyr)', labelpad = 10, fontsize = 38)\n",
    "ax.set_ylabel('Mass Weighted RMS (km/s)', labelpad = 10, fontsize = 38)\n",
    "ax.ticklabel_format(axis='y', style='sci', scilimits=(0,0))\n",
    "plt.savefig(sdir + 'analysis_plots/velocities_rms_mass_vs_time.png')\n",
    "plt.close()\n",
    "\n",
    "print('Created mass weighted velocities \\n')"
   ]
  },
  {
   "cell_type": "code",
   "execution_count": 85,
   "metadata": {},
   "outputs": [
    {
     "name": "stdout",
     "output_type": "stream",
     "text": [
      "Creating volume weighted rms velocities plot ...\n",
      "Created mass weighted velocities \n",
      "\n"
     ]
    }
   ],
   "source": [
    "# Volume weighted RMS velocities\n",
    "\n",
    "print('Creating volume weighted rms velocities plot ...')\n",
    "\n",
    "fig, ax = plt.subplots(figsize = (15, 13))\n",
    "ax.plot(times, velocities_rms_vol, color = 'red', label = 'Velocity', lw = 5)\n",
    "ax.plot(times, sounds_rms_vol, color = 'green', label = 'Sound Speed', lw = 5)\n",
    "ax.plot(times, thermals_rms_vol, color = 'blue', label = 'Thermal Speed', lw = 5)\n",
    "ax.legend(prop={'size': 38}, loc = 'upper right')\n",
    "ax.tick_params(labelsize = 38, pad = 10)\n",
    "ax.yaxis.offsetText.set_fontsize(36)\n",
    "ax.set_xlabel('Time (Gyr)', labelpad = 10, fontsize = 38)\n",
    "ax.set_ylabel('Volume Weighted RMS (km/s)', labelpad = 10, fontsize = 38)\n",
    "ax.ticklabel_format(axis='y', style='sci', scilimits=(0,0))\n",
    "plt.savefig(sdir + 'analysis_plots/velocities_rms_mass_vs_time.png')\n",
    "plt.close()\n",
    "\n",
    "print('Created mass weighted velocities \\n')"
   ]
  },
  {
   "cell_type": "code",
   "execution_count": 86,
   "metadata": {},
   "outputs": [
    {
     "name": "stdout",
     "output_type": "stream",
     "text": [
      "Creating velocity dispersion plots ...\n",
      "Created velocity dispersion vs. time plot \n",
      "\n"
     ]
    }
   ],
   "source": [
    "# Velocity dispersion\n",
    "\n",
    "print('Creating velocity dispersion plots ...')\n",
    "\n",
    "fig, ax = plt.subplots(figsize = (15, 13))\n",
    "ax.plot(times, velocities_spread, color = 'red', label = 'Velocity', lw = 5)\n",
    "ax.plot(times, sounds_spread, color = 'green', label = 'Sound Speed', lw = 5)\n",
    "ax.plot(times, thermals_spread, color = 'blue', label = 'Thermal Speed', lw = 5)\n",
    "ax.legend(prop={'size': 38}, loc = 'upper right')\n",
    "ax.tick_params(labelsize = 38, pad = 10)\n",
    "ax.yaxis.offsetText.set_fontsize(36)\n",
    "ax.set_xlabel('Time (Gyr)', labelpad = 10, fontsize = 38)\n",
    "ax.set_ylabel('Spread (km/s)', labelpad = 10, fontsize = 38)\n",
    "ax.ticklabel_format(axis='y', style='sci', scilimits=(0,0))\n",
    "plt.savefig(sdir + 'analysis_plots/velocities_spread_vs_time.png')\n",
    "plt.close()\n",
    "\n",
    "print('Created velocity dispersion vs. time plot \\n')"
   ]
  },
  {
   "cell_type": "code",
   "execution_count": 87,
   "metadata": {},
   "outputs": [
    {
     "name": "stdout",
     "output_type": "stream",
     "text": [
      "Creating mean mach number vs. time plot ...\n",
      "Created mean mach number vs. time plot \n",
      "\n"
     ]
    }
   ],
   "source": [
    "# Plot average mach number vs. time\n",
    "\n",
    "print('Creating mean mach number vs. time plot ...')\n",
    "\n",
    "fig, ax = plt.subplots(figsize = (15, 13))\n",
    "ax.plot(times, mach_numbers_mass, color = 'red', label = 'Mass', lw = 5)\n",
    "ax.plot(times, mach_numbers_vol, color = 'green', label = 'Volume', lw = 5)\n",
    "ax.legend(prop={'size': 38}, loc = 'upper right')\n",
    "ax.tick_params(labelsize = 38, pad = 10)\n",
    "ax.yaxis.offsetText.set_fontsize(36)\n",
    "ax.set_xlabel('Time (Gyr)', labelpad = 10, fontsize = 38)\n",
    "ax.set_ylabel('Mean Mach Number', labelpad = 10, fontsize = 38)\n",
    "ax.ticklabel_format(axis='y', style='sci', scilimits=(0,0))\n",
    "plt.savefig(sdir + 'analysis_plots/mach_number_mean_vs_time.png')\n",
    "plt.close()\n",
    "\n",
    "print('Created mean mach number vs. time plot \\n')"
   ]
  },
  {
   "cell_type": "code",
   "execution_count": 88,
   "metadata": {},
   "outputs": [
    {
     "name": "stdout",
     "output_type": "stream",
     "text": [
      "Creating RMS mach number vs. time plot ...\n",
      "Created RMS mach number vs. time plot \n",
      "\n"
     ]
    }
   ],
   "source": [
    "# Plot RMS mach number vs. time\n",
    "\n",
    "print('Creating RMS mach number vs. time plot ...')\n",
    "\n",
    "fig, ax = plt.subplots(figsize = (15, 13))\n",
    "ax.plot(times, mach_numbers_mass, color = 'red', label = 'Mass', lw = 5)\n",
    "ax.plot(times, mach_numbers_vol, color = 'green', label = 'Volume', lw = 5)\n",
    "ax.legend(prop={'size': 38}, loc = 'upper right')\n",
    "ax.tick_params(labelsize = 38, pad = 10)\n",
    "ax.yaxis.offsetText.set_fontsize(36)\n",
    "ax.set_xlabel('Time (Gyr)', labelpad = 10, fontsize = 38)\n",
    "ax.set_ylabel('RMS Mach Number', labelpad = 10, fontsize = 38)\n",
    "ax.ticklabel_format(axis='y', style='sci', scilimits=(0,0))\n",
    "plt.savefig(sdir + 'analysis_plots/mach_number_RMS_vs_time.png')\n",
    "plt.close()\n",
    "\n",
    "print('Created RMS mach number vs. time plot \\n')"
   ]
  },
  {
   "cell_type": "code",
   "execution_count": 89,
   "metadata": {},
   "outputs": [
    {
     "name": "stdout",
     "output_type": "stream",
     "text": [
      "Creating mach number dispersion plot ...\n",
      "Created mach number dispersion vs. time plot \n",
      "\n"
     ]
    }
   ],
   "source": [
    "# Mach number dispersion\n",
    "\n",
    "print('Creating mach number dispersion plot ...')\n",
    "\n",
    "fig, ax = plt.subplots(figsize = (15, 13))\n",
    "ax.plot(times, mach_numbers_spread, color = 'red', lw = 5)\n",
    "ax.set_xlabel('Time (Gyr)', labelpad = 10, fontsize = 38)\n",
    "ax.set_ylabel('Spread', labelpad = 10, fontsize = 38)\n",
    "ax.tick_params(labelsize = 38, pad = 10)\n",
    "ax.yaxis.offsetText.set_fontsize(36)\n",
    "ax.ticklabel_format(axis='y', style='sci', scilimits=(0,0))\n",
    "plt.savefig(sdir + 'analysis_plots/mach_number_spread_vs_time.png')\n",
    "plt.close()\n",
    "\n",
    "print('Created mach number dispersion vs. time plot \\n')"
   ]
  },
  {
   "cell_type": "code",
   "execution_count": 90,
   "metadata": {},
   "outputs": [
    {
     "name": "stdout",
     "output_type": "stream",
     "text": [
      "Processing all metals ... \n",
      "\n",
      "Creating mass-weighted central tendency of abundance vs. time plot for C ...\n",
      "Created mass-weighted central tendency of abundance vs. time plot for C \n",
      "\n",
      "Creating volume-weighted central tendency of abundance vs. time plot for C ...\n",
      "Created volume-weighted central tendency of abundance vs. time plot for C \n",
      "\n",
      "Creating spread of abundance vs. time plot for C ...\n",
      "Created spread of abundance vs. time plot for C \n",
      "\n",
      "Creating mass-weighted central tendency of abundance vs. time plot for N ...\n",
      "Created mass-weighted central tendency of abundance vs. time plot for N \n",
      "\n",
      "Creating volume-weighted central tendency of abundance vs. time plot for N ...\n",
      "Created volume-weighted central tendency of abundance vs. time plot for N \n",
      "\n",
      "Creating spread of abundance vs. time plot for N ...\n",
      "Created spread of abundance vs. time plot for N \n",
      "\n",
      "Creating mass-weighted central tendency of abundance vs. time plot for O ...\n",
      "Created mass-weighted central tendency of abundance vs. time plot for O \n",
      "\n",
      "Creating volume-weighted central tendency of abundance vs. time plot for O ...\n",
      "Created volume-weighted central tendency of abundance vs. time plot for O \n",
      "\n",
      "Creating spread of abundance vs. time plot for O ...\n",
      "Created spread of abundance vs. time plot for O \n",
      "\n",
      "Creating mass-weighted central tendency of abundance vs. time plot for Ne ...\n",
      "Created mass-weighted central tendency of abundance vs. time plot for Ne \n",
      "\n",
      "Creating volume-weighted central tendency of abundance vs. time plot for Ne ...\n",
      "Created volume-weighted central tendency of abundance vs. time plot for Ne \n",
      "\n",
      "Creating spread of abundance vs. time plot for Ne ...\n",
      "Created spread of abundance vs. time plot for Ne \n",
      "\n",
      "Creating mass-weighted central tendency of abundance vs. time plot for Mg ...\n",
      "Created mass-weighted central tendency of abundance vs. time plot for Mg \n",
      "\n",
      "Creating volume-weighted central tendency of abundance vs. time plot for Mg ...\n",
      "Created volume-weighted central tendency of abundance vs. time plot for Mg \n",
      "\n",
      "Creating spread of abundance vs. time plot for Mg ...\n",
      "Created spread of abundance vs. time plot for Mg \n",
      "\n",
      "Creating mass-weighted central tendency of abundance vs. time plot for Si ...\n",
      "Created mass-weighted central tendency of abundance vs. time plot for Si \n",
      "\n",
      "Creating volume-weighted central tendency of abundance vs. time plot for Si ...\n",
      "Created volume-weighted central tendency of abundance vs. time plot for Si \n",
      "\n",
      "Creating spread of abundance vs. time plot for Si ...\n",
      "Created spread of abundance vs. time plot for Si \n",
      "\n",
      "Creating mass-weighted central tendency of abundance vs. time plot for S ...\n",
      "Created mass-weighted central tendency of abundance vs. time plot for S \n",
      "\n",
      "Creating volume-weighted central tendency of abundance vs. time plot for S ...\n",
      "Created volume-weighted central tendency of abundance vs. time plot for S \n",
      "\n",
      "Creating spread of abundance vs. time plot for S ...\n",
      "Created spread of abundance vs. time plot for S \n",
      "\n",
      "Creating mass-weighted central tendency of abundance vs. time plot for Ca ...\n",
      "Created mass-weighted central tendency of abundance vs. time plot for Ca \n",
      "\n",
      "Creating volume-weighted central tendency of abundance vs. time plot for Ca ...\n",
      "Created volume-weighted central tendency of abundance vs. time plot for Ca \n",
      "\n",
      "Creating spread of abundance vs. time plot for Ca ...\n",
      "Created spread of abundance vs. time plot for Ca \n",
      "\n",
      "Creating mass-weighted central tendency of abundance vs. time plot for Fe ...\n",
      "Created mass-weighted central tendency of abundance vs. time plot for Fe \n",
      "\n",
      "Creating volume-weighted central tendency of abundance vs. time plot for Fe ...\n",
      "Created volume-weighted central tendency of abundance vs. time plot for Fe \n",
      "\n",
      "Creating spread of abundance vs. time plot for Fe ...\n",
      "Created spread of abundance vs. time plot for Fe \n",
      "\n",
      "Processed all metals\n"
     ]
    }
   ],
   "source": [
    "# Plotting abundance statistics for all metals\n",
    "\n",
    "print('Processing all metals ... \\n')\n",
    "\n",
    "for m in metals:\n",
    "    \n",
    "    # Mass-weighted central tendency\n",
    "    \n",
    "    print('Creating mass-weighted central tendency of abundance vs. time plot for {} ...'.format(m.title()))\n",
    "\n",
    "    fig, ax = plt.subplots(figsize = (15, 13))\n",
    "    ax.plot(times, mus[m], color = 'red', label = r'$\\mu$', lw = 5)\n",
    "    ax.plot(times, means_mass[m], color = 'green', label = 'Mass Weighted Mean', lw = 5)\n",
    "    ax.plot(times, medians_mass[m], color = 'blue', label = 'Mass Weighted Median', lw = 5)\n",
    "    ax.legend(prop={'size': 38}, loc = 'lower right')\n",
    "    ax.tick_params(labelsize = 38, pad = 10)\n",
    "    ax.yaxis.offsetText.set_fontsize(36)\n",
    "    ax.set_xlabel('Time (Gyr)', labelpad = 10, fontsize = 38)\n",
    "    ax.set_ylabel('Central Tendency', labelpad = 10, fontsize = 38)\n",
    "    ax.yaxis.set_major_formatter(FormatStrFormatter('%.1f'))\n",
    "    ax.set_title('[{}/H]'.format(m.title()), y = 1.04, fontsize = 38)\n",
    "    plt.savefig(sdir + 'analysis_plots/central_tendency_mass_{}_vs_time.png'.format(m))\n",
    "    plt.close()\n",
    "\n",
    "    print('Created mass-weighted central tendency of abundance vs. time plot for {} \\n'.format(m.title()))\n",
    "    \n",
    "    # Volume-weighted central tendency\n",
    "    \n",
    "    print('Creating volume-weighted central tendency of abundance vs. time plot for {} ...'.format(m.title()))\n",
    "\n",
    "    fig, ax = plt.subplots(figsize = (15, 13))\n",
    "    ax.plot(times, mus[m], color = 'red', label = r'$\\mu$', lw = 5)\n",
    "    ax.plot(times, means_vol[m], color = 'green', label = 'Volume Weighted Mean', lw = 5)\n",
    "    ax.plot(times, medians_vol[m], color = 'blue', label = 'Volume Weighted Median', lw = 5)\n",
    "    ax.legend(prop={'size': 38}, loc = 'lower right')\n",
    "    ax.tick_params(labelsize = 38, pad = 10)\n",
    "    ax.yaxis.offsetText.set_fontsize(36)\n",
    "    ax.set_xlabel('Time (Gyr)', labelpad = 10, fontsize = 38)\n",
    "    ax.set_ylabel('Central Tendency', labelpad = 10, fontsize = 38)\n",
    "    ax.set_title('[{}/H]'.format(m.title()), y = 1.04, fontsize = 38)\n",
    "    ax.ticklabel_format(axis='y', style='sci', scilimits=(0,0))\n",
    "    plt.savefig(sdir + 'analysis_plots/central_tendency_vol_{}_vs_time.png'.format(m))\n",
    "    plt.close()\n",
    "\n",
    "    print('Created volume-weighted central tendency of abundance vs. time plot for {} \\n'.format(m.title()))\n",
    "\n",
    "    # Spread\n",
    "    \n",
    "    print('Creating spread of abundance vs. time plot for {} ...'.format(m.title()))\n",
    "\n",
    "    fig, ax = plt.subplots(figsize = (15, 13))\n",
    "    ax.plot(times, sigmas[m], color = 'red', label = r'$\\sigma$', lw = 5)\n",
    "    ax.plot(times, stds[m], color = 'green', label = 'Standard Deviation', lw = 5)\n",
    "    ax.legend(prop={'size': 38}, loc = 'upper right')\n",
    "    ax.tick_params(labelsize = 38, pad = 10)\n",
    "    ax.set_ylim(bottom = 0)\n",
    "    ax.set_xlabel('Time (Gyr)', labelpad = 10, fontsize = 38)\n",
    "    ax.set_ylabel('Spread', labelpad = 10, fontsize = 38)\n",
    "    ax.yaxis.offsetText.set_fontsize(36)\n",
    "    ax.set_title('[{}/H]'.format(m.title()), y = 1.04, fontsize = 38)\n",
    "    ax.ticklabel_format(axis='y', style='sci', scilimits=(0,0))\n",
    "    plt.savefig(sdir + 'analysis_plots/spread_{}_vs_time.png'.format(m))\n",
    "    plt.close()\n",
    "\n",
    "    print('Created spread of abundance vs. time plot for {} \\n'.format(m.title()))\n",
    "    \n",
    "print('Processed all metals')"
   ]
  },
  {
   "cell_type": "code",
   "execution_count": null,
   "metadata": {},
   "outputs": [],
   "source": []
  }
 ],
 "metadata": {
  "kernelspec": {
   "display_name": "Python 3",
   "language": "python",
   "name": "python3"
  },
  "language_info": {
   "codemirror_mode": {
    "name": "ipython",
    "version": 3
   },
   "file_extension": ".py",
   "mimetype": "text/x-python",
   "name": "python",
   "nbconvert_exporter": "python",
   "pygments_lexer": "ipython3",
   "version": "3.7.6"
  }
 },
 "nbformat": 4,
 "nbformat_minor": 4
}
