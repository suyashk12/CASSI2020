{
 "cells": [
  {
   "cell_type": "code",
   "execution_count": 23,
   "metadata": {},
   "outputs": [],
   "source": [
    "import numpy as np\n",
    "import matplotlib.pyplot as plt\n",
    "from matplotlib import colors\n",
    "from scipy import optimize\n",
    "import pandas as pd\n",
    "import glob\n",
    "import math\n",
    "import os"
   ]
  },
  {
   "cell_type": "code",
   "execution_count": 24,
   "metadata": {},
   "outputs": [
    {
     "name": "stdout",
     "output_type": "stream",
     "text": [
      "Enter working directory path: /Users/thepoetoftwilight/Documents/CASSI2020/CASSI2020-Code+Results/Results/m10q_res250/\n"
     ]
    }
   ],
   "source": [
    "# Specifying simulation directory and the directory to save results in\n",
    "wdir = str(input('Enter working directory path: '))\n",
    "\n",
    "# Specifying a snapshot for temporal analysis\n",
    "sdir = wdir + 'temporal_analysis/'\n",
    "\n",
    "# Specifying where to save plots\n",
    "savepath = '/Users/thepoetoftwilight/Documents/CASSI2020/CASSI2020-Animations_Background_Images/presentation_plots/'"
   ]
  },
  {
   "cell_type": "code",
   "execution_count": 25,
   "metadata": {},
   "outputs": [],
   "source": [
    "# Get all rendered indices\n",
    "\n",
    "rendered_df = pd.read_csv(sdir + 'rendered_snap_stats.csv')\n",
    "rendered_indices = rendered_df['snap'].to_list()\n",
    "redshifts = rendered_df['redshift'].to_list()\n",
    "num_snaps = len(rendered_indices)\n",
    "\n",
    "# Decide desired metal\n",
    "\n",
    "m = 'fe'\n",
    "spath_m = sdir + m + '/'"
   ]
  },
  {
   "cell_type": "code",
   "execution_count": 26,
   "metadata": {},
   "outputs": [],
   "source": [
    "times = np.array(rendered_df['time'])\n",
    "delta_times = np.max(times) - np.min(times)\n",
    "times_range = np.arange(np.min(times), np.max(times), 0.01)\n",
    "\n",
    "fit_params_df = pd.read_csv(spath_m + 'data/fit/fit_{}_params.csv'.format(m))\n",
    "\n",
    "spreads = np.array(fit_params_df['std'])\n",
    "delta_spreads = np.max(spreads) - np.min(spreads)\n",
    "spreads_range = np.arange(np.min(spreads), np.max(spreads), 0.01)\n",
    "\n",
    "medians = np.array(fit_params_df['median_mass'])\n",
    "delta_medians = np.max(medians) - np.min(medians)\n",
    "medians_range = np.arange(np.min(medians), np.max(medians), 0.01)\n",
    "\n",
    "mach_numbers = np.array(rendered_df['mach_number_mass'])"
   ]
  },
  {
   "cell_type": "code",
   "execution_count": 27,
   "metadata": {},
   "outputs": [],
   "source": [
    "def exp_fit(X, A, alpha):\n",
    "    Y = A*np.exp(alpha*X)\n",
    "    return Y"
   ]
  },
  {
   "cell_type": "code",
   "execution_count": 28,
   "metadata": {},
   "outputs": [],
   "source": [
    "eps = 0.005"
   ]
  },
  {
   "cell_type": "code",
   "execution_count": 22,
   "metadata": {},
   "outputs": [
    {
     "name": "stdout",
     "output_type": "stream",
     "text": [
      "[-1.84921622 -0.43793038]\n",
      "[ 0.1776432  -0.00232782]\n"
     ]
    }
   ],
   "source": [
    "fig, axs = plt.subplots(nrows = 2, ncols = 1, figsize = (25, 30), sharex = True)\n",
    "\n",
    "# Plot median\n",
    "\n",
    "ax = axs[0]\n",
    "\n",
    "B = np.max(medians) + eps\n",
    "\n",
    "shift_times = times - np.min(times)\n",
    "shift_medians = medians - B\n",
    "shift_medians_ratio = shift_medians[len(shift_medians)-1]/shift_medians[0]\n",
    "\n",
    "A = shift_medians[0]\n",
    "alpha = np.log(shift_medians_ratio)/delta_times\n",
    "\n",
    "guess_params = [A, alpha]\n",
    "\n",
    "fit_params, fit_covar = optimize.curve_fit(exp_fit, shift_times, shift_medians, p0 = guess_params)\n",
    "print(fit_params)\n",
    "\n",
    "shift_times_range = np.arange(np.min(shift_times), np.max(shift_times), 0.01)\n",
    "shift_fit_medians = exp_fit(shift_times_range, *fit_params)\n",
    "fit_medians = shift_fit_medians + B\n",
    "\n",
    "ax.scatter(times, medians, s = 100, label = 'Simulation', color = 'green', alpha = 0.5)\n",
    "ax.plot(times_range, fit_medians, color = 'green', lw = 8, label = 'Analytic Fit')\n",
    "\n",
    "ax.set_ylabel('Median Abundance', labelpad = 10, fontsize = 74)\n",
    "ax.set_title('[{}/H]'.format(m.title()), fontsize = 74)\n",
    "\n",
    "ax.tick_params(labelsize = 74, pad = 10)\n",
    "ax.yaxis.offsetText.set_fontsize(74)\n",
    "\n",
    "ax.legend(prop={'size': 74})\n",
    "\n",
    "# Plot spread\n",
    "\n",
    "ax = axs[1]\n",
    "\n",
    "B = np.min(spreads) - eps\n",
    "\n",
    "shift_times = times - np.min(times)\n",
    "shift_spreads = spreads - B\n",
    "shift_spreads_ratio = shift_spreads[len(shift_spreads)-1]/shift_spreads[0]\n",
    "\n",
    "A = shift_spreads[0]\n",
    "alpha = np.log(shift_spreads_ratio)/delta_times\n",
    "\n",
    "guess_params = [A, alpha]\n",
    "\n",
    "fit_params, fit_covar = optimize.curve_fit(exp_fit, shift_times, shift_spreads, p0 = guess_params)\n",
    "print(fit_params)\n",
    "\n",
    "shift_times_range = np.arange(np.min(shift_times), np.max(shift_times), 0.01)\n",
    "shift_fit_spreads = exp_fit(shift_times_range, *fit_params)\n",
    "fit_spreads = shift_fit_spreads + B\n",
    "\n",
    "ax.scatter(times, spreads, s = 100, color = 'green', alpha = 0.5)\n",
    "ax.plot(times_range, fit_spreads, color = 'green', lw = 8)\n",
    "\n",
    "ax.set_xlabel('Time (Gyr)', labelpad = 10, fontsize = 74)\n",
    "ax.set_ylabel('Abundance Spread', labelpad = 72, fontsize = 74)\n",
    "\n",
    "ax.tick_params(labelsize = 74, pad = 10)\n",
    "ax.yaxis.offsetText.set_fontsize(74)\n",
    "\n",
    "# Save file\n",
    "\n",
    "plt.savefig(savepath + 'abundance_time.png', bbox_inches='tight')\n",
    "plt.close()"
   ]
  },
  {
   "cell_type": "code",
   "execution_count": 29,
   "metadata": {},
   "outputs": [
    {
     "name": "stdout",
     "output_type": "stream",
     "text": [
      "[0.04190219 3.04975294]\n",
      "[  6.41687156 -11.50974455]\n"
     ]
    }
   ],
   "source": [
    "fig, axs = plt.subplots(nrows = 2, ncols = 1, figsize = (25, 30), sharex = True)\n",
    "\n",
    "# Turbulence and median abundance\n",
    "ax = axs[0]\n",
    "\n",
    "B = np.min(mach_numbers) - eps\n",
    "\n",
    "shift_medians = medians - np.min(medians)\n",
    "shift_mach_numbers = mach_numbers - B\n",
    "shift_mach_numbers_ratio = shift_mach_numbers[len(shift_mach_numbers)-1]/shift_mach_numbers[0]\n",
    "\n",
    "A = shift_mach_numbers[0]\n",
    "alpha = np.log(shift_mach_numbers_ratio)/delta_medians\n",
    "\n",
    "guess_params = [A, alpha]\n",
    "\n",
    "fit_params, fit_covar = optimize.curve_fit(exp_fit, shift_medians, shift_mach_numbers, p0 = guess_params)\n",
    "print(fit_params)\n",
    "\n",
    "shift_medians_range = np.arange(np.min(shift_medians), np.max(shift_medians), 0.01)\n",
    "shift_fit_mach_numbers = exp_fit(shift_medians_range, *fit_params)\n",
    "fit_mach_numbers = shift_fit_mach_numbers + B\n",
    "\n",
    "ax.scatter(mach_numbers, medians, s = 100, label = 'Simulation', color = 'red', alpha = 0.5)\n",
    "ax.plot(fit_mach_numbers, medians_range, color = 'red', lw = 8, label = 'Analytic Fit')\n",
    "\n",
    "ax.set_ylabel('Median Abundance', labelpad = 10, fontsize = 74)\n",
    "ax.set_title('[{}/H]'.format(m.title()), fontsize = 74)\n",
    "\n",
    "ax.tick_params(labelsize = 74, pad = 10)\n",
    "ax.yaxis.offsetText.set_fontsize(74)\n",
    "\n",
    "ax.legend(prop={'size': 74})\n",
    "\n",
    "# Turbulence and abundance spread\n",
    "\n",
    "ax = axs[1]\n",
    "\n",
    "B = np.min(mach_numbers) - eps\n",
    "\n",
    "shift_spreads = spreads - np.min(spreads)\n",
    "shift_mach_numbers = mach_numbers - B\n",
    "shift_mach_numbers_ratio = shift_mach_numbers[len(shift_mach_numbers)-1]/shift_mach_numbers[0]\n",
    "\n",
    "\n",
    "A = shift_mach_numbers[0]\n",
    "alpha = np.log(shift_mach_numbers_ratio)/delta_spreads\n",
    "\n",
    "guess_params = [A, alpha]\n",
    "\n",
    "fit_params, fit_covar = optimize.curve_fit(exp_fit, shift_spreads, shift_mach_numbers, p0 = guess_params)\n",
    "print(fit_params)\n",
    "\n",
    "shift_spreads_range = np.arange(np.min(shift_spreads), np.max(shift_spreads), 0.01)\n",
    "shift_fit_mach_numbers = exp_fit(shift_spreads_range, *fit_params)\n",
    "fit_mach_numbers = shift_fit_mach_numbers + B\n",
    "\n",
    "ax.scatter(mach_numbers, spreads, s = 100, color = 'red', alpha = 0.5)\n",
    "ax.plot(fit_mach_numbers, spreads_range, color = 'red', lw = 8)\n",
    "\n",
    "ax.set_xlabel('Mean Mach-Number', labelpad = 10, fontsize = 74)\n",
    "ax.set_ylabel('Abundance Spread', labelpad = 72, fontsize = 74)\n",
    "\n",
    "ax.tick_params(labelsize = 74, pad = 10)\n",
    "ax.yaxis.offsetText.set_fontsize(74)\n",
    "\n",
    "plt.savefig(savepath + 'turbulence-abundance.png', bbox_inches='tight')\n",
    "plt.close()"
   ]
  },
  {
   "cell_type": "code",
   "execution_count": null,
   "metadata": {},
   "outputs": [],
   "source": []
  }
 ],
 "metadata": {
  "kernelspec": {
   "display_name": "Python 3",
   "language": "python",
   "name": "python3"
  },
  "language_info": {
   "codemirror_mode": {
    "name": "ipython",
    "version": 3
   },
   "file_extension": ".py",
   "mimetype": "text/x-python",
   "name": "python",
   "nbconvert_exporter": "python",
   "pygments_lexer": "ipython3",
   "version": "3.7.6"
  }
 },
 "nbformat": 4,
 "nbformat_minor": 4
}
